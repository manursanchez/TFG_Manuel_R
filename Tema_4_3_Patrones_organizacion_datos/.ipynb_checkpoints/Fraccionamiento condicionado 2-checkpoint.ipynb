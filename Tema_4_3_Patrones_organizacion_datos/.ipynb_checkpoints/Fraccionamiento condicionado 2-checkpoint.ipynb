{
 "cells": [
  {
   "cell_type": "markdown",
   "metadata": {},
   "source": [
    "Lo que vamos a hacer en este segundo ejemplo de fraccionamiento condicionado es seleccionar las líneas donde en la publicación del foro aparezca una palabra; vamos a definir varias palabras a buscar, esto hará que conforme vaya entrando una línea la vaya introduciendo en su partición correspondiente. "
   ]
  },
  {
   "cell_type": "code",
   "execution_count": 10,
   "metadata": {},
   "outputs": [
    {
     "name": "stdout",
     "output_type": "stream",
     "text": [
      "Overwriting fracond2.py\n"
     ]
    }
   ],
   "source": [
    "%%writefile fracond2.py\n",
    "#!/usr/bin/env python\n",
    "\n",
    "from mrjob.job import MRJob\n",
    "import re\n",
    "\n",
    "class fracond2(MRJob):\n",
    "    def mapper(self,_, line):\n",
    "        linea=line.split(\";\") \n",
    "        publicacion=linea[4].split()\n",
    "        for valor in publicacion:\n",
    "            if valor==\"python\":\n",
    "                yield linea[0],valor\n",
    "            if valor==\"java\":\n",
    "                yield linea[0],valor\n",
    "            if valor==\"c++\":\n",
    "                yield linea[0],valor \n",
    "            if valor==\"assembler\":\n",
    "                yield linea[0],valor\n",
    "            if valor==\"html\":\n",
    "                yield linea[0],valor\n",
    "                \n",
    "    \"\"\"def reducer(self, key, values):\n",
    "        for valor in values:\n",
    "            yield key,valor\"\"\"\n",
    "\n",
    "if __name__ == '__main__':\n",
    "    fracond2.run()"
   ]
  },
  {
   "cell_type": "code",
   "execution_count": 11,
   "metadata": {},
   "outputs": [
    {
     "name": "stderr",
     "output_type": "stream",
     "text": [
      "No configs found; falling back on auto-configuration\n",
      "No configs specified for inline runner\n",
      "Creating temp directory C:\\Users\\MRSANC~1\\AppData\\Local\\Temp\\fracond2.mrsanchez.20200722.182341.783660\n",
      "Running step 1 of 1...\n",
      "job output is in C:\\Users\\MRSANC~1\\AppData\\Local\\Temp\\fracond2.mrsanchez.20200722.182341.783660\\output\n",
      "Streaming final output from C:\\Users\\MRSANC~1\\AppData\\Local\\Temp\\fracond2.mrsanchez.20200722.182341.783660\\output...\n",
      "Removing temp directory C:\\Users\\MRSANC~1\\AppData\\Local\\Temp\\fracond2.mrsanchez.20200722.182341.783660...\n"
     ]
    }
   ],
   "source": [
    "!python fracond2.py foros.csv > resultado"
   ]
  },
  {
   "cell_type": "code",
   "execution_count": null,
   "metadata": {},
   "outputs": [],
   "source": []
  }
 ],
 "metadata": {
  "kernelspec": {
   "display_name": "Python 3",
   "language": "python",
   "name": "python3"
  },
  "language_info": {
   "codemirror_mode": {
    "name": "ipython",
    "version": 3
   },
   "file_extension": ".py",
   "mimetype": "text/x-python",
   "name": "python",
   "nbconvert_exporter": "python",
   "pygments_lexer": "ipython3",
   "version": "3.7.6"
  }
 },
 "nbformat": 4,
 "nbformat_minor": 4
}
