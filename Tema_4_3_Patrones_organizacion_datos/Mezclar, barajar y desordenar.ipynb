{
 "cells": [
  {
   "cell_type": "markdown",
   "metadata": {},
   "source": [
    "En este ejemplo lo que vamos a hacer es mezclar o barajar(shuffling) los datos ordenados. Primero recogemos los datos en el map y cuando los pasamos al reducer los metemos en una lista y los desordenamos."
   ]
  },
  {
   "cell_type": "code",
   "execution_count": 1,
   "metadata": {},
   "outputs": [],
   "source": [
    "%config IPCompleter.greedy=True"
   ]
  },
  {
   "cell_type": "code",
   "execution_count": 10,
   "metadata": {},
   "outputs": [
    {
     "name": "stdout",
     "output_type": "stream",
     "text": [
      "Overwriting mezclar.py\n"
     ]
    }
   ],
   "source": [
    "%%writefile mezclar.py\n",
    "#!/usr/bin/env python\n",
    "\n",
    "from mrjob.job import MRJob\n",
    "import random\n",
    "import re\n",
    "\n",
    "class mezclar(MRJob):\n",
    "    def mapper(self,_, line):\n",
    "        linea=line.split(\";\") \n",
    "        encontrado=re.search('[a-zA-Z]',linea[0])#En este caso el campo 0 puede tener el nombre de la columna o campo\n",
    "        #Preguntamos si ha encontrado la expresion regular. Si no la ha encontrado, procesamos dato\n",
    "        if encontrado==None:#Si no encuentra la expresión regular entonces podemos procesarlo\n",
    "            yield _,linea\n",
    "  \n",
    "    def reducer(self, _, values):\n",
    "        listaRegistros=[]\n",
    "        for registro in values:\n",
    "            listaRegistros.append(registro)\n",
    "            \n",
    "        random.shuffle(listaRegistros,random.random)\n",
    "        \n",
    "        for record in listaRegistros:\n",
    "            yield _,record\n",
    "\n",
    "if __name__ == '__main__':\n",
    "    mezclar.run()\n"
   ]
  },
  {
   "cell_type": "code",
   "execution_count": 11,
   "metadata": {},
   "outputs": [
    {
     "name": "stderr",
     "output_type": "stream",
     "text": [
      "No configs found; falling back on auto-configuration\n",
      "No configs specified for inline runner\n",
      "Creating temp directory C:\\Users\\MRSANC~1\\AppData\\Local\\Temp\\mezclar.mrsanchez.20200727.164953.071949\n",
      "Running step 1 of 1...\n",
      "job output is in C:\\Users\\MRSANC~1\\AppData\\Local\\Temp\\mezclar.mrsanchez.20200727.164953.071949\\output\n",
      "Streaming final output from C:\\Users\\MRSANC~1\\AppData\\Local\\Temp\\mezclar.mrsanchez.20200727.164953.071949\\output...\n",
      "Removing temp directory C:\\Users\\MRSANC~1\\AppData\\Local\\Temp\\mezclar.mrsanchez.20200727.164953.071949...\n"
     ]
    }
   ],
   "source": [
    "!python mezclar.py ventas_ESP.csv > resultado"
   ]
  },
  {
   "cell_type": "markdown",
   "metadata": {},
   "source": [
    "En el siguiente ejemplo vamos a complicar más la cosa. Primero vamos a anonimizar los registros y despues los vamos a mezclar. Evidentemente para anonimizar los registros hemos de eliminar o quitar los datos que identifiquen a los usuarios, clientes, pacientes, etc. El origen no debemos tocarlo, por eso cuando entren los registros al map, dentro de este filtramos los campos que no queremos, y cuando lo hayamos pasado todo al reducer, éste los mezcla antes de sacarlos en un archivo."
   ]
  },
  {
   "cell_type": "code",
   "execution_count": 35,
   "metadata": {},
   "outputs": [
    {
     "name": "stdout",
     "output_type": "stream",
     "text": [
      "Overwriting anonimizar_y_mezclar.py\n"
     ]
    }
   ],
   "source": [
    "%%writefile anonimizar_y_mezclar.py\n",
    "#!/usr/bin/env python\n",
    "\n",
    "from mrjob.job import MRJob\n",
    "import random\n",
    "import re\n",
    "\n",
    "class anonimizar_y_mezclar(MRJob):\n",
    "    \n",
    "    #Inicializamos la estructura que nos permitirá contener los valores que nos llegan del Map\n",
    "    def mapper_init(self):\n",
    "        self.registros = []\n",
    "\n",
    "    def mapper(self,_, line):\n",
    "        linea=line.split(\";\") \n",
    "        encontrado=re.search('[a-zA-Z]',linea[0])#En este caso el campo 0 puede tener el nombre de la columna o campo\n",
    "        \n",
    "        #Preguntamos si ha encontrado la expresion regular. Si no la ha encontrado, procesamos dato\n",
    "        if encontrado==None:#Si no encuentra la expresión regular el campo es un número \n",
    "            #entonces podemos procesarlo\n",
    "            #Eliminamos los campos, pero cuidado por que los índices de la lista cambian conforme vamos eliminando campos\n",
    "            del(linea[6])\n",
    "            del(linea[6])\n",
    "            #Hay 7 campos, si elimino el campo 6, habrá 6 campos, por tanto el último, que era el 7 antes, pasará a ser el 6\n",
    "            #Por eso hago dos veces el del(linea[6]) para eliminar los dos campos últimos del registro\n",
    "            self.registros.append(linea)\n",
    "  \n",
    "    def mapper_final(self):\n",
    "        for registro in self.registros:\n",
    "            yield \"Registro: \", registro\n",
    "\n",
    "    def reducer(self, _, values):\n",
    "        listaRegistros=[]\n",
    "        for registro in values:\n",
    "            listaRegistros.append(registro)\n",
    "            \n",
    "        random.shuffle(listaRegistros,random.random) #Los barajo o mezclo\n",
    "        \n",
    "        for record in listaRegistros:\n",
    "            yield _,record\n",
    "\n",
    "if __name__ == '__main__':\n",
    "    anonimizar_y_mezclar.run()"
   ]
  },
  {
   "cell_type": "code",
   "execution_count": 36,
   "metadata": {},
   "outputs": [
    {
     "name": "stderr",
     "output_type": "stream",
     "text": [
      "No configs found; falling back on auto-configuration\n",
      "No configs specified for inline runner\n",
      "Creating temp directory C:\\Users\\MRSANC~1\\AppData\\Local\\Temp\\anonimizar_y_mezclar.mrsanchez.20200728.170355.997961\n",
      "Running step 1 of 1...\n",
      "job output is in C:\\Users\\MRSANC~1\\AppData\\Local\\Temp\\anonimizar_y_mezclar.mrsanchez.20200728.170355.997961\\output\n",
      "Streaming final output from C:\\Users\\MRSANC~1\\AppData\\Local\\Temp\\anonimizar_y_mezclar.mrsanchez.20200728.170355.997961\\output...\n",
      "Removing temp directory C:\\Users\\MRSANC~1\\AppData\\Local\\Temp\\anonimizar_y_mezclar.mrsanchez.20200728.170355.997961...\n"
     ]
    }
   ],
   "source": [
    "!python anonimizar_y_mezclar.py ventas_ESP.csv > resultado"
   ]
  },
  {
   "cell_type": "code",
   "execution_count": null,
   "metadata": {},
   "outputs": [],
   "source": []
  }
 ],
 "metadata": {
  "kernelspec": {
   "display_name": "Python 3",
   "language": "python",
   "name": "python3"
  },
  "language_info": {
   "codemirror_mode": {
    "name": "ipython",
    "version": 3
   },
   "file_extension": ".py",
   "mimetype": "text/x-python",
   "name": "python",
   "nbconvert_exporter": "python",
   "pygments_lexer": "ipython3",
   "version": "3.7.4"
  }
 },
 "nbformat": 4,
 "nbformat_minor": 4
}
