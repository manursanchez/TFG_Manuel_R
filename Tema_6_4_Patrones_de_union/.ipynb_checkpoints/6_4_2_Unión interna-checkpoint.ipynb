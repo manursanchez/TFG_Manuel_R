{
 "cells": [
  {
   "cell_type": "markdown",
   "metadata": {},
   "source": [
    "Capítulo 6\n",
    "\n",
    "6.4 Patrones de unión.\n",
    "\n",
    "6.4.2 Unión interna \n",
    "\n",
    "Prototipo para el concepto de unión interna"
   ]
  },
  {
   "cell_type": "code",
   "execution_count": 1,
   "metadata": {},
   "outputs": [
    {
     "name": "stdout",
     "output_type": "stream",
     "text": [
      "Writing unionInterna.py\n"
     ]
    }
   ],
   "source": [
    "%%writefile unionInterna.py\n",
    "#!/usr/bin/env python\n",
    "from mrjob.job import MRJob\n",
    "import re,os\n",
    "\n",
    "\n",
    "class unionInterna(MRJob):\n",
    "    def limpiarNombreArchivo(self,archivo):\n",
    "        encontradaBarra=False\n",
    "        tamano=len(archivo)\n",
    "        posicion=tamano-1\n",
    "        while encontradaBarra==False or posicion==0:\n",
    "            if archivo[posicion]==\"/\":\n",
    "                encontradaBarra=True\n",
    "                return archivo[posicion+1:tamano]\n",
    "            else:\n",
    "                posicion-=1\n",
    "        if posicion==0:\n",
    "            return archivo\n",
    "    \n",
    "    def mapper_init(self):\n",
    "        self.namefile=self.limpiarNombreArchivo(os.getenv('map_input_file')) \n",
    "        \n",
    "    def mapper(self,_,line):\n",
    "        clave=\"\"\n",
    "        linea=line.split(';')\n",
    "        encontrado=re.search('[a-zA-Z]',linea[0])\n",
    "        if encontrado==None:\n",
    "            if self.namefile==\"tiendas.csv\":\n",
    "                linea.append(self.namefile)\n",
    "                clave=linea[0] \n",
    "                yield clave,linea\n",
    "            else:\n",
    "                linea.append('art.csv') \n",
    "                clave=linea[1]\n",
    "                yield clave,linea\n",
    "        \n",
    "    def reducer(self,key,values):\n",
    "        listaA=[]\n",
    "        listaB=[]\n",
    "        #Llenamos las dos listas\n",
    "        for valor in values:\n",
    "            if valor[len(valor)-1]==\"tiendas.csv\":\n",
    "                listaA.append(valor)\n",
    "            else:\n",
    "                listaB.append(valor)\n",
    "        \n",
    "        ########## Union interna ###########\n",
    "        if listaA and listaB:\n",
    "            for valor_A in listaA:\n",
    "                for valor_B in listaB:\n",
    "                    yield key,(valor_A, valor_B)\n",
    "                    \n",
    "if __name__ == '__main__':\n",
    "    unionInterna.run()"
   ]
  },
  {
   "cell_type": "code",
   "execution_count": 2,
   "metadata": {},
   "outputs": [
    {
     "name": "stdout",
     "output_type": "stream",
     "text": [
      "No configs found; falling back on auto-configuration\n",
      "No configs specified for inline runner\n",
      "Creating temp directory /tmp/unionInterna.root.20201214.205845.464581\n",
      "Running step 1 of 1...\n",
      "job output is in /tmp/unionInterna.root.20201214.205845.464581/output\n",
      "Streaming final output from /tmp/unionInterna.root.20201214.205845.464581/output...\n",
      "\"3\"\t[[\"3\", \"Granada\", \"tiendas.csv\"], [\"1006\", \"3\", \"3\", \"art.csv\"]]\n",
      "\"3\"\t[[\"3\", \"Granada\", \"tiendas.csv\"], [\"1010\", \"3\", \"20\", \"art.csv\"]]\n",
      "\"2\"\t[[\"2\", \"Albacete\", \"tiendas.csv\"], [\"1002\", \"2\", \"10\", \"art.csv\"]]\n",
      "\"2\"\t[[\"2\", \"Albacete\", \"tiendas.csv\"], [\"1005\", \"2\", \"5\", \"art.csv\"]]\n",
      "\"2\"\t[[\"2\", \"Albacete\", \"tiendas.csv\"], [\"1008\", \"2\", \"5\", \"art.csv\"]]\n",
      "\"1\"\t[[\"1\", \"Santander\", \"tiendas.csv\"], [\"1001\", \"1\", \"20\", \"art.csv\"]]\n",
      "\"1\"\t[[\"1\", \"Santander\", \"tiendas.csv\"], [\"1003\", \"1\", \"15\", \"art.csv\"]]\n",
      "\"1\"\t[[\"1\", \"Santander\", \"tiendas.csv\"], [\"1007\", \"1\", \"8\", \"art.csv\"]]\n",
      "Removing temp directory /tmp/unionInterna.root.20201214.205845.464581...\n"
     ]
    }
   ],
   "source": [
    "!python unionInterna.py archivos_datos/tiendas-articulos/articulos_stock.csv archivos_datos/tiendas-articulos/tiendas.csv"
   ]
  },
  {
   "cell_type": "markdown",
   "metadata": {},
   "source": [
    "EJECUCIÓN EN EL CLUSTER:"
   ]
  },
  {
   "cell_type": "code",
   "execution_count": 3,
   "metadata": {},
   "outputs": [
    {
     "name": "stdout",
     "output_type": "stream",
     "text": [
      "No configs found; falling back on auto-configuration\n",
      "No configs specified for hadoop runner\n",
      "Looking for hadoop binary in /usr/lib/hadoop/bin...\n",
      "Found hadoop binary: /usr/lib/hadoop/bin/hadoop\n",
      "Using Hadoop version 2.6.0\n",
      "Looking for Hadoop streaming jar in /usr/lib/hadoop...\n",
      "Looking for Hadoop streaming jar in /usr/lib/hadoop-mapreduce...\n",
      "Found Hadoop streaming jar: /usr/lib/hadoop-mapreduce/hadoop-streaming.jar\n",
      "Creating temp directory /tmp/unionInterna.root.20201214.210701.380388\n",
      "uploading working dir files to hdfs:///user/root/tmp/mrjob/unionInterna.root.20201214.210701.380388/files/wd...\n",
      "Copying other local files to hdfs:///user/root/tmp/mrjob/unionInterna.root.20201214.210701.380388/files/\n",
      "Running step 1 of 1...\n",
      "  packageJobJar: [] [/usr/lib/hadoop-mapreduce/hadoop-streaming-2.6.0-cdh5.15.1.jar] /tmp/streamjob7111951983474809150.jar tmpDir=null\n",
      "  Connecting to ResourceManager at yarnmaster/172.18.0.7:8032\n",
      "  Connecting to ResourceManager at yarnmaster/172.18.0.7:8032\n",
      "  Total input paths to process : 2\n",
      "  number of splits:3\n",
      "  Submitting tokens for job: job_1607976389765_0006\n",
      "  Submitted application application_1607976389765_0006\n",
      "  The url to track the job: http://yarnmaster:8088/proxy/application_1607976389765_0006/\n",
      "  Running job: job_1607976389765_0006\n",
      "  Job job_1607976389765_0006 running in uber mode : false\n",
      "   map 0% reduce 0%\n",
      "   map 67% reduce 0%\n",
      "   map 89% reduce 0%\n",
      "   map 100% reduce 0%\n",
      "   map 100% reduce 100%\n",
      "  Job job_1607976389765_0006 completed successfully\n",
      "  Output directory: hdfs:///user/root/tmp/mrjob/unionInterna.root.20201214.210701.380388/output\n",
      "Counters: 49\n",
      "\tFile Input Format Counters \n",
      "\t\tBytes Read=225\n",
      "\tFile Output Format Counters \n",
      "\t\tBytes Written=565\n",
      "\tFile System Counters\n",
      "\t\tFILE: Number of bytes read=528\n",
      "\t\tFILE: Number of bytes written=594609\n",
      "\t\tFILE: Number of large read operations=0\n",
      "\t\tFILE: Number of read operations=0\n",
      "\t\tFILE: Number of write operations=0\n",
      "\t\tHDFS: Number of bytes read=538\n",
      "\t\tHDFS: Number of bytes written=565\n",
      "\t\tHDFS: Number of large read operations=0\n",
      "\t\tHDFS: Number of read operations=12\n",
      "\t\tHDFS: Number of write operations=2\n",
      "\tJob Counters \n",
      "\t\tData-local map tasks=3\n",
      "\t\tLaunched map tasks=3\n",
      "\t\tLaunched reduce tasks=1\n",
      "\t\tTotal megabyte-milliseconds taken by all map tasks=549512192\n",
      "\t\tTotal megabyte-milliseconds taken by all reduce tasks=13224960\n",
      "\t\tTotal time spent by all map tasks (ms)=536633\n",
      "\t\tTotal time spent by all maps in occupied slots (ms)=536633\n",
      "\t\tTotal time spent by all reduce tasks (ms)=12915\n",
      "\t\tTotal time spent by all reduces in occupied slots (ms)=12915\n",
      "\t\tTotal vcore-milliseconds taken by all map tasks=536633\n",
      "\t\tTotal vcore-milliseconds taken by all reduce tasks=12915\n",
      "\tMap-Reduce Framework\n",
      "\t\tCPU time spent (ms)=11250\n",
      "\t\tCombine input records=0\n",
      "\t\tCombine output records=0\n",
      "\t\tFailed Shuffles=0\n",
      "\t\tGC time elapsed (ms)=2652\n",
      "\t\tInput split bytes=313\n",
      "\t\tMap input records=16\n",
      "\t\tMap output bytes=494\n",
      "\t\tMap output materialized bytes=540\n",
      "\t\tMap output records=14\n",
      "\t\tMerged Map outputs=3\n",
      "\t\tPhysical memory (bytes) snapshot=961064960\n",
      "\t\tReduce input groups=6\n",
      "\t\tReduce input records=14\n",
      "\t\tReduce output records=8\n",
      "\t\tReduce shuffle bytes=540\n",
      "\t\tShuffled Maps =3\n",
      "\t\tSpilled Records=28\n",
      "\t\tTotal committed heap usage (bytes)=848297984\n",
      "\t\tVirtual memory (bytes) snapshot=10517159936\n",
      "\tShuffle Errors\n",
      "\t\tBAD_ID=0\n",
      "\t\tCONNECTION=0\n",
      "\t\tIO_ERROR=0\n",
      "\t\tWRONG_LENGTH=0\n",
      "\t\tWRONG_MAP=0\n",
      "\t\tWRONG_REDUCE=0\n",
      "job output is in hdfs:///user/root/tmp/mrjob/unionInterna.root.20201214.210701.380388/output\n",
      "Streaming final output from hdfs:///user/root/tmp/mrjob/unionInterna.root.20201214.210701.380388/output...\n",
      "\"1\"\t[[\"1\", \"Santander\", \"tiendas.csv\"], [\"1007\", \"1\", \"8\", \"art.csv\"]]\n",
      "\"1\"\t[[\"1\", \"Santander\", \"tiendas.csv\"], [\"1003\", \"1\", \"15\", \"art.csv\"]]\n",
      "\"1\"\t[[\"1\", \"Santander\", \"tiendas.csv\"], [\"1001\", \"1\", \"20\", \"art.csv\"]]\n",
      "\"2\"\t[[\"2\", \"Albacete\", \"tiendas.csv\"], [\"1005\", \"2\", \"5\", \"art.csv\"]]\n",
      "\"2\"\t[[\"2\", \"Albacete\", \"tiendas.csv\"], [\"1002\", \"2\", \"10\", \"art.csv\"]]\n",
      "\"2\"\t[[\"2\", \"Albacete\", \"tiendas.csv\"], [\"1008\", \"2\", \"5\", \"art.csv\"]]\n",
      "\"3\"\t[[\"3\", \"Granada\", \"tiendas.csv\"], [\"1006\", \"3\", \"3\", \"art.csv\"]]\n",
      "\"3\"\t[[\"3\", \"Granada\", \"tiendas.csv\"], [\"1010\", \"3\", \"20\", \"art.csv\"]]\n",
      "Removing HDFS temp directory hdfs:///user/root/tmp/mrjob/unionInterna.root.20201214.210701.380388...\n",
      "Removing temp directory /tmp/unionInterna.root.20201214.210701.380388...\n"
     ]
    }
   ],
   "source": [
    "!python unionInterna.py hdfs:///archivos_datos/articulos_stock.csv hdfs:///archivos_datos/tiendas.csv -r hadoop --python-bin /opt/anaconda/bin/python3.7"
   ]
  },
  {
   "cell_type": "code",
   "execution_count": null,
   "metadata": {},
   "outputs": [],
   "source": []
  }
 ],
 "metadata": {
  "kernelspec": {
   "display_name": "Python 3",
   "language": "python",
   "name": "python3"
  },
  "language_info": {
   "codemirror_mode": {
    "name": "ipython",
    "version": 3
   },
   "file_extension": ".py",
   "mimetype": "text/x-python",
   "name": "python",
   "nbconvert_exporter": "python",
   "pygments_lexer": "ipython3",
   "version": "3.7.3"
  }
 },
 "nbformat": 4,
 "nbformat_minor": 4
}
