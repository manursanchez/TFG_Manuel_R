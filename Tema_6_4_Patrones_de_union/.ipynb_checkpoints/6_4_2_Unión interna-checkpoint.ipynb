{
 "cells": [
  {
   "cell_type": "markdown",
   "metadata": {},
   "source": [
    "Capítulo 6\n",
    "\n",
    "6.4 Patrones de unión.\n",
    "\n",
    "6.4.2 Unión interna \n",
    "\n",
    "Prototipo para el concepto de unión interna"
   ]
  },
  {
   "cell_type": "code",
   "execution_count": 1,
   "metadata": {},
   "outputs": [
    {
     "name": "stdout",
     "output_type": "stream",
     "text": [
      "Overwriting unionInterna.py\n"
     ]
    }
   ],
   "source": [
    "%%writefile unionInterna.py\n",
    "#!/usr/bin/env python\n",
    "from mrjob.job import MRJob\n",
    "import re,os\n",
    "\n",
    "\n",
    "class unionInterna(MRJob):\n",
    "    \n",
    "    def limpiarNombreArchivo(self,archivo):\n",
    "        encontradaBarra=False\n",
    "        tamano=len(archivo)\n",
    "        posicion=tamano-1\n",
    "        while encontradaBarra==False or posicion==0:\n",
    "            if archivo[posicion]==\"/\":\n",
    "                encontradaBarra=True\n",
    "                return archivo[posicion+1:tamano]\n",
    "            else:\n",
    "                posicion-=1\n",
    "        if posicion==0:\n",
    "            return archivo\n",
    "    \n",
    "    def mapper_init(self):\n",
    "        self.namefile=self.limpiarNombreArchivo(os.getenv('map_input_file')) \n",
    "        \n",
    "    def mapper(self,_,line):\n",
    "        clave=\"\"\n",
    "        linea=line.split(';')\n",
    "        encontrado=re.search('[a-zA-Z]',linea[0])\n",
    "        if encontrado==None:\n",
    "            if self.namefile==\"tiendas.csv\":\n",
    "                linea.append(self.namefile)\n",
    "                clave=linea[0] \n",
    "                yield clave,linea\n",
    "            else:\n",
    "                linea.append(self.namefile) \n",
    "                clave=linea[1]\n",
    "                yield clave,linea\n",
    "        \n",
    "    def reducer(self,key,values):\n",
    "        listaA=[]\n",
    "        listaB=[]\n",
    "        #Llenamos las dos listas\n",
    "        for valor in values:\n",
    "            if valor[len(valor)-1]==\"tiendas.csv\":\n",
    "                listaA.append(valor)\n",
    "            else:\n",
    "                listaB.append(valor)\n",
    "        \n",
    "        ########## Union interna ###########\n",
    "        if listaA and listaB:\n",
    "            for valor_A in listaA:\n",
    "                for valor_B in listaB:\n",
    "                    yield key,(valor_A, valor_B)\n",
    "if __name__ == '__main__':\n",
    "    unionInterna.run()"
   ]
  },
  {
   "cell_type": "code",
   "execution_count": 2,
   "metadata": {},
   "outputs": [
    {
     "name": "stdout",
     "output_type": "stream",
     "text": [
      "\"1\"\t[[\"1\",\"Santander\",\"tiendas.csv\"],[\"1001\",\"1\",\"20\",\"articulos_stock.csv\"]]\n",
      "\"1\"\t[[\"1\",\"Santander\",\"tiendas.csv\"],[\"1003\",\"1\",\"15\",\"articulos_stock.csv\"]]\n",
      "\"1\"\t[[\"1\",\"Santander\",\"tiendas.csv\"],[\"1007\",\"1\",\"8\",\"articulos_stock.csv\"]]\n",
      "\"2\"\t[[\"2\",\"M\\u00e9rida\",\"tiendas.csv\"],[\"1002\",\"2\",\"10\",\"articulos_stock.csv\"]]\n",
      "\"2\"\t[[\"2\",\"M\\u00e9rida\",\"tiendas.csv\"],[\"1005\",\"2\",\"5\",\"articulos_stock.csv\"]]\n",
      "\"2\"\t[[\"2\",\"M\\u00e9rida\",\"tiendas.csv\"],[\"1008\",\"2\",\"5\",\"articulos_stock.csv\"]]\n",
      "\"3\"\t[[\"3\",\"Granada\",\"tiendas.csv\"],[\"1006\",\"3\",\"3\",\"articulos_stock.csv\"]]\n",
      "\"3\"\t[[\"3\",\"Granada\",\"tiendas.csv\"],[\"1010\",\"3\",\"20\",\"articulos_stock.csv\"]]\n"
     ]
    },
    {
     "name": "stderr",
     "output_type": "stream",
     "text": [
      "No configs found; falling back on auto-configuration\n",
      "No configs specified for inline runner\n",
      "Creating temp directory C:\\Users\\MRSANC~1\\AppData\\Local\\Temp\\unionInterna.mrsanchez.20201203.145427.659487\n",
      "Running step 1 of 1...\n",
      "job output is in C:\\Users\\MRSANC~1\\AppData\\Local\\Temp\\unionInterna.mrsanchez.20201203.145427.659487\\output\n",
      "Streaming final output from C:\\Users\\MRSANC~1\\AppData\\Local\\Temp\\unionInterna.mrsanchez.20201203.145427.659487\\output...\n",
      "Removing temp directory C:\\Users\\MRSANC~1\\AppData\\Local\\Temp\\unionInterna.mrsanchez.20201203.145427.659487...\n"
     ]
    }
   ],
   "source": [
    "!python unionInterna.py archivos_datos/articulos_stock.csv archivos_datos/tiendas.csv"
   ]
  },
  {
   "cell_type": "code",
   "execution_count": null,
   "metadata": {},
   "outputs": [],
   "source": []
  }
 ],
 "metadata": {
  "kernelspec": {
   "display_name": "Python 3",
   "language": "python",
   "name": "python3"
  },
  "language_info": {
   "codemirror_mode": {
    "name": "ipython",
    "version": 3
   },
   "file_extension": ".py",
   "mimetype": "text/x-python",
   "name": "python",
   "nbconvert_exporter": "python",
   "pygments_lexer": "ipython3",
   "version": "3.8.5"
  }
 },
 "nbformat": 4,
 "nbformat_minor": 4
}
