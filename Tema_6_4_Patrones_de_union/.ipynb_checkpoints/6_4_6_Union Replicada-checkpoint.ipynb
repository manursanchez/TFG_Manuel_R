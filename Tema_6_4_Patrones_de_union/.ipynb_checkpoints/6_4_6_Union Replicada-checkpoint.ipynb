{
 "cells": [
  {
   "cell_type": "markdown",
   "metadata": {},
   "source": []
  },
  {
   "cell_type": "code",
   "execution_count": 16,
   "metadata": {},
   "outputs": [
    {
     "name": "stdout",
     "output_type": "stream",
     "text": [
      "Overwriting unionReplicadaV5.py\n"
     ]
    }
   ],
   "source": [
    "%%writefile unionReplicada.py\n",
    "#!/usr/bin/python\n",
    "\n",
    "import re\n",
    "from mrjob.job import MRJob\n",
    "\n",
    "def cargarFicheroEnMemoria(self,fichero):\n",
    "    diccionario={}\n",
    "    with open(fichero) as f:\n",
    "        self.tablaEnMemoria = set(line.strip() for line in f)\n",
    "    for linea in self.tablaEnMemoria:\n",
    "        #Para que no tenga en cuenta las cabeceras de las tablas\n",
    "        encontrado=re.search('[a-zA-Z]',linea[0])\n",
    "        if encontrado==None:\n",
    "            datos = linea.split(\";\")\n",
    "            diccionario[datos[0]]=datos\n",
    "    return diccionario\n",
    "\n",
    "class unionReplicada(MRJob):\n",
    "    FILES = ['archivos_datos/tiendas.csv']\n",
    "    fichero='tiendas.csv'    \n",
    "    def mapper_init(self):\n",
    "        #Nos devuelve la estructura diccionario rellena con los datos del fichero\n",
    "        self.dicTablaA=cargarFicheroEnMemoria(self,self.fichero) \n",
    "       \n",
    "    def mapper(self,_,line):\n",
    "        self.linea=line.split(';')\n",
    "        encontrado=re.search('[a-zA-Z]',self.linea[0])#Para que no tenga en cuenta las cabeceras de las tablas\n",
    "        if encontrado==None:\n",
    "            #Aplicamos algoritmo: \n",
    "            self.clave=self.linea[1] #Se extrae la clave del fichero que entra por línea de comandos \n",
    "             # Se comprueba que la clave del fichero de entrada esté en el diccionario\n",
    "            if self.clave in self.dicTablaA: #Si encuentra la clave en el diccionario unimos y cedemos (yield) resultado\n",
    "                yield self.clave,(self.linea,self.dicTablaA.get(self.clave) )\n",
    "            else:#Si no está, sacamos la línea del archivo pero sin su complementario del diccionario de memoria. Uniòn por la izquierda.\n",
    "                yield self.clave,(self.linea,\"null\")\n",
    "                \n",
    "if __name__ == '__main__':\n",
    "    unionReplicada.run()"
   ]
  },
  {
   "cell_type": "code",
   "execution_count": 18,
   "metadata": {},
   "outputs": [
    {
     "name": "stderr",
     "output_type": "stream",
     "text": [
      "No configs found; falling back on auto-configuration\n",
      "No configs specified for inline runner\n",
      "Creating temp directory C:\\Users\\cyber\\AppData\\Local\\Temp\\unionReplicadaV5.manuel.20201205.194147.851299\n",
      "Running step 1 of 1...\n",
      "job output is in C:\\Users\\cyber\\AppData\\Local\\Temp\\unionReplicadaV5.manuel.20201205.194147.851299\\output\n",
      "Streaming final output from C:\\Users\\cyber\\AppData\\Local\\Temp\\unionReplicadaV5.manuel.20201205.194147.851299\\output...\n",
      "Removing temp directory C:\\Users\\cyber\\AppData\\Local\\Temp\\unionReplicadaV5.manuel.20201205.194147.851299...\n"
     ]
    }
   ],
   "source": [
    "!python unionReplicada.py archivos_datos/articulos_stock.csv archivos_datos/articulos_stock2.csv > unionReplicadaV5.txt"
   ]
  },
  {
   "cell_type": "markdown",
   "metadata": {},
   "source": [
    "Versión 6 funciona - Utilizando herramientas de test y creando un objeto MRJob intento pasarle el diccionario ya relleno al constructor de la clase unionReplicada V6, me aparece un error de argumentos, si lo hago con un archivo funciona, si le mando un diccionario da error. EDITO 15/09/2020 --> Ya que me funciona el algoritmo de la versión 5, voy a desarrollar esta versión de test, que me parece muy interesante sobre todo cuando quiero hacer uniones replicadas de varios archivos usando solo una estructura en memoria; puedo crear un ejemplo claro de ejecución de varios runner. EDITO 17/09/2020 --> Consigo que el algoritmo funcione mediante llamada al objeto MRJob."
   ]
  },
  {
   "cell_type": "code",
   "execution_count": 41,
   "metadata": {},
   "outputs": [
    {
     "name": "stdout",
     "output_type": "stream",
     "text": [
      "Overwriting testUnionReplicadaV2.py\n"
     ]
    }
   ],
   "source": [
    "%%writefile testUnionReplicadaV2.py\n",
    "import unittest\n",
    "import re\n",
    "from unionReplicadaV2 import unionReplicadaV2\n",
    "\n",
    "class TestReplicatedJoin(unittest.TestCase):\n",
    "        \n",
    "    def setUp(self):\n",
    "        #Archivo para la unión\n",
    "        self.archivo = \"archivos_datos/tablaB.csv\"\n",
    "        \n",
    "        \"\"\"#self.archivo=\"clientes.csv\"\n",
    "        self.archivo = \"ventas.csv\"\n",
    "        self.diccionario={}\n",
    "        with open(self.archivo) as f:\n",
    "            self.tablaEnMemoria = set(line.strip() for line in f)\n",
    "        for linea in self.tablaEnMemoria:\n",
    "            encontrado=re.search('[a-zA-Z]',linea[0])#Para que no tenga en cuenta las cabeceras de las tablas\n",
    "            if encontrado==None:\n",
    "                datos = linea.split(\";\")\n",
    "                self.diccionario[datos[0]]=datos\"\"\"\n",
    "        \n",
    "        #print (\"Diccionario relleno: \",self.diccionario) #Veo si el diccionario está relleno\n",
    "        \n",
    "    def test_rj(self):\n",
    "        #self.archivo2=json.dumps(self.diccionario)\n",
    "        mr_job = unionReplicadaV2(['--runner=inline',self.archivo])#Mando al objeto \n",
    "                                                                   #MRJOB el diccionario.\n",
    "                                                                    #ERROR. Si pongo un\n",
    "                                                                    #archivo, sí funciona.\n",
    "        with mr_job.make_runner() as runner: #Ejecuto el MRJob\n",
    "            runner.run()\n",
    "            for key,value in mr_job.parse_output(runner.cat_output()):\n",
    "                print (key,value) \n",
    "            \n",
    "if __name__ == '__main__':\n",
    "    unittest.main()"
   ]
  },
  {
   "cell_type": "code",
   "execution_count": 42,
   "metadata": {},
   "outputs": [
    {
     "name": "stdout",
     "output_type": "stream",
     "text": [
      "Overwriting unionReplicadaV2.py\n"
     ]
    }
   ],
   "source": [
    "%%writefile unionReplicadaV2.py\n",
    "#!/usr/bin/python\n",
    "\n",
    "import re\n",
    "from mrjob.job import MRJob\n",
    "# Método para cargar el fichero en memoria\n",
    "def cargarFicheroEnMemoria(self,fichero):\n",
    "    diccionario={}\n",
    "    with open(fichero) as f:\n",
    "        self.tablaEnMemoria = set(line.strip() for line in f)\n",
    "    for linea in self.tablaEnMemoria:\n",
    "        #Para que no tenga en cuenta las cabeceras de las tablas\n",
    "        encontrado=re.search('[a-zA-Z]',linea[0])\n",
    "        if encontrado==None:\n",
    "            datos = linea.split(\";\")\n",
    "            diccionario[datos[0]]=datos\n",
    "    return diccionario\n",
    "class unionReplicadaV2(MRJob):\n",
    "    \n",
    "    #archivo para cargarlo en memoria en forma de diccionario\n",
    "    FILES = ['archivos_datos\\\\tablaA.csv']\n",
    "    fichero='tablaA.csv'    \n",
    "    def mapper_init(self):\n",
    "        #Nos devuelve la estructura diccionario rellena con los datos del fichero\n",
    "        self.dicTablaA=cargarFicheroEnMemoria(self,self.fichero)\n",
    "    \n",
    "    def mapper(self,_,line):\n",
    "        self.linea=line.split(';')\n",
    "        encontrado=re.search('[a-zA-Z]',self.linea[0])#Para que no tenga en cuenta las cabeceras de las tablas\n",
    "        if encontrado==None:\n",
    "            #Aplicamos algoritmo: \n",
    "            self.clave=self.linea[0] #Se extrae la clave del fichero que llega desde el RUNNER\n",
    "             # Se comprueba que la clave del fichero de entrada esté en el diccionario\n",
    "            if self.clave in self.dicTablaA: #Si encuentra la clave en el diccionario unimos y cedemos (yield) resultado\n",
    "                yield self.clave,(self.linea,self.dicTablaA.get(self.clave) )\n",
    "            else:#Si no está, sacamos la línea del archivo pero sin su complementario del diccionario de memoria. Uniòn por la izquierda.\n",
    "                yield self.clave,(self.linea,\"null\")\n",
    "            \n",
    "if __name__ == '__main__':\n",
    "    unionReplicadaV2.run()"
   ]
  },
  {
   "cell_type": "code",
   "execution_count": 43,
   "metadata": {},
   "outputs": [
    {
     "name": "stdout",
     "output_type": "stream",
     "text": [
      "3 [['3', '35314', 'Esto es texto del post'], ['3', '3738', 'New York,NY']]\n",
      "3 [['3', '44002', 'Esto es mas texto aun'], ['3', '3738', 'New York,NY']]\n",
      "5 [['5', '44921', 'Aqui digo otra cosa'], ['5', '17556', 'San Diego, CA']]\n",
      "5 [['5', '44920', 'Otra cosa que que se dice'], ['5', '17556', 'San Diego, CA']]\n",
      "8 [['8', '48675', 'Decimos muchas cosas, es impresionante'], 'null']\n"
     ]
    },
    {
     "name": "stderr",
     "output_type": "stream",
     "text": [
      "FILES: archivos_datos\\tablaA.csv will appear in same directory as job script, not a subdirectory\n",
      "FILES: archivos_datos\\tablaA.csv will appear in same directory as job script, not a subdirectory\n",
      "No configs specified for inline runner\n",
      ".\n",
      "----------------------------------------------------------------------\n",
      "Ran 1 test in 0.155s\n",
      "\n",
      "OK\n"
     ]
    }
   ],
   "source": [
    "!python testUnionReplicadaV2.py"
   ]
  },
  {
   "cell_type": "code",
   "execution_count": null,
   "metadata": {},
   "outputs": [],
   "source": []
  }
 ],
 "metadata": {
  "kernelspec": {
   "display_name": "Python 3",
   "language": "python",
   "name": "python3"
  },
  "language_info": {
   "codemirror_mode": {
    "name": "ipython",
    "version": 3
   },
   "file_extension": ".py",
   "mimetype": "text/x-python",
   "name": "python",
   "nbconvert_exporter": "python",
   "pygments_lexer": "ipython3",
   "version": "3.7.4"
  }
 },
 "nbformat": 4,
 "nbformat_minor": 4
}
