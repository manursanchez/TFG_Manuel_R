{
 "cells": [
  {
   "cell_type": "markdown",
   "metadata": {},
   "source": [
    "Capítulo 6\n",
    "\n",
    "6.4 Patrones de unión.\n",
    "\n",
    "6.4.6 Unión replicada \n",
    "\n",
    "Prototipo en el que cargamos la primera tabla en memoria, y posteriomente metemos por línea de comandos todos las tablas que queramos unir a esa primera tabla. Las uniones que se producen pueden ser internas y/o externas por la izquierda. "
   ]
  },
  {
   "cell_type": "code",
   "execution_count": 18,
   "metadata": {},
   "outputs": [
    {
     "name": "stdout",
     "output_type": "stream",
     "text": [
      "Overwriting unionReplicada.py\n"
     ]
    }
   ],
   "source": [
    "%%writefile unionReplicada.py\n",
    "#!/usr/bin/python\n",
    "from mrjob.job import MRJob\n",
    "import re\n",
    "\n",
    "def cargarFicheroEnMemoria(self,fichero):\n",
    "    diccionario={}\n",
    "    with open(fichero) as f:\n",
    "        self.tablaEnMemoria = set(line.strip() for line in f)\n",
    "    for linea in self.tablaEnMemoria:\n",
    "        #Para que no tenga en cuenta las cabeceras de las tablas\n",
    "        encontrado=re.search('[a-zA-Z]',linea[0])\n",
    "        if encontrado==None:\n",
    "            datos = linea.split(\";\")\n",
    "            diccionario[datos[0]]=datos\n",
    "    return diccionario\n",
    "\n",
    "class unionReplicada(MRJob):\n",
    "   \n",
    "    FILES = ['archivos_datos/tiendas-articulos/tiendas.csv']\n",
    "    fichero='tiendas.csv'    \n",
    "    def mapper_init(self):\n",
    "        #Nos devuelve la estructura diccionario rellena con los datos del fichero\n",
    "        self.dicTablaA=cargarFicheroEnMemoria(self,self.fichero) \n",
    "       \n",
    "    def mapper(self,_,line):\n",
    "        self.linea=line.split(';')\n",
    "        encontrado=re.search('[a-zA-Z]',self.linea[0])\n",
    "        if encontrado==None:\n",
    "            self.clave=self.linea[1] #Compara Clave de la tabla/s del stream \n",
    "            if self.clave in self.dicTablaA: \n",
    "                yield self.clave,(self.linea,self.dicTablaA.get(self.clave) )\n",
    "            else:\n",
    "                yield self.clave,(self.linea,\"null\")\n",
    "                \n",
    "if __name__ == '__main__':\n",
    "    unionReplicada.run()"
   ]
  },
  {
   "cell_type": "code",
   "execution_count": 19,
   "metadata": {},
   "outputs": [
    {
     "name": "stderr",
     "output_type": "stream",
     "text": [
      "No configs found; falling back on auto-configuration\n",
      "No configs specified for inline runner\n",
      "Creating temp directory C:\\Users\\cyber\\AppData\\Local\\Temp\\unionReplicada.manuel.20201206.202113.958286\n",
      "Running step 1 of 1...\n",
      "job output is in C:\\Users\\cyber\\AppData\\Local\\Temp\\unionReplicada.manuel.20201206.202113.958286\\output\n",
      "Streaming final output from C:\\Users\\cyber\\AppData\\Local\\Temp\\unionReplicada.manuel.20201206.202113.958286\\output...\n",
      "Removing temp directory C:\\Users\\cyber\\AppData\\Local\\Temp\\unionReplicada.manuel.20201206.202113.958286...\n"
     ]
    }
   ],
   "source": [
    "!python unionReplicada.py archivos_datos/tiendas-articulos/articulos_stock.csv > unionReplicadaV5.txt"
   ]
  },
  {
   "cell_type": "markdown",
   "metadata": {},
   "source": [
    "Capítulo 6\n",
    "\n",
    "6.4 Patrones de unión.\n",
    "\n",
    "6.4.6 Unión replicada \n",
    "\n",
    "Prototipo 2 - Utilizando herramientas de test y creando un objeto MRJob le pasamos el archivo a unir con el diccionario ya relleno en unionReplicadaV2."
   ]
  },
  {
   "cell_type": "code",
   "execution_count": 1,
   "metadata": {},
   "outputs": [
    {
     "name": "stdout",
     "output_type": "stream",
     "text": [
      "Overwriting testUnionReplicadaV2.py\n"
     ]
    }
   ],
   "source": [
    "%%writefile testUnionReplicadaV2.py\n",
    "import unittest\n",
    "import re\n",
    "from unionReplicadaV2 import unionReplicadaV2\n",
    "\n",
    "class TestReplicatedJoin(unittest.TestCase):\n",
    "        \n",
    "    def setUp(self):\n",
    "        #Archivo para la unión \n",
    "        self.archivo = \"archivos_datos/tablaB.csv\"\n",
    "        self.archivo2=\"archivos_datos/tablaA.csv\"\n",
    "    def test_rj(self):\n",
    "        \n",
    "        mr_job = unionReplicadaV2(['--runner=inline',self.archivo])\n",
    "        with mr_job.make_runner() as runner: #Ejecuto el MRJob\n",
    "            runner.run()\n",
    "            for key,value in mr_job.parse_output(runner.cat_output()):\n",
    "                print (key,value)\n",
    "        \n",
    "if __name__ == '__main__':\n",
    "    unittest.main()"
   ]
  },
  {
   "cell_type": "code",
   "execution_count": 74,
   "metadata": {},
   "outputs": [
    {
     "name": "stdout",
     "output_type": "stream",
     "text": [
      "Overwriting unionReplicadaV2.py\n"
     ]
    }
   ],
   "source": [
    "%%writefile unionReplicadaV2.py\n",
    "#!/usr/bin/python\n",
    "\n",
    "import re\n",
    "from mrjob.job import MRJob\n",
    "# Método para cargar el fichero en memoria\n",
    "def cargarFicheroEnMemoria(self,fichero):\n",
    "    diccionario={}\n",
    "    with open(fichero) as f:\n",
    "        self.tablaEnMemoria = set(line.strip() for line in f)\n",
    "    for linea in self.tablaEnMemoria:\n",
    "        #Para que no tenga en cuenta las cabeceras de las tablas\n",
    "        encontrado=re.search('[a-zA-Z]',linea[0])\n",
    "        if encontrado==None:\n",
    "            datos = linea.split(\";\")\n",
    "            diccionario[datos[0]]=datos\n",
    "    return diccionario\n",
    "class unionReplicadaV2(MRJob):\n",
    "    #archivo para cargarlo en memoria en forma de diccionario\n",
    "    FILES = ['archivos_datos\\\\tablaA.csv']\n",
    "    fichero='tablaA.csv'    \n",
    "    def mapper_init(self):\n",
    "        #Nos devuelve la estructura diccionario rellena con los datos del fichero\n",
    "        self.dicTablaA=cargarFicheroEnMemoria(self,self.fichero)\n",
    "    \n",
    "    def mapper(self,_,line):\n",
    "        self.linea=line.split(';')\n",
    "        encontrado=re.search('[a-zA-Z]',self.linea[0])#Para que no tenga en cuenta las cabeceras de las tablas\n",
    "        if encontrado==None:\n",
    "            #Aplicamos algoritmo: \n",
    "            self.clave=self.linea[0] #Se extrae la clave del fichero que llega desde el RUNNER\n",
    "             # Se comprueba que la clave del fichero de entrada esté en el diccionario\n",
    "            if self.clave in self.dicTablaA: #Si encuentra la clave en el diccionario unimos y cedemos (yield) resultado\n",
    "                yield self.clave,(self.linea,self.dicTablaA.get(self.clave) )\n",
    "            else:#Si no está, sacamos la línea del archivo pero sin su complementario del diccionario de memoria. Uniòn por la izquierda.\n",
    "                yield self.clave,(self.linea,\"null\")\n",
    "            \n",
    "if __name__ == '__main__':\n",
    "    unionReplicadaV2.run()"
   ]
  },
  {
   "cell_type": "code",
   "execution_count": 75,
   "metadata": {},
   "outputs": [
    {
     "name": "stdout",
     "output_type": "stream",
     "text": [
      "3 [['3', '35314', 'Esto es texto del post'], ['3', '3738', 'New York,NY']]\n",
      "3 [['3', '44002', 'Esto es mas texto aun'], ['3', '3738', 'New York,NY']]\n",
      "5 [['5', '44921', 'Aqui digo otra cosa'], ['5', '17556', 'San Diego, CA']]\n",
      "5 [['5', '44920', 'Otra cosa que que se dice'], ['5', '17556', 'San Diego, CA']]\n",
      "8 [['8', '48675', 'Decimos muchas cosas, es impresionante'], 'null']\n",
      "3 [['3', '3738', 'New York,NY'], ['3', '3738', 'New York,NY']]\n",
      "4 [['4', '12946', 'New York,NY'], ['4', '12946', 'New York,NY']]\n",
      "5 [['5', '17556', 'San Diego, CA'], ['5', '17556', 'San Diego, CA']]\n",
      "9 [['9', '3443', 'Oakland, CA'], ['9', '3443', 'Oakland, CA']]\n"
     ]
    },
    {
     "name": "stderr",
     "output_type": "stream",
     "text": [
      "FILES: archivos_datos\\tablaA.csv will appear in same directory as job script, not a subdirectory\n",
      "FILES: archivos_datos\\tablaA.csv will appear in same directory as job script, not a subdirectory\n",
      "No configs specified for inline runner\n",
      "FILES: archivos_datos\\tablaA.csv will appear in same directory as job script, not a subdirectory\n",
      "FILES: archivos_datos\\tablaA.csv will appear in same directory as job script, not a subdirectory\n",
      "No configs specified for inline runner\n",
      ".\n",
      "----------------------------------------------------------------------\n",
      "Ran 1 test in 0.269s\n",
      "\n",
      "OK\n"
     ]
    }
   ],
   "source": [
    "!python testUnionReplicadaV2.py"
   ]
  },
  {
   "cell_type": "code",
   "execution_count": null,
   "metadata": {},
   "outputs": [],
   "source": []
  }
 ],
 "metadata": {
  "kernelspec": {
   "display_name": "Python 3",
   "language": "python",
   "name": "python3"
  },
  "language_info": {
   "codemirror_mode": {
    "name": "ipython",
    "version": 3
   },
   "file_extension": ".py",
   "mimetype": "text/x-python",
   "name": "python",
   "nbconvert_exporter": "python",
   "pygments_lexer": "ipython3",
   "version": "3.7.4"
  }
 },
 "nbformat": 4,
 "nbformat_minor": 4
}
