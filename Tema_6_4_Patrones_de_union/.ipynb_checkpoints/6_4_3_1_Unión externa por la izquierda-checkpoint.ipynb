{
 "cells": [
  {
   "cell_type": "markdown",
   "metadata": {},
   "source": [
    "Capítulo 6\n",
    "\n",
    "6.4 Patrones de unión.\n",
    "\n",
    "6.4.3 Unión externa \n",
    "\n",
    "6.4.3.1 Unión externa por la izquierda\n",
    "\n",
    "Patrón que permite realizar una unión por la izquierda de dos tablas de datos\n"
   ]
  },
  {
   "cell_type": "code",
   "execution_count": 4,
   "metadata": {},
   "outputs": [
    {
     "name": "stdout",
     "output_type": "stream",
     "text": [
      "Overwriting unionIzquierda.py\n"
     ]
    }
   ],
   "source": [
    "%%writefile unionIzquierda.py\n",
    "#!/usr/bin/env python\n",
    "from mrjob.job import MRJob\n",
    "import re,sys,os\n",
    "\n",
    "class unionIzquierda(MRJob):\n",
    "    \n",
    "    def limpiarNombreArchivo(self,archivo):\n",
    "        encontradaBarra=False\n",
    "        tamano=len(archivo)\n",
    "        posicion=tamano-1\n",
    "        while encontradaBarra==False or posicion==0:\n",
    "            if archivo[posicion]==\"/\":\n",
    "                encontradaBarra=True\n",
    "                return archivo[posicion+1:tamano]\n",
    "            else:\n",
    "                posicion-=1\n",
    "        if posicion==0:\n",
    "            return archivo\n",
    "        \n",
    "    def mapper_init(self):\n",
    "        self.namefile=self.limpiarNombreArchivo(os.getenv('map_input_file')) \n",
    "        \n",
    "    def mapper(self,_,line):\n",
    "        clave=\"\"\n",
    "        linea=line.split(';')\n",
    "        encontrado=re.search('[a-zA-Z]',linea[0])\n",
    "        if encontrado==None:\n",
    "            if self.namefile==\"tiendas.csv\":\n",
    "                linea.append(self.namefile)\n",
    "                clave=linea[0] #Esta clave es la común de la tabla 1\n",
    "                yield clave,linea\n",
    "            else:\n",
    "                linea.append('art.csv') #se recorta el nombre del archivo\n",
    "                clave=linea[1] #Clave común de la tabla 2\n",
    "                yield clave,linea\n",
    "       \n",
    "    ############# Reducer ############################\n",
    "        \n",
    "    def reducer(self,key,values):\n",
    "        listaA=[]\n",
    "        listaB=[]\n",
    "        #Llenamos las dos listas\n",
    "        for valor in values:\n",
    "            if valor[len(valor)-1]==\"tiendas.csv\":\n",
    "                listaA.append(valor)\n",
    "            else:\n",
    "                listaB.append(valor)\n",
    "        \n",
    "        ###### Union por la izquierda ######\n",
    "        for valorA in listaA:\n",
    "            if listaB:\n",
    "                for valorB in listaB:\n",
    "                    yield valorA, valorB\n",
    "            else:\n",
    "                #Si la listaB está vacía\n",
    "                yield valorA, \"null\" \n",
    "                \n",
    "if __name__ == '__main__':\n",
    "    unionIzquierda.run()"
   ]
  },
  {
   "cell_type": "code",
   "execution_count": 5,
   "metadata": {},
   "outputs": [
    {
     "name": "stdout",
     "output_type": "stream",
     "text": [
      "[\"1\", \"Santander\", \"tiendas.csv\"]\t[\"1001\", \"1\", \"20\", \"art.csv\"]\n",
      "[\"1\", \"Santander\", \"tiendas.csv\"]\t[\"1003\", \"1\", \"15\", \"art.csv\"]\n",
      "[\"1\", \"Santander\", \"tiendas.csv\"]\t[\"1007\", \"1\", \"8\", \"art.csv\"]\n",
      "[\"2\", \"Albacete\", \"tiendas.csv\"]\t[\"1002\", \"2\", \"10\", \"art.csv\"]\n",
      "[\"2\", \"Albacete\", \"tiendas.csv\"]\t[\"1005\", \"2\", \"5\", \"art.csv\"]\n",
      "[\"2\", \"Albacete\", \"tiendas.csv\"]\t[\"1008\", \"2\", \"5\", \"art.csv\"]\n",
      "[\"3\", \"Granada\", \"tiendas.csv\"]\t[\"1006\", \"3\", \"3\", \"art.csv\"]\n",
      "[\"3\", \"Granada\", \"tiendas.csv\"]\t[\"1010\", \"3\", \"20\", \"art.csv\"]\n",
      "[\"6\", \"Barcelona\", \"tiendas.csv\"]\t\"null\"\n"
     ]
    },
    {
     "name": "stderr",
     "output_type": "stream",
     "text": [
      "No configs found; falling back on auto-configuration\n",
      "No configs specified for inline runner\n",
      "Creating temp directory C:\\Users\\cyber\\AppData\\Local\\Temp\\unionIzquierda.manuel.20201211.222407.913233\n",
      "Running step 1 of 1...\n",
      "job output is in C:\\Users\\cyber\\AppData\\Local\\Temp\\unionIzquierda.manuel.20201211.222407.913233\\output\n",
      "Streaming final output from C:\\Users\\cyber\\AppData\\Local\\Temp\\unionIzquierda.manuel.20201211.222407.913233\\output...\n",
      "Removing temp directory C:\\Users\\cyber\\AppData\\Local\\Temp\\unionIzquierda.manuel.20201211.222407.913233...\n"
     ]
    }
   ],
   "source": [
    "!python unionIzquierda.py archivos_datos/tiendas-articulos/tiendas.csv archivos_datos/tiendas-articulos/articulos_stock.csv"
   ]
  },
  {
   "cell_type": "code",
   "execution_count": null,
   "metadata": {},
   "outputs": [],
   "source": []
  }
 ],
 "metadata": {
  "kernelspec": {
   "display_name": "Python 3",
   "language": "python",
   "name": "python3"
  },
  "language_info": {
   "codemirror_mode": {
    "name": "ipython",
    "version": 3
   },
   "file_extension": ".py",
   "mimetype": "text/x-python",
   "name": "python",
   "nbconvert_exporter": "python",
   "pygments_lexer": "ipython3",
   "version": "3.7.4"
  }
 },
 "nbformat": 4,
 "nbformat_minor": 4
}
