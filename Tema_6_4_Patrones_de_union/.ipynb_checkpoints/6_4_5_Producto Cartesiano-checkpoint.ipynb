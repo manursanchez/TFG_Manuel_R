{
 "cells": [
  {
   "cell_type": "markdown",
   "metadata": {},
   "source": [
    "Capítulo 6\n",
    "\n",
    "6.4 Patrones de unión.\n",
    "\n",
    "6.4.5 Producto cartesiano \n",
    "\n",
    "Prototipo para el cálculo del producto cartesiano"
   ]
  },
  {
   "cell_type": "code",
   "execution_count": 19,
   "metadata": {},
   "outputs": [
    {
     "name": "stdout",
     "output_type": "stream",
     "text": [
      "Overwriting productoCartesiano.py\n"
     ]
    }
   ],
   "source": [
    "%%writefile productoCartesiano.py\n",
    "#!/usr/bin/env python\n",
    "\n",
    "from mrjob.job import MRJob\n",
    "import re,os\n",
    "\n",
    "class productoCartesiano(MRJob):\n",
    "   \n",
    "    def limpiarNombreArchivo(self,archivo):\n",
    "        encontradaBarra=False\n",
    "        tamano=len(archivo)\n",
    "        posicion=tamano-1\n",
    "        while encontradaBarra==False or posicion==0:\n",
    "            if archivo[posicion]==\"/\":\n",
    "                encontradaBarra=True\n",
    "                return archivo[posicion+1:tamano]\n",
    "            else:\n",
    "                posicion-=1\n",
    "        if posicion==0:\n",
    "            return archivo\n",
    "    \n",
    "    def mapper_init(self):\n",
    "        self.namefile=self.limpiarNombreArchivo(os.getenv('map_input_file')) \n",
    "        \n",
    "    def mapper(self,_,line):\n",
    "        linea=line.split(';')\n",
    "        encontrado=re.search('[a-zA-Z]',linea[0])\n",
    "        if encontrado==None:\n",
    "            if self.namefile==\"tablaA.csv\":\n",
    "                linea.append(\"file_1\")#Añadimos identificador de archivo\n",
    "                yield \"uniqueKey\",linea #Llave única \n",
    "            else:\n",
    "                linea.append(\"file_2\") \n",
    "                yield \"uniqueKey\",linea #Llave única\n",
    "        \n",
    "    def reducer(self,key,values):\n",
    "        listaA=[]\n",
    "        listaB=[]\n",
    "        #Llenamos las dos listas\n",
    "        for valor in values:\n",
    "            if valor[len(valor)-1]==\"file_1\":\n",
    "                listaA.append(valor)\n",
    "            else:\n",
    "                listaB.append(valor)\n",
    "        \n",
    "        ########## Producto Cartesiano ###########\n",
    "        if listaA and listaB:\n",
    "            for valor_A in listaA:\n",
    "                for valor_B in listaB:\n",
    "                    yield key,(valor_A, valor_B)\n",
    "        \n",
    "if __name__ == '__main__':\n",
    "    productoCartesiano.run()"
   ]
  },
  {
   "cell_type": "code",
   "execution_count": 20,
   "metadata": {},
   "outputs": [
    {
     "name": "stdout",
     "output_type": "stream",
     "text": [
      "\"uniqueKey\"\t[[\"3\",\"3738\",\"New York,NY\",\"file_1\"],[\"3\",\"35314\",\"Esto es texto del post\",\"file_2\"]]\n",
      "\"uniqueKey\"\t[[\"3\",\"3738\",\"New York,NY\",\"file_1\"],[\"3\",\"44002\",\"Esto es mas texto aun\",\"file_2\"]]\n",
      "\"uniqueKey\"\t[[\"3\",\"3738\",\"New York,NY\",\"file_1\"],[\"5\",\"44921\",\"Aqui digo otra cosa\",\"file_2\"]]\n",
      "\"uniqueKey\"\t[[\"3\",\"3738\",\"New York,NY\",\"file_1\"],[\"5\",\"44920\",\"Otra cosa que que se dice\",\"file_2\"]]\n",
      "\"uniqueKey\"\t[[\"3\",\"3738\",\"New York,NY\",\"file_1\"],[\"8\",\"48675\",\"Decimos muchas cosas, es impresionante\",\"file_2\"]]\n",
      "\"uniqueKey\"\t[[\"4\",\"12946\",\"New York,NY\",\"file_1\"],[\"3\",\"35314\",\"Esto es texto del post\",\"file_2\"]]\n",
      "\"uniqueKey\"\t[[\"4\",\"12946\",\"New York,NY\",\"file_1\"],[\"3\",\"44002\",\"Esto es mas texto aun\",\"file_2\"]]\n",
      "\"uniqueKey\"\t[[\"4\",\"12946\",\"New York,NY\",\"file_1\"],[\"5\",\"44921\",\"Aqui digo otra cosa\",\"file_2\"]]\n",
      "\"uniqueKey\"\t[[\"4\",\"12946\",\"New York,NY\",\"file_1\"],[\"5\",\"44920\",\"Otra cosa que que se dice\",\"file_2\"]]\n"
     ]
    },
    {
     "name": "stderr",
     "output_type": "stream",
     "text": [
      "No configs found; falling back on auto-configuration\n",
      "No configs specified for inline runner\n",
      "Creating temp directory C:\\Users\\MRSANC~1\\AppData\\Local\\Temp\\productoCartesiano.mrsanchez.20201203.205304.865703\n",
      "Running step 1 of 1...\n",
      "job output is in C:\\Users\\MRSANC~1\\AppData\\Local\\Temp\\productoCartesiano.mrsanchez.20201203.205304.865703\\output\n",
      "Streaming final output from C:\\Users\\MRSANC~1\\AppData\\Local\\Temp\\productoCartesiano.mrsanchez.20201203.205304.865703\\output...\n",
      "Removing temp directory C:\\Users\\MRSANC~1\\AppData\\Local\\Temp\\productoCartesiano.mrsanchez.20201203.205304.865703...\n"
     ]
    },
    {
     "name": "stdout",
     "output_type": "stream",
     "text": [
      "\"uniqueKey\"\t[[\"4\",\"12946\",\"New York,NY\",\"file_1\"],[\"8\",\"48675\",\"Decimos muchas cosas, es impresionante\",\"file_2\"]]\n",
      "\"uniqueKey\"\t[[\"5\",\"17556\",\"San Diego, CA\",\"file_1\"],[\"3\",\"35314\",\"Esto es texto del post\",\"file_2\"]]\n",
      "\"uniqueKey\"\t[[\"5\",\"17556\",\"San Diego, CA\",\"file_1\"],[\"3\",\"44002\",\"Esto es mas texto aun\",\"file_2\"]]\n",
      "\"uniqueKey\"\t[[\"5\",\"17556\",\"San Diego, CA\",\"file_1\"],[\"5\",\"44921\",\"Aqui digo otra cosa\",\"file_2\"]]\n",
      "\"uniqueKey\"\t[[\"5\",\"17556\",\"San Diego, CA\",\"file_1\"],[\"5\",\"44920\",\"Otra cosa que que se dice\",\"file_2\"]]\n",
      "\"uniqueKey\"\t[[\"5\",\"17556\",\"San Diego, CA\",\"file_1\"],[\"8\",\"48675\",\"Decimos muchas cosas, es impresionante\",\"file_2\"]]\n",
      "\"uniqueKey\"\t[[\"9\",\"3443\",\"Oakland, CA\",\"file_1\"],[\"3\",\"35314\",\"Esto es texto del post\",\"file_2\"]]\n",
      "\"uniqueKey\"\t[[\"9\",\"3443\",\"Oakland, CA\",\"file_1\"],[\"3\",\"44002\",\"Esto es mas texto aun\",\"file_2\"]]\n",
      "\"uniqueKey\"\t[[\"9\",\"3443\",\"Oakland, CA\",\"file_1\"],[\"5\",\"44921\",\"Aqui digo otra cosa\",\"file_2\"]]\n",
      "\"uniqueKey\"\t[[\"9\",\"3443\",\"Oakland, CA\",\"file_1\"],[\"5\",\"44920\",\"Otra cosa que que se dice\",\"file_2\"]]\n",
      "\"uniqueKey\"\t[[\"9\",\"3443\",\"Oakland, CA\",\"file_1\"],[\"8\",\"48675\",\"Decimos muchas cosas, es impresionante\",\"file_2\"]]\n"
     ]
    }
   ],
   "source": [
    "!python productoCartesiano.py archivos_datos/tablaA.csv archivos_datos/tablaB.csv"
   ]
  },
  {
   "cell_type": "code",
   "execution_count": null,
   "metadata": {},
   "outputs": [],
   "source": []
  }
 ],
 "metadata": {
  "kernelspec": {
   "display_name": "Python 3",
   "language": "python",
   "name": "python3"
  },
  "language_info": {
   "codemirror_mode": {
    "name": "ipython",
    "version": 3
   },
   "file_extension": ".py",
   "mimetype": "text/x-python",
   "name": "python",
   "nbconvert_exporter": "python",
   "pygments_lexer": "ipython3",
   "version": "3.8.5"
  }
 },
 "nbformat": 4,
 "nbformat_minor": 4
}
