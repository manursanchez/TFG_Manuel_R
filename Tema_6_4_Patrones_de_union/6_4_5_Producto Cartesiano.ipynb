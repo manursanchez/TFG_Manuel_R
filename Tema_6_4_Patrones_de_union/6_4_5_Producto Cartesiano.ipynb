{
 "cells": [
  {
   "cell_type": "markdown",
   "metadata": {},
   "source": [
    "Capítulo 6\n",
    "\n",
    "6.4 Patrones de unión.\n",
    "\n",
    "6.4.5 Producto cartesiano \n",
    "\n",
    "Prototipo para el cálculo del producto cartesiano"
   ]
  },
  {
   "cell_type": "code",
   "execution_count": 4,
   "metadata": {},
   "outputs": [
    {
     "name": "stdout",
     "output_type": "stream",
     "text": [
      "Overwriting productoCartesiano.py\n"
     ]
    }
   ],
   "source": [
    "%%writefile productoCartesiano.py\n",
    "#!/usr/bin/env python\n",
    "\n",
    "from mrjob.job import MRJob\n",
    "import re,os\n",
    "\n",
    "class productoCartesiano(MRJob):\n",
    "   \n",
    "    def limpiarNombreArchivo(self,archivo):\n",
    "        encontradaBarra=False\n",
    "        tamano=len(archivo)\n",
    "        posicion=tamano-1\n",
    "        while encontradaBarra==False or posicion==0:\n",
    "            if archivo[posicion]==\"/\":\n",
    "                encontradaBarra=True\n",
    "                return archivo[posicion+1:tamano]\n",
    "            else:\n",
    "                posicion-=1\n",
    "        if posicion==0:\n",
    "            return archivo\n",
    "    \n",
    "    def mapper_init(self):\n",
    "        self.namefile=self.limpiarNombreArchivo(os.getenv('map_input_file')) \n",
    "        \n",
    "    def mapper(self,_,line):\n",
    "        linea=line.split(';')\n",
    "        encontrado=re.search('[a-zA-Z]',linea[0])\n",
    "        if encontrado==None:\n",
    "            if self.namefile==\"tiendas.csv\":\n",
    "                linea.append(\"file_1\")#Añadimos identificador de archivo\n",
    "                yield \"llave\",linea #Llave única \n",
    "            else:\n",
    "                linea.append(\"file_2\") \n",
    "                yield \"llave\",linea #Llave única\n",
    "        \n",
    "    def reducer(self,key,values):\n",
    "        listaA=[]\n",
    "        listaB=[]\n",
    "        #Llenamos las dos listas\n",
    "        for valor in values:\n",
    "            if valor[len(valor)-1]==\"file_1\":\n",
    "                listaA.append(valor)\n",
    "            else:\n",
    "                listaB.append(valor)\n",
    "        \n",
    "        ########## Producto Cartesiano ###########\n",
    "        if listaA and listaB:\n",
    "            for valor_A in listaA:\n",
    "                for valor_B in listaB:\n",
    "                    yield key,(valor_A, valor_B)\n",
    "        \n",
    "if __name__ == '__main__':\n",
    "    productoCartesiano.run()"
   ]
  },
  {
   "cell_type": "code",
   "execution_count": 5,
   "metadata": {},
   "outputs": [
    {
     "name": "stdout",
     "output_type": "stream",
     "text": [
      "\"llave\"\t[[\"1\", \"Santander\", \"file_1\"], [\"1001\", \"1\", \"20\", \"file_2\"]]\n",
      "\"llave\"\t[[\"1\", \"Santander\", \"file_1\"], [\"1002\", \"2\", \"10\", \"file_2\"]]\n",
      "\"llave\"\t[[\"1\", \"Santander\", \"file_1\"], [\"1003\", \"1\", \"15\", \"file_2\"]]\n",
      "\"llave\"\t[[\"1\", \"Santander\", \"file_1\"], [\"1004\", \"5\", \"10\", \"file_2\"]]\n",
      "\"llave\"\t[[\"1\", \"Santander\", \"file_1\"], [\"1005\", \"2\", \"5\", \"file_2\"]]\n",
      "\"llave\"\t[[\"1\", \"Santander\", \"file_1\"], [\"1006\", \"3\", \"3\", \"file_2\"]]\n",
      "\"llave\"\t[[\"1\", \"Santander\", \"file_1\"], [\"1007\", \"1\", \"8\", \"file_2\"]]\n",
      "\"llave\"\t[[\"1\", \"Santander\", \"file_1\"], [\"1008\", \"2\", \"5\", \"file_2\"]]\n",
      "\"llave\"\t[[\"1\", \"Santander\", \"file_1\"], [\"1009\", \"4\", \"1\", \"file_2\"]]\n",
      "\"llave\"\t[[\"1\", \"Santander\", \"file_1\"], [\"1010\", \"3\", \"20\", \"file_2\"]]\n",
      "\"llave\"\t[[\"2\", \"Albacete\", \"file_1\"], [\"1001\", \"1\", \"20\", \"file_2\"]]\n",
      "\"llave\"\t[[\"2\", \"Albacete\", \"file_1\"], [\"1002\", \"2\", \"10\", \"file_2\"]]\n",
      "\"llave\"\t[[\"2\", \"Albacete\", \"file_1\"], [\"1003\", \"1\", \"15\", \"file_2\"]]\n",
      "\"llave\"\t[[\"2\", \"Albacete\", \"file_1\"], [\"1004\", \"5\", \"10\", \"file_2\"]]\n",
      "\"llave\"\t[[\"2\", \"Albacete\", \"file_1\"], [\"1005\", \"2\", \"5\", \"file_2\"]]\n",
      "\"llave\"\t[[\"2\", \"Albacete\", \"file_1\"], [\"1006\", \"3\", \"3\", \"file_2\"]]\n",
      "\"llave\"\t[[\"2\", \"Albacete\", \"file_1\"], [\"1007\", \"1\", \"8\", \"file_2\"]]\n",
      "\"llave\"\t[[\"2\", \"Albacete\", \"file_1\"], [\"1008\", \"2\", \"5\", \"file_2\"]]\n",
      "\"llave\"\t[[\"2\", \"Albacete\", \"file_1\"], [\"1009\", \"4\", \"1\", \"file_2\"]]\n",
      "\"llave\"\t[[\"2\", \"Albacete\", \"file_1\"], [\"1010\", \"3\", \"20\", \"file_2\"]]\n",
      "\"llave\"\t[[\"3\", \"Granada\", \"file_1\"], [\"1001\", \"1\", \"20\", \"file_2\"]]\n",
      "\"llave\"\t[[\"3\", \"Granada\", \"file_1\"], [\"1002\", \"2\", \"10\", \"file_2\"]]\n",
      "\"llave\"\t[[\"3\", \"Granada\", \"file_1\"], [\"1003\", \"1\", \"15\", \"file_2\"]]\n",
      "\"llave\"\t[[\"3\", \"Granada\", \"file_1\"], [\"1004\", \"5\", \"10\", \"file_2\"]]\n",
      "\"llave\"\t[[\"3\", \"Granada\", \"file_1\"], [\"1005\", \"2\", \"5\", \"file_2\"]]\n",
      "\"llave\"\t[[\"3\", \"Granada\", \"file_1\"], [\"1006\", \"3\", \"3\", \"file_2\"]]\n",
      "\"llave\"\t[[\"3\", \"Granada\", \"file_1\"], [\"1007\", \"1\", \"8\", \"file_2\"]]\n",
      "\"llave\"\t[[\"3\", \"Granada\", \"file_1\"], [\"1008\", \"2\", \"5\", \"file_2\"]]\n",
      "\"llave\"\t[[\"3\", \"Granada\", \"file_1\"], [\"1009\", \"4\", \"1\", \"file_2\"]]\n",
      "\"llave\"\t[[\"3\", \"Granada\", \"file_1\"], [\"1010\", \"3\", \"20\", \"file_2\"]]\n",
      "\"llave\"\t[[\"6\", \"Barcelona\", \"file_1\"], [\"1001\", \"1\", \"20\", \"file_2\"]]\n",
      "\"llave\"\t[[\"6\", \"Barcelona\", \"file_1\"], [\"1002\", \"2\", \"10\", \"file_2\"]]\n",
      "\"llave\"\t[[\"6\", \"Barcelona\", \"file_1\"], [\"1003\", \"1\", \"15\", \"file_2\"]]\n",
      "\"llave\"\t[[\"6\", \"Barcelona\", \"file_1\"], [\"1004\", \"5\", \"10\", \"file_2\"]]\n",
      "\"llave\"\t[[\"6\", \"Barcelona\", \"file_1\"], [\"1005\", \"2\", \"5\", \"file_2\"]]\n",
      "\"llave\"\t[[\"6\", \"Barcelona\", \"file_1\"], [\"1006\", \"3\", \"3\", \"file_2\"]]\n",
      "\"llave\"\t[[\"6\", \"Barcelona\", \"file_1\"], [\"1007\", \"1\", \"8\", \"file_2\"]]\n",
      "\"llave\"\t[[\"6\", \"Barcelona\", \"file_1\"], [\"1008\", \"2\", \"5\", \"file_2\"]]\n",
      "\"llave\"\t[[\"6\", \"Barcelona\", \"file_1\"], [\"1009\", \"4\", \"1\", \"file_2\"]]\n",
      "\"llave\"\t[[\"6\", \"Barcelona\", \"file_1\"], [\"1010\", \"3\", \"20\", \"file_2\"]]\n"
     ]
    },
    {
     "name": "stderr",
     "output_type": "stream",
     "text": [
      "No configs found; falling back on auto-configuration\n",
      "No configs specified for inline runner\n",
      "Creating temp directory C:\\Users\\cyber\\AppData\\Local\\Temp\\productoCartesiano.manuel.20201211.225420.596653\n",
      "Running step 1 of 1...\n",
      "job output is in C:\\Users\\cyber\\AppData\\Local\\Temp\\productoCartesiano.manuel.20201211.225420.596653\\output\n",
      "Streaming final output from C:\\Users\\cyber\\AppData\\Local\\Temp\\productoCartesiano.manuel.20201211.225420.596653\\output...\n",
      "Removing temp directory C:\\Users\\cyber\\AppData\\Local\\Temp\\productoCartesiano.manuel.20201211.225420.596653...\n"
     ]
    }
   ],
   "source": [
    "!python productoCartesiano.py archivos_datos/tiendas-articulos/tiendas.csv archivos_datos/tiendas-articulos/articulos_stock.csv"
   ]
  },
  {
   "cell_type": "code",
   "execution_count": null,
   "metadata": {},
   "outputs": [],
   "source": []
  }
 ],
 "metadata": {
  "kernelspec": {
   "display_name": "Python 3",
   "language": "python",
   "name": "python3"
  },
  "language_info": {
   "codemirror_mode": {
    "name": "ipython",
    "version": 3
   },
   "file_extension": ".py",
   "mimetype": "text/x-python",
   "name": "python",
   "nbconvert_exporter": "python",
   "pygments_lexer": "ipython3",
   "version": "3.7.4"
  }
 },
 "nbformat": 4,
 "nbformat_minor": 4
}
