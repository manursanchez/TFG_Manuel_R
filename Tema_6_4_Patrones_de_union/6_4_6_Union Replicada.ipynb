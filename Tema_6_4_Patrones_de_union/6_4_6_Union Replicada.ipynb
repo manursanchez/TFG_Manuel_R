{
 "cells": [
  {
   "cell_type": "markdown",
   "metadata": {},
   "source": [
    "Capítulo 6\n",
    "\n",
    "6.4 Patrones de unión.\n",
    "\n",
    "6.4.6 Unión replicada \n",
    "\n",
    "Prototipo en el que cargamos la primera tabla en memoria, y posteriomente metemos por línea de comandos todos las tablas que queramos unir a esa primera tabla. Las uniones que se producen pueden ser internas y/o externas por la izquierda. "
   ]
  },
  {
   "cell_type": "code",
   "execution_count": 18,
   "metadata": {},
   "outputs": [
    {
     "name": "stdout",
     "output_type": "stream",
     "text": [
      "Overwriting unionReplicada.py\n"
     ]
    }
   ],
   "source": [
    "%%writefile unionReplicada.py\n",
    "#!/usr/bin/python\n",
    "from mrjob.job import MRJob\n",
    "import re\n",
    "\n",
    "def cargarFicheroEnMemoria(self,fichero):\n",
    "    diccionario={}\n",
    "    with open(fichero) as f:\n",
    "        self.tablaEnMemoria = set(line.strip() for line in f)\n",
    "    for linea in self.tablaEnMemoria:\n",
    "        #Para que no tenga en cuenta las cabeceras de las tablas\n",
    "        encontrado=re.search('[a-zA-Z]',linea[0])\n",
    "        if encontrado==None:\n",
    "            datos = linea.split(\";\")\n",
    "            diccionario[datos[0]]=datos\n",
    "    return diccionario\n",
    "\n",
    "class unionReplicada(MRJob):\n",
    "   \n",
    "    FILES = ['archivos_datos/tiendas-articulos/tiendas.csv']\n",
    "    fichero='tiendas.csv'    \n",
    "    def mapper_init(self):\n",
    "        #Nos devuelve la estructura diccionario rellena con los datos del fichero\n",
    "        self.dicTablaA=cargarFicheroEnMemoria(self,self.fichero) \n",
    "       \n",
    "    def mapper(self,_,line):\n",
    "        self.linea=line.split(';')\n",
    "        encontrado=re.search('[a-zA-Z]',self.linea[0])\n",
    "        if encontrado==None:\n",
    "            self.clave=self.linea[1] #Compara Clave de la tabla/s del stream \n",
    "            if self.clave in self.dicTablaA: \n",
    "                yield self.clave,(self.linea,self.dicTablaA.get(self.clave) )\n",
    "            else:\n",
    "                yield self.clave,(self.linea,\"null\")\n",
    "                \n",
    "if __name__ == '__main__':\n",
    "    unionReplicada.run()"
   ]
  },
  {
   "cell_type": "code",
   "execution_count": 1,
   "metadata": {},
   "outputs": [
    {
     "name": "stdout",
     "output_type": "stream",
     "text": [
      "\"1\"\t[[\"1001\", \"1\", \"20\"], [\"1\", \"Santander\"]]\n",
      "\"2\"\t[[\"1002\", \"2\", \"10\"], [\"2\", \"Albacete\"]]\n",
      "\"1\"\t[[\"1003\", \"1\", \"15\"], [\"1\", \"Santander\"]]\n",
      "\"5\"\t[[\"1004\", \"5\", \"10\"], \"null\"]\n",
      "\"2\"\t[[\"1005\", \"2\", \"5\"], [\"2\", \"Albacete\"]]\n",
      "\"3\"\t[[\"1006\", \"3\", \"3\"], [\"3\", \"Granada\"]]\n",
      "\"1\"\t[[\"1007\", \"1\", \"8\"], [\"1\", \"Santander\"]]\n",
      "\"2\"\t[[\"1008\", \"2\", \"5\"], [\"2\", \"Albacete\"]]\n",
      "\"4\"\t[[\"1009\", \"4\", \"1\"], \"null\"]\n",
      "\"3\"\t[[\"1010\", \"3\", \"20\"], [\"3\", \"Granada\"]]\n",
      "\"3\"\t[[\"1011\", \"3\", \"16\"], [\"3\", \"Granada\"]]\n",
      "\"5\"\t[[\"1012\", \"5\", \"2\"], \"null\"]\n",
      "\"2\"\t[[\"1013\", \"2\", \"17\"], [\"2\", \"Albacete\"]]\n",
      "\"1\"\t[[\"1014\", \"1\", \"9\"], [\"1\", \"Santander\"]]\n",
      "\"2\"\t[[\"1015\", \"2\", \"7\"], [\"2\", \"Albacete\"]]\n",
      "\"3\"\t[[\"1016\", \"3\", \"2\"], [\"3\", \"Granada\"]]\n",
      "\"5\"\t[[\"1017\", \"5\", \"1\"], \"null\"]\n",
      "\"2\"\t[[\"1018\", \"2\", \"9\"], [\"2\", \"Albacete\"]]\n",
      "\"1\"\t[[\"1019\", \"1\", \"13\"], [\"1\", \"Santander\"]]\n",
      "\"1\"\t[[\"1020\", \"1\", \"23\"], [\"1\", \"Santander\"]]\n",
      "\"5\"\t[[\"1021\", \"5\", \"25\"], \"null\"]\n",
      "\"4\"\t[[\"1022\", \"4\", \"100\"], \"null\"]\n",
      "\"2\"\t[[\"1023\", \"2\", \"20\"], [\"2\", \"Albacete\"]]\n",
      "\"1\"\t[[\"1024\", \"1\", \"12\"], [\"1\", \"Santander\"]]\n",
      "\"3\"\t[[\"1025\", \"3\", \"6\"], [\"3\", \"Granada\"]]\n",
      "\"5\"\t[[\"1026\", \"5\", \"2\"], \"null\"]\n",
      "\"1\"\t[[\"1027\", \"1\", \"3\"], [\"1\", \"Santander\"]]\n",
      "\"3\"\t[[\"1028\", \"3\", \"61\"], [\"3\", \"Granada\"]]\n",
      "\"4\"\t[[\"1029\", \"4\", \"2\"], \"null\"]\n",
      "\"5\"\t[[\"1030\", \"5\", \"67\"], \"null\"]\n"
     ]
    },
    {
     "name": "stderr",
     "output_type": "stream",
     "text": [
      "No configs found; falling back on auto-configuration\n",
      "No configs specified for inline runner\n",
      "Creating temp directory C:\\Users\\cyber\\AppData\\Local\\Temp\\unionReplicada.manuel.20201206.204153.892282\n",
      "Running step 1 of 1...\n",
      "job output is in C:\\Users\\cyber\\AppData\\Local\\Temp\\unionReplicada.manuel.20201206.204153.892282\\output\n",
      "Streaming final output from C:\\Users\\cyber\\AppData\\Local\\Temp\\unionReplicada.manuel.20201206.204153.892282\\output...\n",
      "Removing temp directory C:\\Users\\cyber\\AppData\\Local\\Temp\\unionReplicada.manuel.20201206.204153.892282...\n"
     ]
    }
   ],
   "source": [
    "!python unionReplicada.py archivos_datos/tiendas-articulos/articulos_stock.csv archivos_datos/tiendas-articulos/articulos_stock2.csv archivos_datos/tiendas-articulos/articulos_stock3.csv"
   ]
  }
 ],
 "metadata": {
  "kernelspec": {
   "display_name": "Python 3",
   "language": "python",
   "name": "python3"
  },
  "language_info": {
   "codemirror_mode": {
    "name": "ipython",
    "version": 3
   },
   "file_extension": ".py",
   "mimetype": "text/x-python",
   "name": "python",
   "nbconvert_exporter": "python",
   "pygments_lexer": "ipython3",
   "version": "3.7.4"
  }
 },
 "nbformat": 4,
 "nbformat_minor": 4
}
