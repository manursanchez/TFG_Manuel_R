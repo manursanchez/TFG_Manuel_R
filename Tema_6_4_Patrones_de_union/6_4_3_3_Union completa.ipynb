{
 "cells": [
  {
   "cell_type": "markdown",
   "metadata": {},
   "source": [
    "Capítulo 6\n",
    "\n",
    "6.4 Patrones de unión.\n",
    "\n",
    "6.4.3 Unión externa\n",
    "\n",
    "6.4.3.3 Unión extena completa\n"
   ]
  },
  {
   "cell_type": "code",
   "execution_count": 1,
   "metadata": {},
   "outputs": [
    {
     "name": "stdout",
     "output_type": "stream",
     "text": [
      "Writing unionCompleta.py\n"
     ]
    }
   ],
   "source": [
    "%%writefile unionCompleta.py\n",
    "#!/usr/bin/env python\n",
    "from mrjob.job import MRJob\n",
    "import re,os\n",
    "\n",
    "class unionCompleta(MRJob):\n",
    "    def limpiarNombreArchivo(self,archivo):\n",
    "        encontradaBarra=False\n",
    "        tamano=len(archivo)\n",
    "        posicion=tamano-1\n",
    "        while encontradaBarra==False or posicion==0:\n",
    "            if archivo[posicion]==\"/\":\n",
    "                encontradaBarra=True\n",
    "                return archivo[posicion+1:tamano]\n",
    "            else:\n",
    "                posicion-=1\n",
    "        if posicion==0:\n",
    "            return archivo\n",
    "        \n",
    "    def mapper_init(self):\n",
    "        self.namefile=self.limpiarNombreArchivo(os.getenv('map_input_file')) \n",
    "        \n",
    "    def mapper(self,_,line):\n",
    "        clave=\"\"\n",
    "        linea=line.split(';')\n",
    "        encontrado=re.search('[a-zA-Z]',linea[0])\n",
    "        if encontrado==None:\n",
    "            if self.namefile==\"tablaA.csv\":\n",
    "                linea.append(self.namefile)\n",
    "                clave=linea[0] \n",
    "                yield clave,linea\n",
    "            else:\n",
    "                linea.append(self.namefile) \n",
    "                clave=linea[0] \n",
    "                yield clave,linea\n",
    "        \n",
    "    def reducer(self,key,values):\n",
    "        listaA=[]\n",
    "        listaB=[]\n",
    "        #Llenamos las dos listas\n",
    "        for valor in values:\n",
    "            if valor[len(valor)-1]==\"tablaA.csv\":\n",
    "                listaA.append(valor)\n",
    "            else:\n",
    "                listaB.append(valor)\n",
    "        \n",
    "        # Si listaA no está vacía, commprobamos cada una de sus entradas\n",
    "        if listaA: \n",
    "        # Por cada entrada en la listaA\n",
    "            for valorA in listaA:\n",
    "            #Si la listaB no está vacía, unimos A con B\n",
    "                if listaB:\n",
    "                    for valorB in listaB:\n",
    "                        yield valorA, valorB\n",
    "                else:\n",
    "                #Si no es el caso, sacamos A con union nula\n",
    "                    yield valorA, \"null\"\n",
    "        else:\n",
    "        #En cambio si la listaA está vacía, sacamos solo los elementos de la listaB\n",
    "            for valorB in listaB:\n",
    "                yield \"null\", valorB\n",
    "                \n",
    "if __name__ == '__main__':\n",
    "    unionCompleta.run()"
   ]
  },
  {
   "cell_type": "code",
   "execution_count": 2,
   "metadata": {},
   "outputs": [
    {
     "name": "stdout",
     "output_type": "stream",
     "text": [
      "[\"3\",\"3738\",\"New York,NY\",\"tablaA.csv\"]\t[\"3\",\"35314\",\"Esto es texto del post\",\"tablaB.csv\"]\n",
      "[\"3\",\"3738\",\"New York,NY\",\"tablaA.csv\"]\t[\"3\",\"44002\",\"Esto es mas texto aun\",\"tablaB.csv\"]\n",
      "[\"4\",\"12946\",\"New York,NY\",\"tablaA.csv\"]\t\"null\"\n",
      "[\"5\",\"17556\",\"San Diego, CA\",\"tablaA.csv\"]\t[\"5\",\"44921\",\"Aqui digo otra cosa\",\"tablaB.csv\"]\n",
      "[\"5\",\"17556\",\"San Diego, CA\",\"tablaA.csv\"]\t[\"5\",\"44920\",\"Otra cosa que que se dice\",\"tablaB.csv\"]\n",
      "\"null\"\t[\"8\",\"48675\",\"Decimos muchas cosas, es impresionante\",\"tablaB.csv\"]\n",
      "[\"9\",\"3443\",\"Oakland, CA\",\"tablaA.csv\"]\t\"null\"\n"
     ]
    },
    {
     "name": "stderr",
     "output_type": "stream",
     "text": [
      "No configs found; falling back on auto-configuration\n",
      "No configs specified for inline runner\n",
      "Creating temp directory C:\\Users\\MRSANC~1\\AppData\\Local\\Temp\\unionCompleta.mrsanchez.20201203.231011.554415\n",
      "Running step 1 of 1...\n",
      "job output is in C:\\Users\\MRSANC~1\\AppData\\Local\\Temp\\unionCompleta.mrsanchez.20201203.231011.554415\\output\n",
      "Streaming final output from C:\\Users\\MRSANC~1\\AppData\\Local\\Temp\\unionCompleta.mrsanchez.20201203.231011.554415\\output...\n",
      "Removing temp directory C:\\Users\\MRSANC~1\\AppData\\Local\\Temp\\unionCompleta.mrsanchez.20201203.231011.554415...\n"
     ]
    }
   ],
   "source": [
    "!python unionCompleta.py archivos_datos/tablaA.csv archivos_datos/tablaB.csv"
   ]
  },
  {
   "cell_type": "code",
   "execution_count": null,
   "metadata": {},
   "outputs": [],
   "source": []
  }
 ],
 "metadata": {
  "kernelspec": {
   "display_name": "Python 3",
   "language": "python",
   "name": "python3"
  },
  "language_info": {
   "codemirror_mode": {
    "name": "ipython",
    "version": 3
   },
   "file_extension": ".py",
   "mimetype": "text/x-python",
   "name": "python",
   "nbconvert_exporter": "python",
   "pygments_lexer": "ipython3",
   "version": "3.8.5"
  }
 },
 "nbformat": 4,
 "nbformat_minor": 4
}
