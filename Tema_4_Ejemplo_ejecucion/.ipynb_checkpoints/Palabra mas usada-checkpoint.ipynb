{
 "cells": [
  {
   "cell_type": "markdown",
   "metadata": {},
   "source": [
    "Memoria TFG. Tema 3 - Ejemplo de ejecución en el cluster.\n",
    "\n",
    "Ejemplo extraído del manual de MRJob de Steve Johnson que nos muestra la palabra mas usada en un texto determinado. Lo hace en dos pasos. En el primer paso cuenta las palabras, y en el segundo paso extrae de la cuenta que ha hecho en el primer paso, la palabra con mayor número de apariciones."
   ]
  },
  {
   "cell_type": "code",
   "execution_count": 21,
   "metadata": {},
   "outputs": [
    {
     "name": "stdout",
     "output_type": "stream",
     "text": [
      "Overwriting palabramasusada.py\n"
     ]
    }
   ],
   "source": [
    "%%writefile palabramasusada.py\n",
    "#!/usr/bin/env python\n",
    "from mrjob.job import MRJob\n",
    "from mrjob.step import MRStep\n",
    "\n",
    "import re\n",
    "\n",
    "WORD_RE = re.compile(r\"[\\w']+\")\n",
    "\n",
    "class MRMostUsedWord(MRJob):\n",
    "    def steps(self):\n",
    "        return [\n",
    "            MRStep(mapper=self.mapper_extrae_palabras,\n",
    "                combiner=self.combiner_cuenta_palabras,\n",
    "                reducer=self.reducer_cuenta_palabras),\n",
    "            MRStep(reducer=self.reducer_encuentra_palabra_mas_usada)\n",
    "        ]\n",
    "    \n",
    "    def mapper_extrae_palabras(self, _, line):\n",
    "        # producimos cada palabra en la linea\n",
    "        for word in WORD_RE.findall(line):\n",
    "            yield (word.lower(), 1)\n",
    "    \n",
    "    def combiner_cuenta_palabras(self, word, counts):\n",
    "        # Sumamos las palabras vistas hasta ahora\n",
    "        yield (word, sum(counts))\n",
    "    \n",
    "    def reducer_cuenta_palabras(self, word, counts):\n",
    "        # Enviamos todo al siguiente reducer\n",
    "        # para que encuentre la palabra más usada\n",
    "        yield None, (sum(counts), word)\n",
    "        \n",
    "        # Descartamos la clave, nos hace falta la palabra y el número\n",
    "    def reducer_encuentra_palabra_mas_usada(self, _, word_count_pairs):\n",
    "        yield max(word_count_pairs)\n",
    "        \n",
    "if __name__ == '__main__':\n",
    "    MRMostUsedWord.run()"
   ]
  },
  {
   "cell_type": "code",
   "execution_count": 22,
   "metadata": {},
   "outputs": [
    {
     "name": "stdout",
     "output_type": "stream",
     "text": [
      "20628\t\"que\"\n"
     ]
    },
    {
     "name": "stderr",
     "output_type": "stream",
     "text": [
      "No configs found; falling back on auto-configuration\n",
      "No configs specified for inline runner\n",
      "Creating temp directory C:\\Users\\cyber\\AppData\\Local\\Temp\\palabramasusada.manuel.20201126.184903.433642\n",
      "Running step 1 of 2...\n",
      "Running step 2 of 2...\n",
      "job output is in C:\\Users\\cyber\\AppData\\Local\\Temp\\palabramasusada.manuel.20201126.184903.433642\\output\n",
      "Streaming final output from C:\\Users\\cyber\\AppData\\Local\\Temp\\palabramasusada.manuel.20201126.184903.433642\\output...\n",
      "Removing temp directory C:\\Users\\cyber\\AppData\\Local\\Temp\\palabramasusada.manuel.20201126.184903.433642...\n"
     ]
    }
   ],
   "source": [
    "!python palabramasusada.py archivos_datos/quijote.txt"
   ]
  },
  {
   "cell_type": "markdown",
   "metadata": {},
   "source": [
    "La palabra más usada en el Quijote es \"que\" con 20628 apariciones."
   ]
  },
  {
   "cell_type": "code",
   "execution_count": null,
   "metadata": {},
   "outputs": [],
   "source": []
  }
 ],
 "metadata": {
  "kernelspec": {
   "display_name": "Python 3",
   "language": "python",
   "name": "python3"
  },
  "language_info": {
   "codemirror_mode": {
    "name": "ipython",
    "version": 3
   },
   "file_extension": ".py",
   "mimetype": "text/x-python",
   "name": "python",
   "nbconvert_exporter": "python",
   "pygments_lexer": "ipython3",
   "version": "3.7.4"
  }
 },
 "nbformat": 4,
 "nbformat_minor": 2
}
