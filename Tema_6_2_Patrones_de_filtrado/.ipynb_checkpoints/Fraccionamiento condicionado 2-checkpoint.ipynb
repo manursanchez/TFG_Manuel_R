{
 "cells": [
  {
   "cell_type": "markdown",
   "metadata": {},
   "source": [
    "Lo que vamos a hacer en este ejemplo, seleccionar los \"post\" en donde aparezca una palabra, con el objetivo de saber el número de publicaciones en foros es realizar la misma función que el ejemplo anterior: Fraccionamiento, pero ahora vamos nosotros a indicar que es lo que vamos a meter en distintos contenedores. Recordemos que en Fraccionamiento dejabamos al particionador de las MRJob que metiera todos los elementos en distintos contenedores, en este caso nosotros le vamos a condicionar los elementos, es decir meteremos condiciones en el Mapper.\n",
    "En este ejemplo le vamos a decir que años son los que tiene que meter en el particionador."
   ]
  },
  {
   "cell_type": "code",
   "execution_count": null,
   "metadata": {},
   "outputs": [],
   "source": [
    "%%writefile fracond2.py\n",
    "#!/usr/bin/env python\n",
    "\n",
    "from mrjob.job import MRJob\n",
    "import re\n",
    "\n",
    "class fracond2(MRJob):\n",
    "    def mapper(self,_, line):\n",
    "        linea=line.split(\";\") \n",
    "        encontrado=re.search('[_a-zA-Z]',linea[13])#En este caso el valor lo tengo en la posción 13 de la línea\n",
    "        #Preguntamos si ha encontrado la expresion regular. Si no la ha encontrado, procesamos dato\n",
    "        if encontrado==None:\n",
    "            #fecha=linea[13]\n",
    "            fecha = datetime.strptime(linea[13], '%d/%m/%Y %H:%M')\n",
    "            if fecha.year==2013:\n",
    "                yield fecha.year,linea\n",
    "            if fecha.year==2014:\n",
    "                yield fecha.year,linea\n",
    "  \n",
    "    def reducer(self, key, values):\n",
    "        for valor in values:\n",
    "            yield key,valor\n",
    "\n",
    "if __name__ == '__main__':\n",
    "    fracond2.run()"
   ]
  }
 ],
 "metadata": {
  "kernelspec": {
   "display_name": "Python 3",
   "language": "python",
   "name": "python3"
  },
  "language_info": {
   "codemirror_mode": {
    "name": "ipython",
    "version": 3
   },
   "file_extension": ".py",
   "mimetype": "text/x-python",
   "name": "python",
   "nbconvert_exporter": "python",
   "pygments_lexer": "ipython3",
   "version": "3.7.6"
  }
 },
 "nbformat": 4,
 "nbformat_minor": 4
}
