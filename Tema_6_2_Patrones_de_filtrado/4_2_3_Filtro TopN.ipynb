{
 "cells": [
  {
   "cell_type": "markdown",
   "metadata": {},
   "source": [
    "Ejemplo de patrón de filtrado para extraer los N valores más altos.  "
   ]
  },
  {
   "cell_type": "code",
   "execution_count": 1,
   "metadata": {},
   "outputs": [],
   "source": [
    "%config IPCompleter.greedy=True"
   ]
  },
  {
   "cell_type": "code",
   "execution_count": 2,
   "metadata": {},
   "outputs": [
    {
     "name": "stdout",
     "output_type": "stream",
     "text": [
      "Writing topN.py\n"
     ]
    }
   ],
   "source": [
    "%%writefile topN.py\n",
    "#!/usr/bin/env python\n",
    "\n",
    "from mrjob.job import MRJob\n",
    "import re\n",
    "\n",
    "TopN=10 #Los N valores más altos que vamos a extraer\n",
    "\n",
    "class topN(MRJob):\n",
    "    \n",
    "    #Método que extrae los N valores más altos de una lista de valores.\n",
    "    def extraeTopN(self,listaValores):\n",
    "        valoresMasAltos = []\n",
    "        cuenta=0\n",
    "        #Comprobamos que el número de valores Top que necesitamos no sea mayor que el tamaño de la lista\n",
    "        if TopN>len(listaValores):#si lo es, N lo limitamos al tamaño máximo de la lista.\n",
    "            nValores=len(listaValores)\n",
    "        else:\n",
    "            nValores=TopN\n",
    "        \n",
    "        #Buscamos los N valores distintos más altos. Empezamos por el final de la lista\n",
    "        #que al estar ordenada, los valores más altos están al final. Pero puede haber valores repetidos\n",
    "        #y eso es lo que vamos a hacer con estas líneas de código, evitar que se repitan valores.\n",
    "        \n",
    "        \n",
    "        posicion=len(listaValores)-1 #Almacenamos la última posición de la lista\n",
    "        \n",
    "        while cuenta<nValores: #Como vamos a coger los N valores, \"cuenta\" la limitamos al número de valores \n",
    "                                #que quiera localizar\n",
    "            try:\n",
    "                if listaValores[posicion] not in valoresMasAltos: #Si el valor no está en los valores más altos, lo agregamos\n",
    "                    valoresMasAltos.append(listaValores[posicion])\n",
    "                    cuenta+=1 # si hemos agregado un valor aumentamos cuenta \n",
    "                    \n",
    "                posicion-=1 # tanto si hemos agregado un valor como si no, disminuimos la posición \n",
    "                        # de la lista para buscar un nuevo valor. Puede darse el caso que posición llegue a -1\n",
    "                        #(cuenta y posición no van al unísono, sobre todo cuando hay valores repetidos)\n",
    "                        #esto genera una excepción de índice fuera de rango. Es recogida por el try-catch y devuelve\n",
    "                        #los valores correctos por que ha terminado.\n",
    "            except:\n",
    "                break\n",
    "                \n",
    "        return valoresMasAltos\n",
    "    \n",
    "    #Inicializamos la estructura que nos permitirá contener los valores que nos llegan del Map\n",
    "    def mapper_init(self):\n",
    "        self.topNmap = []\n",
    "    \n",
    "    def mapper(self,_, line):\n",
    "        self.registro=line.rstrip('/n').split(';') \n",
    "        encontrado=re.search('[a-zA-Z]',self.registro[5])#En este caso el valor lo tengo en la posción 5 de la línea\n",
    "        #Preguntamos si ha encontrado la expresion regular. Si no la ha encontrado, procesamos dato\n",
    "        if encontrado==None:\n",
    "            self.topNmap.append(float(self.registro[5]))\n",
    "        \n",
    "    def mapper_final(self):\n",
    "        self.topNmap.sort() #se ordena la lista\n",
    "        #La función extraeTopN extrae los 10 elementos últimos de la lista, que se envían a reducer\n",
    "        yield \"TopNmap:\", self.extraeTopN(self.topNmap)\n",
    "        \n",
    " #===============================REDUCER=======================================     \n",
    "        \n",
    "    def reducer(self, key, values):\n",
    "        listaValores=[]\n",
    "        \n",
    "        # metemos los valores en una lista\n",
    "        for valores in values:\n",
    "            listaValores.extend(valores)\n",
    "        \n",
    "        # ordenamos la lista    \n",
    "        listaValores.sort()\n",
    "        yield \"TopNreducer:\", self.extraeTopN(listaValores)\n",
    "        \n",
    "if __name__ == '__main__':\n",
    "    topN.run()"
   ]
  },
  {
   "cell_type": "code",
   "execution_count": 3,
   "metadata": {},
   "outputs": [
    {
     "name": "stdout",
     "output_type": "stream",
     "text": [
      "\"TopNreducer:\"\t[38970.0, 17836.46, 16888.02, 16453.71, 13541.33, 13474.79, 11586.5, 11062.06, 8286.22, 8142.75]\n"
     ]
    },
    {
     "name": "stderr",
     "output_type": "stream",
     "text": [
      "No configs found; falling back on auto-configuration\n",
      "No configs specified for inline runner\n",
      "Creating temp directory C:\\Users\\cyber\\AppData\\Local\\Temp\\topN.manuel.20201114.130753.879036\n",
      "Running step 1 of 1...\n",
      "job output is in C:\\Users\\cyber\\AppData\\Local\\Temp\\topN.manuel.20201114.130753.879036\\output\n",
      "Streaming final output from C:\\Users\\cyber\\AppData\\Local\\Temp\\topN.manuel.20201114.130753.879036\\output...\n",
      "Removing temp directory C:\\Users\\cyber\\AppData\\Local\\Temp\\topN.manuel.20201114.130753.879036...\n"
     ]
    }
   ],
   "source": [
    "!python topN.py archivos_datos/sales.csv"
   ]
  },
  {
   "cell_type": "code",
   "execution_count": null,
   "metadata": {},
   "outputs": [],
   "source": []
  }
 ],
 "metadata": {
  "kernelspec": {
   "display_name": "Python 3",
   "language": "python",
   "name": "python3"
  },
  "language_info": {
   "codemirror_mode": {
    "name": "ipython",
    "version": 3
   },
   "file_extension": ".py",
   "mimetype": "text/x-python",
   "name": "python",
   "nbconvert_exporter": "python",
   "pygments_lexer": "ipython3",
   "version": "3.7.4"
  }
 },
 "nbformat": 4,
 "nbformat_minor": 4
}
