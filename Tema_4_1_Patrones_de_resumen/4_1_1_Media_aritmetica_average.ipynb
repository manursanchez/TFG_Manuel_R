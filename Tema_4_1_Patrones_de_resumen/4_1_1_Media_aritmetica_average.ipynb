{
 "cells": [
  {
   "cell_type": "markdown",
   "metadata": {},
   "source": [
    "Memoria TFG. Tema 4. Patrones de diseño. Apartado 4.1. Patrones de resumen. Subapartado 4.1.1. Media aritmetica versión 1"
   ]
  },
  {
   "cell_type": "code",
   "execution_count": 12,
   "metadata": {},
   "outputs": [
    {
     "name": "stdout",
     "output_type": "stream",
     "text": [
      "Overwriting average.py\n"
     ]
    }
   ],
   "source": [
    "%%writefile average.py\n",
    "#!/usr/bin/env python\n",
    "\n",
    "from mrjob.job import MRJob\n",
    "\n",
    "class average(MRJob):\n",
    "    \n",
    "    def mapper(self,_, line):\n",
    "        #División del registro para tener la lista de campos\n",
    "        linea=line.split(\";\") \n",
    "        #Extraemos el valor de la lista con el que operaremos\n",
    "        valor=linea[0] \n",
    "        #Extraemos la clave asociada al valor\n",
    "        clave=linea[1] \n",
    "        #Cedemos la clave y el valor al Reducer\n",
    "        yield clave,float(valor) \n",
    "    \n",
    "    def reducer(self, key, values):\n",
    "        sumaValues=0 # Para guardar la suma de los valores\n",
    "        cuentaValues=0 # Para guardar el número de valores\n",
    "        \n",
    "        # Iteramos a través del conjunto de valores que han\n",
    "        #llegado desde el mapper\n",
    "        for value in values:\n",
    "            sumaValues+=value #Sumamos valor\n",
    "            cuentaValues+=1 #Contamos valor\n",
    "            \n",
    "        #Dividimos\n",
    "        mediaValues=sumaValues/cuentaValues\n",
    "        #yield key, cuentaValues\n",
    "        #yield key, sumaValues\n",
    "        #Entregamos la media de ventas\n",
    "        #del cliente con clave linea[1]\n",
    "        yield key, mediaValues\n",
    "\n",
    "if __name__ == '__main__':\n",
    "    average.run()\n",
    "        "
   ]
  },
  {
   "cell_type": "code",
   "execution_count": 13,
   "metadata": {},
   "outputs": [
    {
     "name": "stderr",
     "output_type": "stream",
     "text": [
      "No configs found; falling back on auto-configuration\n",
      "No configs specified for inline runner\n",
      "Creating temp directory C:\\Users\\MRSANC~1\\AppData\\Local\\Temp\\average.mrsanchez.20201009.192159.943163\n",
      "Running step 1 of 1...\n",
      "job output is in C:\\Users\\MRSANC~1\\AppData\\Local\\Temp\\average.mrsanchez.20201009.192159.943163\\output\n",
      "Streaming final output from C:\\Users\\MRSANC~1\\AppData\\Local\\Temp\\average.mrsanchez.20201009.192159.943163\\output...\n",
      "Removing temp directory C:\\Users\\MRSANC~1\\AppData\\Local\\Temp\\average.mrsanchez.20201009.192159.943163...\n"
     ]
    }
   ],
   "source": [
    "! python average.py Venta-cliente.csv > average.txt"
   ]
  },
  {
   "cell_type": "markdown",
   "metadata": {},
   "source": [
    "Memoria TFG. Tema 4. Patrones de diseño. Apartado 4.1. Patrones de resumen. Subapartado 4.1.1. Media aritmetica versión 2\n",
    "\n",
    "¡¡¡¡REVISAR!!!!"
   ]
  },
  {
   "cell_type": "code",
   "execution_count": 3,
   "metadata": {},
   "outputs": [
    {
     "name": "stdout",
     "output_type": "stream",
     "text": [
      "Overwriting averageV2.py\n"
     ]
    }
   ],
   "source": [
    " %%writefile averageV2.py\n",
    "#!/usr/bin/env python\n",
    "#Segunda versión del patrón de resumen numérico\n",
    "from mrjob.job import MRJob\n",
    "import statistics as st\n",
    "\n",
    "class averageV2(MRJob):\n",
    "    \n",
    "    def mapper(self,_, line):\n",
    "       \n",
    "        linea=line.split(\";\")\n",
    "        valor=linea[0] \n",
    "        clave=linea[1] \n",
    "        \n",
    "        yield clave,float(valor)\n",
    "    \n",
    "    def combiner(self,key,values):\n",
    "            # Emite la clave y el conjunto \n",
    "            # de valores en forma de lista.\n",
    "            yield key,values\n",
    "    \n",
    "    # \"Values\" es una lista con los \n",
    "    # valores de la \"key\"\n",
    "    def reducer(self, key, values):\n",
    "        listaValores=[]\n",
    "        for valor in values:\n",
    "            for v in valor:\n",
    "                listaValores.append(v)\n",
    "        #yield key, cuentaValues\n",
    "        #yield key, sumaValues\n",
    "        # En una sola línea ya \n",
    "        # hacemos todas las operaciones\n",
    "        yield key, st.mean(v)\n",
    "        \n",
    "if __name__ == '__main__':\n",
    "    averageV2.run()"
   ]
  },
  {
   "cell_type": "code",
   "execution_count": 4,
   "metadata": {},
   "outputs": [
    {
     "name": "stderr",
     "output_type": "stream",
     "text": [
      "No configs found; falling back on auto-configuration\n",
      "No configs specified for inline runner\n",
      "Creating temp directory C:\\Users\\cyber\\AppData\\Local\\Temp\\averageV2.manuel.20201126.080709.574458\n",
      "Running step 1 of 1...\n",
      "\n",
      "Error while reading from C:\\Users\\cyber\\AppData\\Local\\Temp\\averageV2.manuel.20201126.080709.574458\\step\\000\\combiner\\00000\\input:\n",
      "\n",
      "Traceback (most recent call last):\n",
      "  File \"averageV2.py\", line 34, in <module>\n",
      "    averageV2.run()\n",
      "  File \"C:\\Users\\cyber\\Anaconda3\\lib\\site-packages\\mrjob\\job.py\", line 616, in run\n",
      "    cls().execute()\n",
      "  File \"C:\\Users\\cyber\\Anaconda3\\lib\\site-packages\\mrjob\\job.py\", line 687, in execute\n",
      "    self.run_job()\n",
      "  File \"C:\\Users\\cyber\\Anaconda3\\lib\\site-packages\\mrjob\\job.py\", line 636, in run_job\n",
      "    runner.run()\n",
      "  File \"C:\\Users\\cyber\\Anaconda3\\lib\\site-packages\\mrjob\\runner.py\", line 497, in run\n",
      "    self._run()\n",
      "  File \"C:\\Users\\cyber\\Anaconda3\\lib\\site-packages\\mrjob\\sim.py\", line 160, in _run\n",
      "    self._run_step(step, step_num)\n",
      "  File \"C:\\Users\\cyber\\Anaconda3\\lib\\site-packages\\mrjob\\sim.py\", line 169, in _run_step\n",
      "    self._run_streaming_step(step, step_num)\n",
      "  File \"C:\\Users\\cyber\\Anaconda3\\lib\\site-packages\\mrjob\\sim.py\", line 180, in _run_streaming_step\n",
      "    self._run_mappers_and_combiners(step_num, map_splits)\n",
      "  File \"C:\\Users\\cyber\\Anaconda3\\lib\\site-packages\\mrjob\\sim.py\", line 221, in _run_mappers_and_combiners\n",
      "    for task_num, map_split in enumerate(map_splits)\n",
      "  File \"C:\\Users\\cyber\\Anaconda3\\lib\\site-packages\\mrjob\\sim.py\", line 129, in _run_multiple\n",
      "    func()\n",
      "  File \"C:\\Users\\cyber\\Anaconda3\\lib\\site-packages\\mrjob\\sim.py\", line 729, in _run_mapper_and_combiner\n",
      "    run_combiner()\n",
      "  File \"C:\\Users\\cyber\\Anaconda3\\lib\\site-packages\\mrjob\\sim.py\", line 746, in _run_task\n",
      "    stdin, stdout, stderr, wd, env)\n",
      "  File \"C:\\Users\\cyber\\Anaconda3\\lib\\site-packages\\mrjob\\inline.py\", line 132, in invoke_task\n",
      "    task.execute()\n",
      "  File \"C:\\Users\\cyber\\Anaconda3\\lib\\site-packages\\mrjob\\job.py\", line 678, in execute\n",
      "    self.run_combiner(self.options.step_num)\n",
      "  File \"C:\\Users\\cyber\\Anaconda3\\lib\\site-packages\\mrjob\\job.py\", line 781, in run_combiner\n",
      "    write_line(k, v)\n",
      "  File \"C:\\Users\\cyber\\Anaconda3\\lib\\site-packages\\mrjob\\job.py\", line 975, in write_line\n",
      "    self.stdout.write(write(key, value))\n",
      "  File \"C:\\Users\\cyber\\Anaconda3\\lib\\site-packages\\mrjob\\protocol.py\", line 106, in write\n",
      "    return self._dumps(key) + b'\\t' + self._dumps(value)\n",
      "  File \"C:\\Users\\cyber\\Anaconda3\\lib\\site-packages\\mrjob\\protocol.py\", line 138, in _dumps\n",
      "    return json.dumps(value).encode('utf_8')\n",
      "  File \"C:\\Users\\cyber\\Anaconda3\\lib\\json\\__init__.py\", line 231, in dumps\n",
      "    return _default_encoder.encode(obj)\n",
      "  File \"C:\\Users\\cyber\\Anaconda3\\lib\\json\\encoder.py\", line 199, in encode\n",
      "    chunks = self.iterencode(o, _one_shot=True)\n",
      "  File \"C:\\Users\\cyber\\Anaconda3\\lib\\json\\encoder.py\", line 257, in iterencode\n",
      "    return _iterencode(o, 0)\n",
      "  File \"C:\\Users\\cyber\\Anaconda3\\lib\\json\\encoder.py\", line 179, in default\n",
      "    raise TypeError(f'Object of type {o.__class__.__name__} '\n",
      "TypeError: Object of type generator is not JSON serializable\n"
     ]
    }
   ],
   "source": [
    "! python averageV2.py archivos_datos/Venta-cliente.csv"
   ]
  }
 ],
 "metadata": {
  "kernelspec": {
   "display_name": "Python 3",
   "language": "python",
   "name": "python3"
  },
  "language_info": {
   "codemirror_mode": {
    "name": "ipython",
    "version": 3
   },
   "file_extension": ".py",
   "mimetype": "text/x-python",
   "name": "python",
   "nbconvert_exporter": "python",
   "pygments_lexer": "ipython3",
   "version": "3.7.4"
  }
 },
 "nbformat": 4,
 "nbformat_minor": 4
}
