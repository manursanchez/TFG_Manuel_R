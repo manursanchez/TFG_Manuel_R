{
 "cells": [
  {
   "cell_type": "markdown",
   "metadata": {},
   "source": [
    "Capítulo 6\n",
    "\n",
    "6.1 Patrones de resumen.\n",
    "\n",
    "6.1.2. Índice invertido\n",
    "\n",
    "Patrón que mapea un documento con varias líneas y devuelve la palabra junto a las líneas donde aparece y el número de veces que aparece en cada línea. La clave es la palabra y el valor es una lista con la linea y veces que aparece en cada línea.\n",
    "Puede ser extrapolable a documentos siempre que estén numerados."
   ]
  },
  {
   "cell_type": "code",
   "execution_count": 3,
   "metadata": {},
   "outputs": [
    {
     "name": "stdout",
     "output_type": "stream",
     "text": [
      "Overwriting indexinverted.py\n"
     ]
    }
   ],
   "source": [
    "%%writefile indexinverted.py\n",
    "#!/usr/bin/env python\n",
    "from mrjob.job import MRJob\n",
    "\n",
    "class indexinverted(MRJob):\n",
    "    \n",
    "    def mapper(self, _, line):\n",
    "        # Cuidado con el separador\n",
    "        linea=line.split(' ')\n",
    "        #Recogemos el primer elemento de la lista \"linea\", que en este caso identifica el número de línea\n",
    "        nLinea=linea[0]\n",
    "        #Recogemos todos los elementos de la lista \"linea\" a partir de la posición 1 \n",
    "        palabras=linea[1:]\n",
    "        #para cada elemento(palabra) de la lista \"valor\" lo pasamos al Reducer en minúscula y con su número de línea. \n",
    "        for palabra in palabras:\n",
    "            yield palabra.lower(),nLinea\n",
    "    \n",
    "    #La característica especial del reducer, es que se va a encargar de hacer un tratamiento por cada palabra que encuentre\n",
    "    #Lo que vamos a controlar es el número de línea y veces que aparece una palabra en una línea, \n",
    "    #mediante una lista. El resto se encarga el Reducer. \n",
    "    def reducer(self, key, values):\n",
    "        listaValores=[]\n",
    "        listaDef=[]\n",
    "        #Introducimos en una lista los valores que vienen del mapper\n",
    "        for valor in values:\n",
    "            listaValores.append(valor)\n",
    "        \n",
    "        #Vamos a ir viendo en cada elemento de la lista que es lo que contiene,\n",
    "        #para ello usamos el contador \"posicion\" que nos permitirá recorrer y extraer\n",
    "        #cada elemento de la lista mediante su número de posición. \n",
    "        \n",
    "        for posicion in range(len(listaValores)):\n",
    "            # la subLista contendrá el número de línea/documento donde aparece la palabra y \n",
    "            # el número de veces que aparece.\n",
    "            subLista=[]\n",
    "            \n",
    "            #Metemos el número de línea/documento en la variable elementoLista\n",
    "            elementoLista=listaValores[posicion]\n",
    "            \n",
    "            #Contamos el número de elementos iguales que hay en listaValores\n",
    "            #Metemos el número de elementos en la variable numérica cuentaElementos\n",
    "            cuentaElementos=listaValores.count(elementoLista) \n",
    "            \n",
    "            #Con las dos variables anteriores construimos el elemento de la sublista\n",
    "            subLista=[listaValores[posicion],cuentaElementos]\n",
    "            \n",
    "            #Si esa sublista creada está en la lista definitiva, no la agregamos por que ya ha sido agregada anteriormente\n",
    "            #si no, lo agregamos a la lista definitiva.\n",
    "            if subLista not in listaDef:\n",
    "                listaDef.append(subLista)\n",
    "                \n",
    "        #Mandamos a la salida la palabra (key) y las líneas/documentos(listaDef), y número\n",
    "        #de veces que aparecen\n",
    "        yield key, listaDef\n",
    "    \n",
    "if __name__ == '__main__':\n",
    "    indexinverted.run()\n"
   ]
  },
  {
   "cell_type": "code",
   "execution_count": 5,
   "metadata": {
    "scrolled": true
   },
   "outputs": [
    {
     "name": "stdout",
     "output_type": "stream",
     "text": [
      "\"camino\"\t[[\"linea4\",1]]\n",
      "\"chavea\"\t[[\"linea2\",1],[\"linea3\",1]]\n",
      "\"chico\"\t[[\"linea4\",1]]\n",
      "\"con\"\t[[\"linea2\",1]]\n",
      "\"corre\"\t[[\"linea1\",1],[\"linea2\",2],[\"linea3\",1]]\n",
      "\"de\"\t[[\"linea4\",1]]\n",
      "\"el\"\t[[\"linea1\",1],[\"linea2\",2],[\"linea3\",1],[\"linea4\",3]]\n",
      "\"es\"\t[[\"linea4\",1]]\n",
      "\"mismo\"\t[[\"linea4\",1]]\n",
      "\"nada\"\t[[\"linea3\",1]]\n",
      "\"perro\"\t[[\"linea1\",1],[\"linea2\",1]]\n",
      "\"que\"\t[[\"linea2\",1]]\n",
      "\"rapidamente\"\t[[\"linea3\",1]]\n",
      "\"rapido\"\t[[\"linea1\",1]]\n",
      "\"y\"\t[[\"linea3\",1]]\n"
     ]
    },
    {
     "name": "stderr",
     "output_type": "stream",
     "text": [
      "No configs found; falling back on auto-configuration\n",
      "No configs specified for inline runner\n",
      "Creating temp directory C:\\Users\\MRSANC~1\\AppData\\Local\\Temp\\indexinverted.mrsanchez.20201209.202829.367162\n",
      "Running step 1 of 1...\n",
      "job output is in C:\\Users\\MRSANC~1\\AppData\\Local\\Temp\\indexinverted.mrsanchez.20201209.202829.367162\\output\n",
      "Streaming final output from C:\\Users\\MRSANC~1\\AppData\\Local\\Temp\\indexinverted.mrsanchez.20201209.202829.367162\\output...\n",
      "Removing temp directory C:\\Users\\MRSANC~1\\AppData\\Local\\Temp\\indexinverted.mrsanchez.20201209.202829.367162...\n"
     ]
    }
   ],
   "source": [
    "! python indexinverted.py archivos_datos/docejemplo.txt"
   ]
  },
  {
   "cell_type": "code",
   "execution_count": null,
   "metadata": {},
   "outputs": [],
   "source": []
  }
 ],
 "metadata": {
  "kernelspec": {
   "display_name": "Python 3",
   "language": "python",
   "name": "python3"
  },
  "language_info": {
   "codemirror_mode": {
    "name": "ipython",
    "version": 3
   },
   "file_extension": ".py",
   "mimetype": "text/x-python",
   "name": "python",
   "nbconvert_exporter": "python",
   "pygments_lexer": "ipython3",
   "version": "3.7.4"
  }
 },
 "nbformat": 4,
 "nbformat_minor": 4
}
