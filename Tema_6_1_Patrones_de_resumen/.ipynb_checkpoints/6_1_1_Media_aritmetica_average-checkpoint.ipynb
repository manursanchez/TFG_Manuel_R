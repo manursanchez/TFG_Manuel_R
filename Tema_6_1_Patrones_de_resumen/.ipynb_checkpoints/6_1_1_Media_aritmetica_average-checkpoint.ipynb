{
 "cells": [
  {
   "cell_type": "markdown",
   "metadata": {},
   "source": [
    "Capítulo 6\n",
    "\n",
    "6.1 Patrones de resumen.\n",
    "\n",
    "6.1.1 Resúmenes numéricos\n",
    "\n",
    "Prototipo - Versión 1 - Cálculo de la media aritmética de un conjunto de valores. Se toma como clave el código del cliente y como valor el importe de la venta"
   ]
  },
  {
   "cell_type": "code",
   "execution_count": 55,
   "metadata": {},
   "outputs": [
    {
     "name": "stdout",
     "output_type": "stream",
     "text": [
      "Overwriting average.py\n"
     ]
    }
   ],
   "source": [
    "%%writefile average.py\n",
    "#!/usr/bin/env python\n",
    "\n",
    "from mrjob.job import MRJob\n",
    "import re\n",
    "class average(MRJob):\n",
    "    \n",
    "    def mapper(self,_, line):\n",
    "        #División del registro para tener la lista de campos\n",
    "        linea=line.split(\";\") \n",
    "        encontrado=re.search('^[0-9]',linea[0]) #La columna 0 tiene que ser un número.\n",
    "        \n",
    "        #Aplicamos una condición y lanzamos con yield los que la cumplan\"\"\"\n",
    "        \n",
    "        if encontrado!=None:\n",
    "        #Extraemos el valor de la lista con el que operaremos\n",
    "        \n",
    "            valor=linea[5] \n",
    "        #Extraemos la clave asociada al valor\n",
    "            clave=linea[0] \n",
    "        #Cedemos la clave y el valor al Reducer\n",
    "            yield clave,float(valor) \n",
    "    \n",
    "    def reducer(self, key, values):\n",
    "        sumaValues=0 # Para guardar la suma de los valores\n",
    "        cuentaValues=0 # Para guardar el número de valores \n",
    "        # Iteramos a través del conjunto de valores que han\n",
    "        #llegado desde el mapper\n",
    "        for value in values:\n",
    "            sumaValues+=value #Sumamos valor\n",
    "            cuentaValues+=1 #Contamos valor\n",
    "        #Dividimos\n",
    "        mediaValues=sumaValues/cuentaValues\n",
    "        #Entregamos la media de ventas\n",
    "        #del cliente con clave linea[1]\n",
    "        yield key, mediaValues\n",
    "\n",
    "if __name__ == '__main__':\n",
    "    average.run()\n",
    "        "
   ]
  },
  {
   "cell_type": "code",
   "execution_count": 56,
   "metadata": {},
   "outputs": [
    {
     "name": "stderr",
     "output_type": "stream",
     "text": [
      "No configs found; falling back on auto-configuration\n",
      "No configs specified for inline runner\n",
      "Creating temp directory C:\\Users\\MRSANC~1\\AppData\\Local\\Temp\\average.mrsanchez.20201130.233826.110916\n",
      "Running step 1 of 1...\n",
      "job output is in C:\\Users\\MRSANC~1\\AppData\\Local\\Temp\\average.mrsanchez.20201130.233826.110916\\output\n",
      "Streaming final output from C:\\Users\\MRSANC~1\\AppData\\Local\\Temp\\average.mrsanchez.20201130.233826.110916\\output...\n",
      "Removing temp directory C:\\Users\\MRSANC~1\\AppData\\Local\\Temp\\average.mrsanchez.20201130.233826.110916...\n"
     ]
    }
   ],
   "source": [
    "! python average.py archivos_datos/Online_Retail.csv > average.txt"
   ]
  },
  {
   "cell_type": "markdown",
   "metadata": {},
   "source": [
    "Capítulo 6\n",
    "\n",
    "6.1 Patrones de resumen.\n",
    "\n",
    "6.1.1 Resúmenes numéricos\n",
    "\n",
    "Prototipo - Versión 2: Cálculo de la media aritmética de un conjunto de valores. Se toma como clave el código del cliente y como valor el importe de la venta. Aquí usamos el método mean de la librería statistics."
   ]
  },
  {
   "cell_type": "code",
   "execution_count": 64,
   "metadata": {},
   "outputs": [
    {
     "name": "stdout",
     "output_type": "stream",
     "text": [
      "Overwriting averageV2.py\n"
     ]
    }
   ],
   "source": [
    " %%writefile averageV2.py\n",
    "#!/usr/bin/env python\n",
    "#Segunda versión del patrón de resumen numérico\n",
    "from mrjob.job import MRJob\n",
    "import statistics as st\n",
    "import re\n",
    "class averageV2(MRJob):\n",
    "    \n",
    "    def mapper(self,_, line):\n",
    "       \n",
    "        linea=line.split(\";\")\n",
    "        encontrado=re.search('^[0-9]',linea[0])\n",
    "        if encontrado!=None:\n",
    "            valor=linea[5] \n",
    "            clave=linea[0] \n",
    "            yield clave,float(valor)\n",
    "        \n",
    "    def reducer(self, key, values):\n",
    "        listaValores=[]\n",
    "        for valor in values:\n",
    "            listaValores.append(valor)  \n",
    "        yield key, st.mean(listaValores)\n",
    "        \n",
    "        \n",
    "if __name__ == '__main__':\n",
    "    averageV2.run()"
   ]
  },
  {
   "cell_type": "code",
   "execution_count": null,
   "metadata": {},
   "outputs": [],
   "source": [
    "! python averageV2.py archivos_datos/Online_Retail.csv"
   ]
  },
  {
   "cell_type": "code",
   "execution_count": null,
   "metadata": {},
   "outputs": [],
   "source": []
  }
 ],
 "metadata": {
  "kernelspec": {
   "display_name": "Python 3",
   "language": "python",
   "name": "python3"
  },
  "language_info": {
   "codemirror_mode": {
    "name": "ipython",
    "version": 3
   },
   "file_extension": ".py",
   "mimetype": "text/x-python",
   "name": "python",
   "nbconvert_exporter": "python",
   "pygments_lexer": "ipython3",
   "version": "3.8.5"
  }
 },
 "nbformat": 4,
 "nbformat_minor": 4
}
