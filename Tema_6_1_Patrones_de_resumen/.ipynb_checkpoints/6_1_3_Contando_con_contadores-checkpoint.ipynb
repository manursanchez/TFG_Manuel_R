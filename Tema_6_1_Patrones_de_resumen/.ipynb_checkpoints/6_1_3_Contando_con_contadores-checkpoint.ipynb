{
 "cells": [
  {
   "cell_type": "markdown",
   "metadata": {},
   "source": [
    "Capítulo 6\n",
    "\n",
    "6.1 Patrones de resumen.\n",
    "\n",
    "6.1.3. Contando con contadores Versión 1"
   ]
  },
  {
   "cell_type": "code",
   "execution_count": 3,
   "metadata": {},
   "outputs": [
    {
     "name": "stdout",
     "output_type": "stream",
     "text": [
      "Writing counter.py\n"
     ]
    }
   ],
   "source": [
    "%%writefile counter.py\n",
    "#!/usr/bin/env python\n",
    "from mrjob.job import MRJob\n",
    "\n",
    "class counter(MRJob):\n",
    "    def mapper_init(self):\n",
    "        #Creamos un diccionario con los que serán los contadores a 0\n",
    "        self.contadores={\"Netherlands\":0,\"France\":0,\"Australia\":0}    \n",
    "        \n",
    "    def mapper(self, _, line):\n",
    "        linea=line.split(\";\")\n",
    "        # Estudiamos cada token de la línea recogido\n",
    "        for token in linea:\n",
    "            # Si el token está en el diccionario\n",
    "            if token in self.contadores:\n",
    "                # Contamos con el contador definido en diccionario\n",
    "                self.contadores[token]=self.contadores[token]+1\n",
    "          \n",
    "    def mapper_final(self):\n",
    "        yield \"Bloque: \",self.contadores\n",
    "    \n",
    "if __name__ == '__main__':\n",
    "    counter.run()"
   ]
  },
  {
   "cell_type": "code",
   "execution_count": 4,
   "metadata": {},
   "outputs": [
    {
     "name": "stdout",
     "output_type": "stream",
     "text": [
      "\"Bloque: \"\t{\"Netherlands\":292,\"France\":970,\"Australia\":142}"
     ]
    },
    {
     "name": "stderr",
     "output_type": "stream",
     "text": [
      "No configs found; falling back on auto-configuration\n",
      "No configs specified for inline runner\n",
      "Creating temp directory C:\\Users\\MRSANC~1\\AppData\\Local\\Temp\\counter.mrsanchez.20201209.210644.552780\n",
      "Running step 1 of 1...\n",
      "job output is in C:\\Users\\MRSANC~1\\AppData\\Local\\Temp\\counter.mrsanchez.20201209.210644.552780\\output\n",
      "Streaming final output from C:\\Users\\MRSANC~1\\AppData\\Local\\Temp\\counter.mrsanchez.20201209.210644.552780\\output...\n"
     ]
    },
    {
     "name": "stdout",
     "output_type": "stream",
     "text": [
      "\n",
      "\"Bloque: \"\t{\"Netherlands\":269,\"France\":1048,\"Australia\":221}\n",
      "\"Bloque: \"\t{\"Netherlands\":279,\"France\":917,\"Australia\":137}\n",
      "\"Bloque: \"\t{\"Netherlands\":415,\"France\":1093,\"Australia\":367}\n",
      "\"Bloque: \"\t{\"Netherlands\":401,\"France\":1117,\"Australia\":146}\n",
      "\"Bloque: \"\t{\"Netherlands\":192,\"France\":1261,\"Australia\":201}\n",
      "\"Bloque: \"\t{\"Netherlands\":349,\"France\":1077,\"Australia\":37}\n",
      "\"Bloque: \"\t{\"Netherlands\":174,\"France\":1074,\"Australia\":8}\n"
     ]
    },
    {
     "name": "stderr",
     "output_type": "stream",
     "text": [
      "Removing temp directory C:\\Users\\MRSANC~1\\AppData\\Local\\Temp\\counter.mrsanchez.20201209.210644.552780...\n"
     ]
    }
   ],
   "source": [
    "!python counter.py archivos_datos/Online_Retail.csv"
   ]
  },
  {
   "cell_type": "markdown",
   "metadata": {},
   "source": [
    "Capítulo 6\n",
    "\n",
    "6.1 Patrones de resumen.\n",
    "\n",
    "6.1.3. Contando con contadores Versión 2 donde incluimos el reducer."
   ]
  },
  {
   "cell_type": "code",
   "execution_count": 5,
   "metadata": {},
   "outputs": [
    {
     "name": "stdout",
     "output_type": "stream",
     "text": [
      "Writing counterV2.py\n"
     ]
    }
   ],
   "source": [
    "%%writefile counterV2.py\n",
    "#!/usr/bin/env python\n",
    "from mrjob.job import MRJob\n",
    "\n",
    "class counterV2(MRJob):\n",
    "    \n",
    "    def mapper_init(self):\n",
    "        #Creamos un diccionario con los que serán los contadores a 0\n",
    "        self.contadores={\"Netherlands\":0,\"France\":0,\"Australia\":0}    \n",
    "        \n",
    "    def mapper(self, _, line):\n",
    "        linea=line.split(\";\")\n",
    "        # Estudiamos cada token de la línea recogido\n",
    "        for token in linea:\n",
    "            # Si el token está en el diccionario\n",
    "            if token in self.contadores:\n",
    "                # Contamos con el contador definido en diccionario\n",
    "                self.contadores[token]=self.contadores[token]+1\n",
    "          \n",
    "    def mapper_final(self):\n",
    "        for clave, valor in self.contadores.items(): \n",
    "            yield clave,valor\n",
    "   \n",
    "    def reducer(self, key, values):\n",
    "        yield key, sum(values)\n",
    "        \n",
    "if __name__ == '__main__':\n",
    "    counterV2.run()"
   ]
  },
  {
   "cell_type": "code",
   "execution_count": 6,
   "metadata": {},
   "outputs": [
    {
     "name": "stdout",
     "output_type": "stream",
     "text": [
      "\"Australia\"\t1259\n",
      "\"France\"\t8557\n",
      "\"Netherlands\"\t2371\n"
     ]
    },
    {
     "name": "stderr",
     "output_type": "stream",
     "text": [
      "No configs found; falling back on auto-configuration\n",
      "No configs specified for inline runner\n",
      "Creating temp directory C:\\Users\\MRSANC~1\\AppData\\Local\\Temp\\counterV2.mrsanchez.20201209.210653.587213\n",
      "Running step 1 of 1...\n",
      "job output is in C:\\Users\\MRSANC~1\\AppData\\Local\\Temp\\counterV2.mrsanchez.20201209.210653.587213\\output\n",
      "Streaming final output from C:\\Users\\MRSANC~1\\AppData\\Local\\Temp\\counterV2.mrsanchez.20201209.210653.587213\\output...\n",
      "Removing temp directory C:\\Users\\MRSANC~1\\AppData\\Local\\Temp\\counterV2.mrsanchez.20201209.210653.587213...\n"
     ]
    }
   ],
   "source": [
    "!python counterV2.py archivos_datos/Online_Retail.csv"
   ]
  },
  {
   "cell_type": "markdown",
   "metadata": {},
   "source": [
    "Capítulo 6\n",
    "\n",
    "6.1 Patrones de resumen.\n",
    "\n",
    "6.1.3. Contando con contadores Versión 3. Declaramos los contadores fuera de la clase."
   ]
  },
  {
   "cell_type": "code",
   "execution_count": 7,
   "metadata": {},
   "outputs": [
    {
     "name": "stdout",
     "output_type": "stream",
     "text": [
      "Overwriting counterV3.py\n"
     ]
    }
   ],
   "source": [
    "%%writefile counterV3.py\n",
    "#!/usr/bin/env python\n",
    "from mrjob.job import MRJob\n",
    "\n",
    "contadores={\"Netherlands\":0,\"France\":0,\"Australia\":0} \n",
    "lista=[]\n",
    "class counterV3(MRJob):\n",
    "    \n",
    "    def mapper(self, _, line):\n",
    "        linea=line.split(\";\")\n",
    "        # Estudiamos cada token de la línea recogido#\n",
    "        for token in linea:\n",
    "            # Si el token está en el diccionario\n",
    "            if token in contadores:\n",
    "                # Contamos con el contador definido en diccionario\n",
    "                contadores[token]=contadores[token]+1\n",
    "    def mapper_final(self):\n",
    "        yield \"Bloque: \",contadores\n",
    "            \n",
    "if __name__ == '__main__':\n",
    "    counterV3.run()"
   ]
  },
  {
   "cell_type": "code",
   "execution_count": 8,
   "metadata": {},
   "outputs": [
    {
     "name": "stdout",
     "output_type": "stream",
     "text": [
      "\"Bloque: \"\t{\"Netherlands\":292,\"France\":970,\"Australia\":142}\n"
     ]
    },
    {
     "name": "stderr",
     "output_type": "stream",
     "text": [
      "No configs found; falling back on auto-configuration\n",
      "No configs specified for inline runner\n",
      "Creating temp directory C:\\Users\\MRSANC~1\\AppData\\Local\\Temp\\counterV3.mrsanchez.20201209.210703.037804\n",
      "Running step 1 of 1...\n",
      "job output is in C:\\Users\\MRSANC~1\\AppData\\Local\\Temp\\counterV3.mrsanchez.20201209.210703.037804\\output\n",
      "Streaming final output from C:\\Users\\MRSANC~1\\AppData\\Local\\Temp\\counterV3.mrsanchez.20201209.210703.037804\\output...\n",
      "Removing temp directory C:\\Users\\MRSANC~1\\AppData\\Local\\Temp\\counterV3.mrsanchez.20201209.210703.037804...\n"
     ]
    },
    {
     "name": "stdout",
     "output_type": "stream",
     "text": [
      "\"Bloque: \"\t{\"Netherlands\":561,\"France\":2018,\"Australia\":363}\n",
      "\"Bloque: \"\t{\"Netherlands\":840,\"France\":2935,\"Australia\":500}\n",
      "\"Bloque: \"\t{\"Netherlands\":1255,\"France\":4028,\"Australia\":867}\n",
      "\"Bloque: \"\t{\"Netherlands\":1656,\"France\":5145,\"Australia\":1013}\n",
      "\"Bloque: \"\t{\"Netherlands\":1848,\"France\":6406,\"Australia\":1214}\n",
      "\"Bloque: \"\t{\"Netherlands\":2197,\"France\":7483,\"Australia\":1251}\n",
      "\"Bloque: \"\t{\"Netherlands\":2371,\"France\":8557,\"Australia\":1259}\n"
     ]
    }
   ],
   "source": [
    "!python counterV3.py archivos_datos/Online_Retail.csv"
   ]
  },
  {
   "cell_type": "code",
   "execution_count": null,
   "metadata": {},
   "outputs": [],
   "source": []
  }
 ],
 "metadata": {
  "kernelspec": {
   "display_name": "Python 3",
   "language": "python",
   "name": "python3"
  },
  "language_info": {
   "codemirror_mode": {
    "name": "ipython",
    "version": 3
   },
   "file_extension": ".py",
   "mimetype": "text/x-python",
   "name": "python",
   "nbconvert_exporter": "python",
   "pygments_lexer": "ipython3",
   "version": "3.8.5"
  }
 },
 "nbformat": 4,
 "nbformat_minor": 4
}
