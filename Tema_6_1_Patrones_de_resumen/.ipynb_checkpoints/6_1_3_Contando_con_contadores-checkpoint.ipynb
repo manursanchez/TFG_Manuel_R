{
 "cells": [
  {
   "cell_type": "markdown",
   "metadata": {},
   "source": [
    "Memoria TFG. Tema 4. Patrones de diseño. Apartado 4.1. Patrones de resumen. Subapartado 4.1.3. Contando con contadores Versión 1"
   ]
  },
  {
   "cell_type": "code",
   "execution_count": 3,
   "metadata": {},
   "outputs": [
    {
     "name": "stdout",
     "output_type": "stream",
     "text": [
      "Overwriting counter.py\n"
     ]
    }
   ],
   "source": [
    "%%writefile counter.py\n",
    "#!/usr/bin/env python\n",
    "from mrjob.job import MRJob\n",
    "\n",
    "class counter(MRJob):\n",
    "    def mapper_init(self):\n",
    "        #Creamos un diccionario con los que serán los contadores a 0\n",
    "        self.contadores={\"Netherlands\":0,\"France\":0,\"Australia\":0}    \n",
    "        \n",
    "    def mapper(self, _, line):\n",
    "        linea=line.split(\";\")\n",
    "        # Estudiamos cada token de la línea recogido\n",
    "        for token in linea:\n",
    "            # Si el token está en el diccionario\n",
    "            if token in self.contadores:\n",
    "                # Contamos con el contador definido en diccionario\n",
    "                self.contadores[token]=self.contadores[token]+1\n",
    "          \n",
    "    def mapper_final(self):\n",
    "        yield \"Bloque: \",self.contadores\n",
    "    \n",
    "if __name__ == '__main__':\n",
    "    counter.run()"
   ]
  },
  {
   "cell_type": "code",
   "execution_count": 4,
   "metadata": {},
   "outputs": [
    {
     "name": "stderr",
     "output_type": "stream",
     "text": [
      "No configs found; falling back on auto-configuration\n",
      "No configs specified for inline runner\n",
      "Creating temp directory C:\\Users\\MRSANC~1\\AppData\\Local\\Temp\\counter.mrsanchez.20201020.194034.856193\n",
      "Running step 1 of 1...\n",
      "job output is in C:\\Users\\MRSANC~1\\AppData\\Local\\Temp\\counter.mrsanchez.20201020.194034.856193\\output\n",
      "Streaming final output from C:\\Users\\MRSANC~1\\AppData\\Local\\Temp\\counter.mrsanchez.20201020.194034.856193\\output...\n",
      "Removing temp directory C:\\Users\\MRSANC~1\\AppData\\Local\\Temp\\counter.mrsanchez.20201020.194034.856193...\n"
     ]
    }
   ],
   "source": [
    "!python counter.py Ventasonline.csv > counter.txt"
   ]
  },
  {
   "cell_type": "markdown",
   "metadata": {},
   "source": [
    "Memoria TFG. Tema 4. Patrones de diseño. Apartado 4.1. Patrones de resumen. Subapartado 4.1.3. Contando con contadores Versión 2"
   ]
  },
  {
   "cell_type": "code",
   "execution_count": 1,
   "metadata": {},
   "outputs": [
    {
     "name": "stdout",
     "output_type": "stream",
     "text": [
      "Overwriting counterV2.py\n"
     ]
    }
   ],
   "source": [
    "%%writefile counterV2.py\n",
    "#!/usr/bin/env python\n",
    "from mrjob.job import MRJob\n",
    "\n",
    "class counterV2(MRJob):\n",
    "    \n",
    "    def mapper_init(self):\n",
    "        #Creamos un diccionario con los que serán los contadores a 0\n",
    "        self.contadores={\"Netherlands\":0,\"France\":0,\"Australia\":0}    \n",
    "        \n",
    "    def mapper(self, _, line):\n",
    "        linea=line.split(\";\")\n",
    "        # Estudiamos cada token de la línea recogido\n",
    "        for token in linea:\n",
    "            # Si el token está en el diccionario\n",
    "            if token in self.contadores:\n",
    "                # Contamos con el contador definido en diccionario\n",
    "                self.contadores[token]=self.contadores[token]+1\n",
    "          \n",
    "    def mapper_final(self):\n",
    "        for clave, valor in self.contadores.items(): \n",
    "            yield clave,valor\n",
    "   \n",
    "    def reducer(self, key, values):\n",
    "        yield key, sum(values)\n",
    "        \n",
    "if __name__ == '__main__':\n",
    "    counterV2.run()"
   ]
  },
  {
   "cell_type": "code",
   "execution_count": 2,
   "metadata": {},
   "outputs": [
    {
     "name": "stderr",
     "output_type": "stream",
     "text": [
      "No configs found; falling back on auto-configuration\n",
      "No configs specified for inline runner\n",
      "Creating temp directory C:\\Users\\MRSANC~1\\AppData\\Local\\Temp\\counterV2.mrsanchez.20201020.193859.952147\n",
      "Running step 1 of 1...\n",
      "job output is in C:\\Users\\MRSANC~1\\AppData\\Local\\Temp\\counterV2.mrsanchez.20201020.193859.952147\\output\n",
      "Streaming final output from C:\\Users\\MRSANC~1\\AppData\\Local\\Temp\\counterV2.mrsanchez.20201020.193859.952147\\output...\n",
      "Removing temp directory C:\\Users\\MRSANC~1\\AppData\\Local\\Temp\\counterV2.mrsanchez.20201020.193859.952147...\n"
     ]
    }
   ],
   "source": [
    "!python counterV2.py Ventasonline.csv > counterV2.txt"
   ]
  },
  {
   "cell_type": "markdown",
   "metadata": {},
   "source": [
    "Memoria TFG. Tema 4. Patrones de diseño. Apartado 4.1. Patrones de resumen. Subapartado 4.1.3. Contando con contadores Versión 3"
   ]
  },
  {
   "cell_type": "code",
   "execution_count": 5,
   "metadata": {},
   "outputs": [
    {
     "name": "stdout",
     "output_type": "stream",
     "text": [
      "Overwriting counterV3.py\n"
     ]
    }
   ],
   "source": [
    "%%writefile counterV3.py\n",
    "#!/usr/bin/env python\n",
    "from mrjob.job import MRJob\n",
    "\n",
    "contadores={\"Netherlands\":0,\"France\":0,\"Australia\":0} \n",
    "lista=[]\n",
    "class counterV3(MRJob):\n",
    "    \n",
    "    def mapper(self, _, line):\n",
    "        linea=line.split(\";\")\n",
    "        # Estudiamos cada token de la línea recogido#\n",
    "        for token in linea:\n",
    "            # Si el token está en el diccionario\n",
    "            if token in contadores:\n",
    "                # Contamos con el contador definido en diccionario\n",
    "                contadores[token]=contadores[token]+1\n",
    "    def mapper_final(self):\n",
    "        yield \"Bloque: \",contadores\n",
    "            \n",
    "if __name__ == '__main__':\n",
    "    counterV3.run()"
   ]
  },
  {
   "cell_type": "code",
   "execution_count": 6,
   "metadata": {},
   "outputs": [
    {
     "name": "stderr",
     "output_type": "stream",
     "text": [
      "No configs found; falling back on auto-configuration\n",
      "No configs specified for inline runner\n",
      "Creating temp directory C:\\Users\\MRSANC~1\\AppData\\Local\\Temp\\counterV3.mrsanchez.20201020.194551.309388\n",
      "Running step 1 of 1...\n",
      "job output is in C:\\Users\\MRSANC~1\\AppData\\Local\\Temp\\counterV3.mrsanchez.20201020.194551.309388\\output\n",
      "Streaming final output from C:\\Users\\MRSANC~1\\AppData\\Local\\Temp\\counterV3.mrsanchez.20201020.194551.309388\\output...\n",
      "Removing temp directory C:\\Users\\MRSANC~1\\AppData\\Local\\Temp\\counterV3.mrsanchez.20201020.194551.309388...\n"
     ]
    }
   ],
   "source": [
    "!python counterV3.py Ventasonline.csv > counterV3.txt"
   ]
  }
 ],
 "metadata": {
  "kernelspec": {
   "display_name": "Python 3",
   "language": "python",
   "name": "python3"
  },
  "language_info": {
   "codemirror_mode": {
    "name": "ipython",
    "version": 3
   },
   "file_extension": ".py",
   "mimetype": "text/x-python",
   "name": "python",
   "nbconvert_exporter": "python",
   "pygments_lexer": "ipython3",
   "version": "3.7.4"
  }
 },
 "nbformat": 4,
 "nbformat_minor": 4
}
