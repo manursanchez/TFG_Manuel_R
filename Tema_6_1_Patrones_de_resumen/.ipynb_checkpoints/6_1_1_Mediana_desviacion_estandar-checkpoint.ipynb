{
 "cells": [
  {
   "cell_type": "markdown",
   "metadata": {},
   "source": [
    "Capítulo 6\n",
    "\n",
    "6.1 Patrones de resumen.\n",
    "\n",
    "6.1.1 Resúmenes numéricos\n",
    "\n",
    "Prototipo - Desviación estándar agrupada por paises."
   ]
  },
  {
   "cell_type": "code",
   "execution_count": 34,
   "metadata": {},
   "outputs": [
    {
     "name": "stdout",
     "output_type": "stream",
     "text": [
      "Overwriting desviacion.py\n"
     ]
    }
   ],
   "source": [
    "%%writefile desviacion.py \n",
    "#!/usr/bin/env python\n",
    "\n",
    "from mrjob.job import MRJob\n",
    "import statistics as st\n",
    "import re \n",
    "\n",
    "class desviacion(MRJob):\n",
    "    \n",
    "    def mapper(self, _, line):\n",
    "       \n",
    "        linea=line.split(\";\")\n",
    "        encontrado=re.search('^[0-9]',linea[5])\n",
    "        if encontrado!=None:\n",
    "            valor=linea[5] #UnitPrice\n",
    "            clave=linea[7] #Country\n",
    "            yield clave,float(valor)\n",
    "        \n",
    "    def reducer(self, key, values):\n",
    "        valores=[]       \n",
    "        for value in values:\n",
    "            valores.append(value)\n",
    "        desviacionEstandar=st.pstdev(valores)\n",
    "        yield key, desviacionEstandar\n",
    "        \n",
    "if __name__ == '__main__':\n",
    "    desviacion.run()\n",
    "\n"
   ]
  },
  {
   "cell_type": "code",
   "execution_count": 36,
   "metadata": {},
   "outputs": [
    {
     "name": "stdout",
     "output_type": "stream",
     "text": [
      "\"Australia\"\t10.370093046940518\n",
      "\"Austria\"\t7.370822848666736\n",
      "\"Bahrain\"\t3.4688015150217635\n",
      "\"Belgium\"\t4.246608097020573\n",
      "\"Brazil\"\t2.7871297399834116\n",
      "\"Canada\"\t44.56537098037929\n",
      "\"Channel Islands\"\t11.545051417070008\n",
      "\"Cyprus\"\t18.562768615553413\n",
      "\"Czech Republic\"\t7.617698823135501\n",
      "\"Denmark\"\t3.782842278354807\n",
      "\"EIRE\"\t38.04245790067097\n",
      "\"European Community\"\t4.375178091613338\n",
      "\"Finland\"\t13.479725213522103\n",
      "\"France\"\t65.50136443495852\n",
      "\"Germany\"\t13.15455169484316\n",
      "\"Greece\"\t7.590120609269528\n",
      "\"Hong Kong\"\t219.64782437541152\n",
      "\"Iceland\"\t2.2491763718142677\n",
      "\"Israel\"\t8.617542306192831\n",
      "\"Italy\"\t12.06700204817691\n",
      "\"Japan\"\t1.8199608036150665\n",
      "\"Lebanon\"\t4.02327846168357\n",
      "\"Lithuania\"\t1.3471806993624478\n",
      "\"Malta\"\t8.084358543091254\n",
      "\"Netherlands\"\t4.713934513554039\n",
      "\"Norway\"\t26.775282380757535\n",
      "\"Poland\"\t5.971450655274198\n",
      "\"Portugal\"\t50.92431555959031\n",
      "\"RSA\"\t3.6366701851655203\n",
      "\"Saudi Arabia\"\t1.3721228034160504\n",
      "\"Singapore\"\t373.08372816818456\n",
      "\"Spain\"\t5.222638442840617\n",
      "\"Sweden\"\t8.019815716071271\n",
      "\"Switzerland\"\t5.354713745100451\n",
      "\"USA\"\t2.3022506577685355\n",
      "\"United Arab Emirates\"\t5.3029251961359165\n",
      "\"United Kingdom\"\t30.751561422313824\n",
      "\"Unspecified\"\t2.8628636683465705\n"
     ]
    },
    {
     "name": "stderr",
     "output_type": "stream",
     "text": [
      "No configs found; falling back on auto-configuration\n",
      "No configs specified for inline runner\n",
      "Creating temp directory C:\\Users\\cyber\\AppData\\Local\\Temp\\desviacion.manuel.20201207.064350.636389\n",
      "Running step 1 of 1...\n",
      "job output is in C:\\Users\\cyber\\AppData\\Local\\Temp\\desviacion.manuel.20201207.064350.636389\\output\n",
      "Streaming final output from C:\\Users\\cyber\\AppData\\Local\\Temp\\desviacion.manuel.20201207.064350.636389\\output...\n",
      "Removing temp directory C:\\Users\\cyber\\AppData\\Local\\Temp\\desviacion.manuel.20201207.064350.636389...\n"
     ]
    }
   ],
   "source": [
    "!python desviacion.py archivos_datos/Online_Retail.csv"
   ]
  },
  {
   "cell_type": "markdown",
   "metadata": {},
   "source": [
    "Capítulo 6\n",
    "\n",
    "6.1 Patrones de resumen.\n",
    "\n",
    "6.1.1 Resúmenes numéricos\n",
    "\n",
    "Mediana Versión 1. "
   ]
  },
  {
   "cell_type": "code",
   "execution_count": 1,
   "metadata": {},
   "outputs": [
    {
     "name": "stdout",
     "output_type": "stream",
     "text": [
      "Writing mediana.py\n"
     ]
    }
   ],
   "source": [
    "%%writefile mediana.py\n",
    "#!/usr/bin/env python\n",
    "\n",
    "from mrjob.job import MRJob\n",
    "import re\n",
    "\n",
    "class mediana(MRJob):\n",
    "    \n",
    "    def mapper(self, _, line):\n",
    "       \n",
    "        linea=line.split(\";\")\n",
    "        encontrado=re.search('^[0-9]',linea[5])\n",
    "        if encontrado!=None:\n",
    "            valor=linea[5] # UnitPrice\n",
    "            clave=linea[7] # Country\n",
    "            yield clave,float(valor)\n",
    "        \n",
    "    def reducer(self, key, values):\n",
    "        valores=[]\n",
    "        sumaValores=0\n",
    "        contador=0\n",
    "        #Recorremos los valores\n",
    "        for value in values:\n",
    "            valores.append(value)\n",
    "            sumaValores+=value\n",
    "            contador=contador+1\n",
    "        #Ordenamos los valores\n",
    "        valores.sort()\n",
    "      \n",
    "        #Comprobamos si el total de \n",
    "        #los valores es par o impar\n",
    "        \n",
    "        if contador%2==0:\n",
    "            #Para el número de Claves(key) pares\n",
    "            \n",
    "            #Calculamos los índices\n",
    "            #donde se encuentran los valores\n",
    "            #centrales\n",
    "            indice_1=int(contador//2)\n",
    "            indice_2=int(indice_1-1)\n",
    "            \n",
    "            #Extraemos los valores\n",
    "            valor_1=valores[indice_1]\n",
    "            valor_2=valores[indice_2]\n",
    "            mediana=(valor_1+valor_2)/2\n",
    "        \n",
    "        else:\n",
    "            #Para el número de claves(key) impares\n",
    "            indice=(contador-1)//2\n",
    "            mediana=valores[indice]\n",
    "            \n",
    "        yield key, mediana\n",
    "        \n",
    "if __name__ == '__main__':\n",
    "    mediana.run()\n",
    "\n"
   ]
  },
  {
   "cell_type": "code",
   "execution_count": 2,
   "metadata": {},
   "outputs": [
    {
     "name": "stdout",
     "output_type": "stream",
     "text": [
      "\"Australia\"\t1.79\n",
      "\"Austria\"\t1.95\n",
      "\"Bahrain\"\t3.81\n",
      "\"Belgium\"\t1.95\n",
      "\"Brazil\"\t3.3200000000000003\n",
      "\"Canada\"\t1.65\n",
      "\"Channel Islands\"\t2.55\n",
      "\"Cyprus\"\t2.95\n",
      "\"Czech Republic\"\t1.45\n",
      "\"Denmark\"\t1.95\n",
      "\"EIRE\"\t2.1\n",
      "\"European Community\"\t3.35\n",
      "\"Finland\"\t2.08\n",
      "\"France\"\t1.79\n",
      "\"Germany\"\t1.95\n",
      "\"Greece\"\t2.1\n",
      "\"Hong Kong\"\t2.325\n",
      "\"Iceland\"\t2.015\n",
      "\"Israel\"\t1.95\n",
      "\"Italy\"\t2.55\n",
      "\"Japan\"\t1.65\n",
      "\"Lebanon\"\t3.95\n",
      "\"Lithuania\"\t2.55\n"
     ]
    },
    {
     "name": "stderr",
     "output_type": "stream",
     "text": [
      "No configs found; falling back on auto-configuration\n",
      "No configs specified for inline runner\n",
      "Creating temp directory C:\\Users\\MRSANC~1\\AppData\\Local\\Temp\\mediana.mrsanchez.20201209.195439.139638\n",
      "Running step 1 of 1...\n",
      "job output is in C:\\Users\\MRSANC~1\\AppData\\Local\\Temp\\mediana.mrsanchez.20201209.195439.139638\\output\n",
      "Streaming final output from C:\\Users\\MRSANC~1\\AppData\\Local\\Temp\\mediana.mrsanchez.20201209.195439.139638\\output...\n",
      "Removing temp directory C:\\Users\\MRSANC~1\\AppData\\Local\\Temp\\mediana.mrsanchez.20201209.195439.139638...\n"
     ]
    },
    {
     "name": "stdout",
     "output_type": "stream",
     "text": [
      "\"Malta\"\t2.95\n",
      "\"Netherlands\"\t1.45\n",
      "\"Norway\"\t2.08\n",
      "\"Poland\"\t2.08\n",
      "\"Portugal\"\t1.65\n",
      "\"RSA\"\t2.95\n",
      "\"Saudi Arabia\"\t2.3\n",
      "\"Singapore\"\t2.1\n",
      "\"Spain\"\t2.08\n",
      "\"Sweden\"\t1.65\n",
      "\"Switzerland\"\t1.69\n",
      "\"USA\"\t1.45\n",
      "\"United Arab Emirates\"\t1.67\n",
      "\"United Kingdom\"\t2.1\n",
      "\"Unspecified\"\t1.65\n"
     ]
    }
   ],
   "source": [
    "!python mediana.py archivos_datos/Online_Retail.csv"
   ]
  },
  {
   "cell_type": "markdown",
   "metadata": {},
   "source": [
    "Capítulo 6\n",
    "\n",
    "6.1 Patrones de resumen.\n",
    "\n",
    "6.1.1 Resúmenes numéricos\n",
    "\n",
    "Mediana Versión 2. Usando la librería statistics y añadiendo también la desviación estándar a la salida."
   ]
  },
  {
   "cell_type": "code",
   "execution_count": 5,
   "metadata": {},
   "outputs": [
    {
     "name": "stdout",
     "output_type": "stream",
     "text": [
      "Overwriting medianaV2.py\n"
     ]
    }
   ],
   "source": [
    "%%writefile medianaV2.py \n",
    "#!/usr/bin/env python\n",
    "\n",
    "from mrjob.job import MRJob\n",
    "import statistics as st\n",
    "import re\n",
    "\n",
    "class medianaV2(MRJob):\n",
    "    \n",
    "    def mapper(self, _, line):\n",
    "       \n",
    "        linea=line.split(\";\")\n",
    "        encontrado=re.search('^[0-9]',linea[5])\n",
    "        if encontrado!=None:\n",
    "            valor=linea[5] #UnitPrice\n",
    "            clave=linea[7] #Country\n",
    "            yield clave,float(valor)\n",
    "        \n",
    "    def reducer(self, key, values):\n",
    "        valores=list(values)  \n",
    "        yield key, st.median(valores) #Mediana\n",
    "        \n",
    "if __name__ == '__main__':\n",
    "    medianaV2.run()"
   ]
  },
  {
   "cell_type": "code",
   "execution_count": 6,
   "metadata": {},
   "outputs": [
    {
     "name": "stdout",
     "output_type": "stream",
     "text": [
      "\"Australia\"\t1.79\n",
      "\"Austria\"\t1.95\n",
      "\"Bahrain\"\t3.81\n",
      "\"Belgium\"\t1.95\n",
      "\"Brazil\"\t3.3200000000000003\n",
      "\"Canada\"\t1.65\n",
      "\"Channel Islands\"\t2.55\n",
      "\"Cyprus\"\t2.95\n",
      "\"Czech Republic\"\t1.45\n",
      "\"Denmark\"\t1.95\n",
      "\"EIRE\"\t2.1\n",
      "\"European Community\"\t3.35\n",
      "\"Finland\"\t2.08\n",
      "\"France\"\t1.79\n",
      "\"Germany\"\t1.95\n",
      "\"Greece\"\t2.1\n",
      "\"Hong Kong\"\t2.325\n",
      "\"Iceland\"\t2.015"
     ]
    },
    {
     "name": "stderr",
     "output_type": "stream",
     "text": [
      "No configs found; falling back on auto-configuration\n",
      "No configs specified for inline runner\n",
      "Creating temp directory C:\\Users\\MRSANC~1\\AppData\\Local\\Temp\\medianaV2.mrsanchez.20201209.195925.245312\n",
      "Running step 1 of 1...\n",
      "job output is in C:\\Users\\MRSANC~1\\AppData\\Local\\Temp\\medianaV2.mrsanchez.20201209.195925.245312\\output\n",
      "Streaming final output from C:\\Users\\MRSANC~1\\AppData\\Local\\Temp\\medianaV2.mrsanchez.20201209.195925.245312\\output...\n",
      "Removing temp directory C:\\Users\\MRSANC~1\\AppData\\Local\\Temp\\medianaV2.mrsanchez.20201209.195925.245312...\n"
     ]
    },
    {
     "name": "stdout",
     "output_type": "stream",
     "text": [
      "\n",
      "\"Israel\"\t1.95\n",
      "\"Italy\"\t2.55\n",
      "\"Japan\"\t1.65\n",
      "\"Lebanon\"\t3.95\n",
      "\"Lithuania\"\t2.55\n",
      "\"Malta\"\t2.95\n",
      "\"Netherlands\"\t1.45\n",
      "\"Norway\"\t2.08\n",
      "\"Poland\"\t2.08\n",
      "\"Portugal\"\t1.65\n",
      "\"RSA\"\t2.95\n",
      "\"Saudi Arabia\"\t2.3\n",
      "\"Singapore\"\t2.1\n",
      "\"Spain\"\t2.08\n",
      "\"Sweden\"\t1.65\n",
      "\"Switzerland\"\t1.69\n",
      "\"USA\"\t1.45\n",
      "\"United Arab Emirates\"\t1.67\n",
      "\"United Kingdom\"\t2.1\n",
      "\"Unspecified\"\t1.65\n"
     ]
    }
   ],
   "source": [
    "!python medianaV2.py archivos_datos/Online_retail.csv"
   ]
  },
  {
   "cell_type": "code",
   "execution_count": null,
   "metadata": {},
   "outputs": [],
   "source": []
  }
 ],
 "metadata": {
  "kernelspec": {
   "display_name": "Python 3",
   "language": "python",
   "name": "python3"
  },
  "language_info": {
   "codemirror_mode": {
    "name": "ipython",
    "version": 3
   },
   "file_extension": ".py",
   "mimetype": "text/x-python",
   "name": "python",
   "nbconvert_exporter": "python",
   "pygments_lexer": "ipython3",
   "version": "3.8.5"
  }
 },
 "nbformat": 4,
 "nbformat_minor": 4
}
