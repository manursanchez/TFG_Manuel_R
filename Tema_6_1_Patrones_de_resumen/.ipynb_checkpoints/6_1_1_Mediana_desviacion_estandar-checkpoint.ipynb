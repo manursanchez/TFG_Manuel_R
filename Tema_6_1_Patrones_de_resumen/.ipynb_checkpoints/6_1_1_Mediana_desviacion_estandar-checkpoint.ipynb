{
 "cells": [
  {
   "cell_type": "markdown",
   "metadata": {},
   "source": [
    "Memoria TFG. Tema 6. Patrones de diseño. Apartado 6.1. Patrones de resumen. Subapartado 6.1.1. Desviación estándar Versión 1"
   ]
  },
  {
   "cell_type": "code",
   "execution_count": 5,
   "metadata": {},
   "outputs": [
    {
     "name": "stdout",
     "output_type": "stream",
     "text": [
      "Overwriting myde.py\n"
     ]
    }
   ],
   "source": [
    "%%writefile myde.py \n",
    "#!/usr/bin/env python\n",
    "\n",
    "from mrjob.job import MRJob\n",
    "import statistics as st\n",
    "\n",
    "class myde(MRJob):\n",
    "    \n",
    "    def mapper(self, _, line):\n",
    "       \n",
    "        linea=line.split(\";\")\n",
    "        valor=linea[0] \n",
    "        clave=linea[1] \n",
    "        \n",
    "        yield clave,float(valor)\n",
    "        \n",
    "    def reducer(self, key, values):\n",
    "        valores=[]\n",
    "        sumaValores=0\n",
    "        contador=0\n",
    "       \n",
    "        for value in values:\n",
    "            valores.append(value)\n",
    "            sumaValores+=value\n",
    "            contador=contador+1\n",
    "            \n",
    "        valores.sort()\n",
    "      \n",
    "        #Cálculo de la mediana\n",
    "        if contador%2==0:\n",
    "            #Para el número de Claves(key) pares\n",
    "            indice_1=int(contador//2)\n",
    "            indice_2=int(indice_1-1)\n",
    "\n",
    "            valor_1=valores[indice_1]\n",
    "            valor_2=valores[indice_2]\n",
    "            mediana=(valor_1+valor_2)/2\n",
    "        \n",
    "        else:\n",
    "            #Para el número de claves(key) impares\n",
    "            indice=(contador-1)//2\n",
    "            mediana=valores[indice]\n",
    "            \n",
    "        #Cálculo de la desviación estándar\n",
    "        desviacionEstandar=st.pstdev(valores)\n",
    "        medianaA=st.median(valores)\n",
    "        yield key, (medianaA,desviacionEstandar)\n",
    "        \n",
    "if __name__ == '__main__':\n",
    "    myde.run()\n",
    "\n"
   ]
  },
  {
   "cell_type": "code",
   "execution_count": 1,
   "metadata": {},
   "outputs": [
    {
     "name": "stderr",
     "output_type": "stream",
     "text": [
      "No configs found; falling back on auto-configuration\n",
      "No configs specified for inline runner\n",
      "Creating temp directory C:\\Users\\MRSANC~1\\AppData\\Local\\Temp\\myde.mrsanchez.20201010.183723.665306\n",
      "Running step 1 of 1...\n",
      "job output is in C:\\Users\\MRSANC~1\\AppData\\Local\\Temp\\myde.mrsanchez.20201010.183723.665306\\output\n",
      "Streaming final output from C:\\Users\\MRSANC~1\\AppData\\Local\\Temp\\myde.mrsanchez.20201010.183723.665306\\output...\n",
      "Removing temp directory C:\\Users\\MRSANC~1\\AppData\\Local\\Temp\\myde.mrsanchez.20201010.183723.665306...\n"
     ]
    }
   ],
   "source": [
    "!python myde.py Venta-cliente.csv > myde.txt"
   ]
  },
  {
   "cell_type": "markdown",
   "metadata": {},
   "source": [
    "Memoria TFG. Tema 6. Patrones de diseño. Apartado 6.1. Patrones de resumen. Subapartado 6.1.1. Mediana Versión 1"
   ]
  },
  {
   "cell_type": "code",
   "execution_count": 1,
   "metadata": {},
   "outputs": [
    {
     "name": "stdout",
     "output_type": "stream",
     "text": [
      "Writing mediana.py\n"
     ]
    }
   ],
   "source": [
    "%%writefile mediana.py\n",
    "#!/usr/bin/env python\n",
    "\n",
    "from mrjob.job import MRJob\n",
    "import statistics as st\n",
    "\n",
    "class mediana(MRJob):\n",
    "    \n",
    "    def mapper(self, _, line):\n",
    "       \n",
    "        linea=line.split(\";\")\n",
    "        valor=linea[0] \n",
    "        clave=linea[1] \n",
    "        \n",
    "        yield clave,float(valor)\n",
    "        \n",
    "    def reducer(self, key, values):\n",
    "        valores=[]\n",
    "        sumaValores=0\n",
    "        contador=0\n",
    "        #Recorremos los valores\n",
    "        for value in values:\n",
    "            valores.append(value)\n",
    "            sumaValores+=value\n",
    "            contador=contador+1\n",
    "        #Ordenamos los valores\n",
    "        valores.sort()\n",
    "      \n",
    "        #Comprobamos si el total de \n",
    "        #los valores es par o impar\n",
    "        \n",
    "        if contador%2==0:\n",
    "            #Para el número de Claves(key) pares\n",
    "            \n",
    "            #Calculamos los índices\n",
    "            #donde se encuentran los valores\n",
    "            #centrales\n",
    "            indice_1=int(contador//2)\n",
    "            indice_2=int(indice_1-1)\n",
    "            \n",
    "            #Extraemos los valores\n",
    "            valor_1=valores[indice_1]\n",
    "            valor_2=valores[indice_2]\n",
    "            mediana=(valor_1+valor_2)/2\n",
    "        \n",
    "        else:\n",
    "            #Para el número de claves(key) impares\n",
    "            indice=(contador-1)//2\n",
    "            mediana=valores[indice]\n",
    "            \n",
    "        yield key, mediana\n",
    "        \n",
    "if __name__ == '__main__':\n",
    "    mediana.run()\n",
    "\n"
   ]
  },
  {
   "cell_type": "code",
   "execution_count": 2,
   "metadata": {},
   "outputs": [
    {
     "name": "stderr",
     "output_type": "stream",
     "text": [
      "No configs found; falling back on auto-configuration\n",
      "No configs specified for inline runner\n",
      "Creating temp directory C:\\Users\\MRSANC~1\\AppData\\Local\\Temp\\mediana.mrsanchez.20201011.061900.536590\n",
      "Running step 1 of 1...\n",
      "job output is in C:\\Users\\MRSANC~1\\AppData\\Local\\Temp\\mediana.mrsanchez.20201011.061900.536590\\output\n",
      "Streaming final output from C:\\Users\\MRSANC~1\\AppData\\Local\\Temp\\mediana.mrsanchez.20201011.061900.536590\\output...\n",
      "Removing temp directory C:\\Users\\MRSANC~1\\AppData\\Local\\Temp\\mediana.mrsanchez.20201011.061900.536590...\n"
     ]
    }
   ],
   "source": [
    "!python mediana.py Venta-cliente.csv > mediana.txt"
   ]
  },
  {
   "cell_type": "markdown",
   "metadata": {},
   "source": [
    "Memoria TFG. Tema 6. Patrones de diseño. Apartado 6.1. Patrones de resumen. Subapartado 6.1.1. Mediana Versión 2"
   ]
  },
  {
   "cell_type": "code",
   "execution_count": 4,
   "metadata": {},
   "outputs": [
    {
     "name": "stdout",
     "output_type": "stream",
     "text": [
      "Overwriting medianaV2.py\n"
     ]
    }
   ],
   "source": [
    "%%writefile medianaV2.py \n",
    "#!/usr/bin/env python\n",
    "\n",
    "from mrjob.job import MRJob\n",
    "import statistics as st\n",
    "\n",
    "class medianaV2(MRJob):\n",
    "    \n",
    "    def mapper(self, _, line):\n",
    "       \n",
    "        linea=line.split(\";\")\n",
    "        valor=linea[0] \n",
    "        clave=linea[1] \n",
    "        \n",
    "        yield clave,float(valor)\n",
    "        \n",
    "    def reducer(self, key, values):\n",
    "        \n",
    "        valores=list(values)\n",
    "            \n",
    "        #yield key, st.median(valores)\n",
    "        yield key, st.pstdev(valores)\n",
    "        \n",
    "if __name__ == '__main__':\n",
    "    medianaV2.run()"
   ]
  },
  {
   "cell_type": "code",
   "execution_count": 5,
   "metadata": {},
   "outputs": [
    {
     "name": "stderr",
     "output_type": "stream",
     "text": [
      "No configs found; falling back on auto-configuration\n",
      "No configs specified for inline runner\n",
      "Creating temp directory C:\\Users\\MRSANC~1\\AppData\\Local\\Temp\\medianaV2.mrsanchez.20201011.063123.330841\n",
      "Running step 1 of 1...\n",
      "job output is in C:\\Users\\MRSANC~1\\AppData\\Local\\Temp\\medianaV2.mrsanchez.20201011.063123.330841\\output\n",
      "Streaming final output from C:\\Users\\MRSANC~1\\AppData\\Local\\Temp\\medianaV2.mrsanchez.20201011.063123.330841\\output...\n",
      "Removing temp directory C:\\Users\\MRSANC~1\\AppData\\Local\\Temp\\medianaV2.mrsanchez.20201011.063123.330841...\n"
     ]
    }
   ],
   "source": [
    "!python medianaV2.py Venta-cliente.csv > medianaV2.txt"
   ]
  },
  {
   "cell_type": "code",
   "execution_count": null,
   "metadata": {},
   "outputs": [],
   "source": []
  }
 ],
 "metadata": {
  "kernelspec": {
   "display_name": "Python 3",
   "language": "python",
   "name": "python3"
  },
  "language_info": {
   "codemirror_mode": {
    "name": "ipython",
    "version": 3
   },
   "file_extension": ".py",
   "mimetype": "text/x-python",
   "name": "python",
   "nbconvert_exporter": "python",
   "pygments_lexer": "ipython3",
   "version": "3.7.4"
  }
 },
 "nbformat": 4,
 "nbformat_minor": 4
}
