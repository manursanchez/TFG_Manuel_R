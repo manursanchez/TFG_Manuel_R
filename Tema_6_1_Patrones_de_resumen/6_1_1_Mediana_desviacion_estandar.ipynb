{
 "cells": [
  {
   "cell_type": "markdown",
   "metadata": {},
   "source": [
    "Capítulo 6\n",
    "\n",
    "6.1 Patrones de resumen.\n",
    "\n",
    "6.1.1 Resúmenes numéricos\n",
    "\n",
    "Prototipo - Desviación estándar agrupada por paises."
   ]
  },
  {
   "cell_type": "code",
   "execution_count": 34,
   "metadata": {},
   "outputs": [
    {
     "name": "stdout",
     "output_type": "stream",
     "text": [
      "Overwriting desviacion.py\n"
     ]
    }
   ],
   "source": [
    "%%writefile desviacion.py \n",
    "#!/usr/bin/env python\n",
    "\n",
    "from mrjob.job import MRJob\n",
    "import statistics as st\n",
    "import re \n",
    "\n",
    "class desviacion(MRJob):\n",
    "    \n",
    "    def mapper(self, _, line):\n",
    "       \n",
    "        linea=line.split(\";\")\n",
    "        encontrado=re.search('^[0-9]',linea[5])\n",
    "        if encontrado!=None:\n",
    "            valor=linea[5] #UnitPrice\n",
    "            clave=linea[7] #Country\n",
    "            yield clave,float(valor)\n",
    "        \n",
    "    def reducer(self, key, values):\n",
    "        valores=[]       \n",
    "        for value in values:\n",
    "            valores.append(value)\n",
    "        desviacionEstandar=st.pstdev(valores)\n",
    "        yield key, desviacionEstandar\n",
    "        \n",
    "if __name__ == '__main__':\n",
    "    desviacion.run()\n",
    "\n"
   ]
  },
  {
   "cell_type": "code",
   "execution_count": 36,
   "metadata": {},
   "outputs": [
    {
     "name": "stdout",
     "output_type": "stream",
     "text": [
      "\"Australia\"\t10.370093046940518\n",
      "\"Austria\"\t7.370822848666736\n",
      "\"Bahrain\"\t3.4688015150217635\n",
      "\"Belgium\"\t4.246608097020573\n",
      "\"Brazil\"\t2.7871297399834116\n",
      "\"Canada\"\t44.56537098037929\n",
      "\"Channel Islands\"\t11.545051417070008\n",
      "\"Cyprus\"\t18.562768615553413\n",
      "\"Czech Republic\"\t7.617698823135501\n",
      "\"Denmark\"\t3.782842278354807\n",
      "\"EIRE\"\t38.04245790067097\n",
      "\"European Community\"\t4.375178091613338\n",
      "\"Finland\"\t13.479725213522103\n",
      "\"France\"\t65.50136443495852\n",
      "\"Germany\"\t13.15455169484316\n",
      "\"Greece\"\t7.590120609269528\n",
      "\"Hong Kong\"\t219.64782437541152\n",
      "\"Iceland\"\t2.2491763718142677\n",
      "\"Israel\"\t8.617542306192831\n",
      "\"Italy\"\t12.06700204817691\n",
      "\"Japan\"\t1.8199608036150665\n",
      "\"Lebanon\"\t4.02327846168357\n",
      "\"Lithuania\"\t1.3471806993624478\n",
      "\"Malta\"\t8.084358543091254\n",
      "\"Netherlands\"\t4.713934513554039\n",
      "\"Norway\"\t26.775282380757535\n",
      "\"Poland\"\t5.971450655274198\n",
      "\"Portugal\"\t50.92431555959031\n",
      "\"RSA\"\t3.6366701851655203\n",
      "\"Saudi Arabia\"\t1.3721228034160504\n",
      "\"Singapore\"\t373.08372816818456\n",
      "\"Spain\"\t5.222638442840617\n",
      "\"Sweden\"\t8.019815716071271\n",
      "\"Switzerland\"\t5.354713745100451\n",
      "\"USA\"\t2.3022506577685355\n",
      "\"United Arab Emirates\"\t5.3029251961359165\n",
      "\"United Kingdom\"\t30.751561422313824\n",
      "\"Unspecified\"\t2.8628636683465705\n"
     ]
    },
    {
     "name": "stderr",
     "output_type": "stream",
     "text": [
      "No configs found; falling back on auto-configuration\n",
      "No configs specified for inline runner\n",
      "Creating temp directory C:\\Users\\cyber\\AppData\\Local\\Temp\\desviacion.manuel.20201207.064350.636389\n",
      "Running step 1 of 1...\n",
      "job output is in C:\\Users\\cyber\\AppData\\Local\\Temp\\desviacion.manuel.20201207.064350.636389\\output\n",
      "Streaming final output from C:\\Users\\cyber\\AppData\\Local\\Temp\\desviacion.manuel.20201207.064350.636389\\output...\n",
      "Removing temp directory C:\\Users\\cyber\\AppData\\Local\\Temp\\desviacion.manuel.20201207.064350.636389...\n"
     ]
    }
   ],
   "source": [
    "!python desviacion.py archivos_datos/Online_Retail.csv"
   ]
  },
  {
   "cell_type": "markdown",
   "metadata": {},
   "source": [
    "Capítulo 6\n",
    "\n",
    "6.1 Patrones de resumen.\n",
    "\n",
    "6.1.1 Resúmenes numéricos\n",
    "\n",
    "Mediana Versión 1. "
   ]
  },
  {
   "cell_type": "code",
   "execution_count": 1,
   "metadata": {},
   "outputs": [
    {
     "name": "stdout",
     "output_type": "stream",
     "text": [
      "Writing mediana.py\n"
     ]
    }
   ],
   "source": [
    "%%writefile mediana.py\n",
    "#!/usr/bin/env python\n",
    "\n",
    "from mrjob.job import MRJob\n",
    "import re\n",
    "\n",
    "class mediana(MRJob):\n",
    "    \n",
    "    def mapper(self, _, line):\n",
    "       \n",
    "        linea=line.split(\";\")\n",
    "        encontrado=re.search('^[0-9]',linea[5])\n",
    "        if encontrado!=None:\n",
    "            valor=linea[5] # UnitPrice\n",
    "            clave=linea[7] # Country\n",
    "            yield clave,float(valor)\n",
    "        \n",
    "    def reducer(self, key, values):\n",
    "        valores=[]\n",
    "        sumaValores=0\n",
    "        contador=0\n",
    "        #Recorremos los valores\n",
    "        for value in values:\n",
    "            valores.append(value)\n",
    "            sumaValores+=value\n",
    "            contador=contador+1\n",
    "        #Ordenamos los valores\n",
    "        valores.sort()\n",
    "      \n",
    "        #Comprobamos si el total de \n",
    "        #los valores es par o impar\n",
    "        \n",
    "        if contador%2==0:\n",
    "            #Para el número de Claves(key) pares\n",
    "            \n",
    "            #Calculamos los índices\n",
    "            #donde se encuentran los valores\n",
    "            #centrales\n",
    "            indice_1=int(contador//2)\n",
    "            indice_2=int(indice_1-1)\n",
    "            \n",
    "            #Extraemos los valores\n",
    "            valor_1=valores[indice_1]\n",
    "            valor_2=valores[indice_2]\n",
    "            mediana=(valor_1+valor_2)/2\n",
    "        \n",
    "        else:\n",
    "            #Para el número de claves(key) impares\n",
    "            indice=(contador-1)//2\n",
    "            mediana=valores[indice]\n",
    "            \n",
    "        yield key, mediana\n",
    "        \n",
    "if __name__ == '__main__':\n",
    "    mediana.run()\n",
    "\n"
   ]
  },
  {
   "cell_type": "code",
   "execution_count": 2,
   "metadata": {},
   "outputs": [
    {
     "name": "stderr",
     "output_type": "stream",
     "text": [
      "No configs found; falling back on auto-configuration\n",
      "No configs specified for inline runner\n",
      "Creating temp directory C:\\Users\\MRSANC~1\\AppData\\Local\\Temp\\mediana.mrsanchez.20201011.061900.536590\n",
      "Running step 1 of 1...\n",
      "job output is in C:\\Users\\MRSANC~1\\AppData\\Local\\Temp\\mediana.mrsanchez.20201011.061900.536590\\output\n",
      "Streaming final output from C:\\Users\\MRSANC~1\\AppData\\Local\\Temp\\mediana.mrsanchez.20201011.061900.536590\\output...\n",
      "Removing temp directory C:\\Users\\MRSANC~1\\AppData\\Local\\Temp\\mediana.mrsanchez.20201011.061900.536590...\n"
     ]
    }
   ],
   "source": [
    "!python mediana.py archivos_datos/Online_Retail.csv"
   ]
  },
  {
   "cell_type": "markdown",
   "metadata": {},
   "source": [
    "Capítulo 6\n",
    "\n",
    "6.1 Patrones de resumen.\n",
    "\n",
    "6.1.1 Resúmenes numéricos\n",
    "\n",
    "Mediana Versión 2. Usando la librería statistics y añadiendo también la desviación estándar a la salida."
   ]
  },
  {
   "cell_type": "code",
   "execution_count": 32,
   "metadata": {},
   "outputs": [
    {
     "name": "stdout",
     "output_type": "stream",
     "text": [
      "Overwriting medianaV2.py\n"
     ]
    }
   ],
   "source": [
    "%%writefile medianaV2.py \n",
    "#!/usr/bin/env python\n",
    "\n",
    "from mrjob.job import MRJob\n",
    "import statistics as st\n",
    "import re\n",
    "\n",
    "class medianaV2(MRJob):\n",
    "    \n",
    "    def mapper(self, _, line):\n",
    "       \n",
    "        linea=line.split(\";\")\n",
    "        encontrado=re.search('^[0-9]',linea[5])\n",
    "        if encontrado!=None:\n",
    "            valor=linea[5] #UnitPrice\n",
    "            clave=linea[7] #Country\n",
    "            yield clave,float(valor)\n",
    "        \n",
    "    def reducer(self, key, values):\n",
    "        valores=list(values)  \n",
    "        yield key, (st.median(valores),st.pstdev(valores)) #Mediana y desviación\n",
    "        \n",
    "if __name__ == '__main__':\n",
    "    medianaV2.run()"
   ]
  },
  {
   "cell_type": "code",
   "execution_count": 33,
   "metadata": {},
   "outputs": [
    {
     "name": "stdout",
     "output_type": "stream",
     "text": [
      "\"Australia\"\t[1.79, 10.370093046940518]\n",
      "\"Austria\"\t[1.95, 7.370822848666736]\n",
      "\"Bahrain\"\t[3.38, 3.4688015150217635]\n",
      "\"Belgium\"\t[1.95, 4.246608097020573]\n",
      "\"Brazil\"\t[3.3200000000000003, 2.7871297399834116]\n",
      "\"Canada\"\t[1.65, 44.56537098037929]\n",
      "\"Channel Islands\"\t[2.55, 11.545051417070008]\n",
      "\"Cyprus\"\t[2.95, 18.562768615553413]\n",
      "\"Czech Republic\"\t[1.25, 7.617698823135501]\n",
      "\"Denmark\"\t[1.95, 3.782842278354807]\n",
      "\"EIRE\"\t[2.1, 38.04245790067097]\n",
      "\"European Community\"\t[3.1500000000000004, 4.375178091613338]\n",
      "\"Finland\"\t[2.08, 13.479725213522103]\n",
      "\"France\"\t[1.79, 65.50136443495852]\n",
      "\"Germany\"\t[1.95, 13.15455169484316]\n",
      "\"Greece\"\t[2.1, 7.590120609269528]\n",
      "\"Hong Kong\"\t[2.1, 219.64782437541152]\n",
      "\"Iceland\"\t[2.015, 2.2491763718142677]\n",
      "\"Israel\"\t[1.95, 8.617542306192831]\n",
      "\"Italy\"\t[2.175, 12.06700204817691]\n",
      "\"Japan\"\t[1.45, 1.8199608036150665]\n",
      "\"Lebanon\"\t[3.95, 4.02327846168357]\n",
      "\"Lithuania\"\t[2.55, 1.3471806993624478]\n",
      "\"Malta\"\t[2.95, 8.084358543091254]\n",
      "\"Netherlands\"\t[1.45, 4.713934513554039]\n",
      "\"Norway\"\t[2.08, 26.775282380757535]\n",
      "\"Poland\"\t[2.08, 5.971450655274198]\n",
      "\"Portugal\"\t[1.65, 50.92431555959031]\n",
      "\"RSA\"\t[2.95, 3.6366701851655203]\n",
      "\"Saudi Arabia\"\t[1.65, 1.3721228034160504]\n",
      "\"Singapore\"\t[2.1, 373.08372816818456]\n",
      "\"Spain\"\t[2.08, 5.222638442840617]\n",
      "\"Sweden\"\t[1.45, 8.019815716071271]\n",
      "\"Switzerland\"\t[1.65, 5.354713745100451]\n",
      "\"USA\"\t[1.45, 2.3022506577685355]\n",
      "\"United Arab Emirates\"\t[1.67, 5.3029251961359165]\n",
      "\"United Kingdom\"\t[2.08, 30.751561422313824]\n",
      "\"Unspecified\"\t[1.65, 2.8628636683465705]\n"
     ]
    },
    {
     "name": "stderr",
     "output_type": "stream",
     "text": [
      "No configs found; falling back on auto-configuration\n",
      "No configs specified for inline runner\n",
      "Creating temp directory C:\\Users\\cyber\\AppData\\Local\\Temp\\medianaV2.manuel.20201207.063148.807601\n",
      "Running step 1 of 1...\n",
      "job output is in C:\\Users\\cyber\\AppData\\Local\\Temp\\medianaV2.manuel.20201207.063148.807601\\output\n",
      "Streaming final output from C:\\Users\\cyber\\AppData\\Local\\Temp\\medianaV2.manuel.20201207.063148.807601\\output...\n",
      "Removing temp directory C:\\Users\\cyber\\AppData\\Local\\Temp\\medianaV2.manuel.20201207.063148.807601...\n"
     ]
    }
   ],
   "source": [
    "!python medianaV2.py archivos_datos/Online_retail.csv"
   ]
  },
  {
   "cell_type": "code",
   "execution_count": null,
   "metadata": {},
   "outputs": [],
   "source": []
  }
 ],
 "metadata": {
  "kernelspec": {
   "display_name": "Python 3",
   "language": "python",
   "name": "python3"
  },
  "language_info": {
   "codemirror_mode": {
    "name": "ipython",
    "version": 3
   },
   "file_extension": ".py",
   "mimetype": "text/x-python",
   "name": "python",
   "nbconvert_exporter": "python",
   "pygments_lexer": "ipython3",
   "version": "3.7.4"
  }
 },
 "nbformat": 4,
 "nbformat_minor": 4
}
