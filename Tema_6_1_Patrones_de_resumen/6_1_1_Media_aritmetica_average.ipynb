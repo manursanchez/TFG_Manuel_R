{
 "cells": [
  {
   "cell_type": "markdown",
   "metadata": {},
   "source": [
    "Capítulo 6\n",
    "\n",
    "6.1 Patrones de resumen.\n",
    "\n",
    "6.1.1 Resúmenes numéricos\n",
    "\n",
    "Prototipo - Versión 1 - Cálculo de la media aritmética de un conjunto de valores. Se toma como clave el país del cliente, y como valor el precio del producto. Se usa la librería \"re\" para expresiones regulares que nos permiten detectar si el contenido del campo es alfanumérico o numérico"
   ]
  },
  {
   "cell_type": "code",
   "execution_count": 8,
   "metadata": {},
   "outputs": [
    {
     "name": "stdout",
     "output_type": "stream",
     "text": [
      "Overwriting average.py\n"
     ]
    }
   ],
   "source": [
    "%%writefile average.py\n",
    "#!/usr/bin/env python\n",
    "\n",
    "from mrjob.job import MRJob\n",
    "import re\n",
    "class average(MRJob):\n",
    "    \n",
    "    def mapper(self,_, line):\n",
    "        #División del registro para tener la lista de campos\n",
    "        linea=line.split(\";\") \n",
    "        #El valor del campo [5] tiene que ser un número.\n",
    "        encontrado=re.search('^[0-9]',linea[5]) \n",
    "        \n",
    "        if encontrado!=None:\n",
    "        #Extraemos el valor de la lista con el que operaremos\n",
    "            valor=linea[5] \n",
    "        #Extraemos la clave asociada al valor\n",
    "            clave=linea[7] \n",
    "        #Cedemos la clave y el valor al Reducer\n",
    "            yield clave,float(valor) \n",
    "    \n",
    "    def reducer(self, key, values):\n",
    "        sumaValues=0 # Para guardar la suma de los valores\n",
    "        cuentaValues=0 # Para guardar el número de valores \n",
    "        # Iteramos a través del conjunto de valores que han\n",
    "        #llegado desde el mapper\n",
    "        for value in values:\n",
    "            sumaValues+=value #Sumamos valor\n",
    "            cuentaValues+=1 #Contamos valor\n",
    "        #Dividimos\n",
    "        mediaValues=sumaValues/cuentaValues\n",
    "        #Entregamos la media de ventas\n",
    "        #por país\n",
    "        yield key, mediaValues\n",
    "\n",
    "if __name__ == '__main__':\n",
    "    average.run()\n",
    "        "
   ]
  },
  {
   "cell_type": "code",
   "execution_count": 9,
   "metadata": {},
   "outputs": [
    {
     "name": "stdout",
     "output_type": "stream",
     "text": [
      "\"Australia\"\t3.2206115965051483\n",
      "\"Austria\"\t4.243192019950133\n",
      "\"Bahrain\"\t4.556315789473684\n",
      "\"Belgium\"\t3.6443354277428464\n",
      "\"Brazil\"\t4.456250000000001\n",
      "\"Canada\"\t6.030331125827812\n",
      "\"Channel Islands\"\t4.9321240105540705\n",
      "\"Cyprus\"\t6.302363344051414\n",
      "\"Czech Republic\"\t2.9383333333333326\n",
      "\"Denmark\"\t3.2569408740359944\n",
      "\"EIRE\"\t5.911077354807051\n",
      "\"European Community\"\t4.820491803278686\n",
      "\"Finland\"\t5.448705035971213\n",
      "\"France\"\t5.02886408788128\n",
      "\"Germany\"\t3.9669299631385466\n",
      "\"Greece\"\t4.885547945205479\n",
      "\"Hong Kong\"\t42.50520833333334\n",
      "\"Iceland\"\t2.644010989010989\n",
      "\"Israel\"\t3.63313131313132\n",
      "\"Italy\"\t4.8311207970111845\n",
      "\"Japan\"\t2.276145251396649\n",
      "\"Lebanon\"\t5.387555555555553\n",
      "\"Lithuania\"\t2.8411428571428576\n",
      "\"Malta\"\t5.244173228346456\n",
      "\"Netherlands\"\t2.7383171657528314\n",
      "\"Norway\"\t6.012025782688733\n",
      "\"Poland\"\t4.170879765395901\n",
      "\"Portugal\"\t8.582975641869714\n",
      "\"RSA\"\t4.277586206896552\n",
      "\"Saudi Arabia\"\t2.411\n",
      "\"Singapore\"\t109.64580786026204\n",
      "\"Spain\"\t4.987544413738712\n",
      "\"Sweden\"\t3.91088744588745\n",
      "\"Switzerland\"\t3.4034415584415343\n",
      "\"USA\"\t2.216426116838489\n",
      "\"United Arab Emirates\"\t3.3807352941176467\n",
      "\"United Kingdom\"\t4.577092722948053\n",
      "\"Unspecified\"\t2.6995739910313947\n"
     ]
    },
    {
     "name": "stderr",
     "output_type": "stream",
     "text": [
      "No configs found; falling back on auto-configuration\n",
      "No configs specified for inline runner\n",
      "Creating temp directory C:\\Users\\cyber\\AppData\\Local\\Temp\\average.manuel.20201207.064643.382470\n",
      "Running step 1 of 1...\n",
      "job output is in C:\\Users\\cyber\\AppData\\Local\\Temp\\average.manuel.20201207.064643.382470\\output\n",
      "Streaming final output from C:\\Users\\cyber\\AppData\\Local\\Temp\\average.manuel.20201207.064643.382470\\output...\n",
      "Removing temp directory C:\\Users\\cyber\\AppData\\Local\\Temp\\average.manuel.20201207.064643.382470...\n"
     ]
    }
   ],
   "source": [
    "! python average.py archivos_datos/Online_Retail.csv"
   ]
  },
  {
   "cell_type": "markdown",
   "metadata": {},
   "source": [
    "Capítulo 6\n",
    "\n",
    "6.1 Patrones de resumen.\n",
    "\n",
    "6.1.1 Resúmenes numéricos\n",
    "\n",
    "Prototipo - Versión 2: Cálculo de la media aritmética de un conjunto de valores. Se toma como clave el país del cliente y como valor el precio del producto. Aquí usamos el método mean de la librería statistics."
   ]
  },
  {
   "cell_type": "code",
   "execution_count": 10,
   "metadata": {},
   "outputs": [
    {
     "name": "stdout",
     "output_type": "stream",
     "text": [
      "Overwriting averageV2.py\n"
     ]
    }
   ],
   "source": [
    "%%writefile averageV2.py\n",
    "#!/usr/bin/env python\n",
    "#Segunda versión del patrón de resumen numérico\n",
    "from mrjob.job import MRJob\n",
    "import statistics as st\n",
    "import re\n",
    "class averageV2(MRJob):\n",
    "    \n",
    "    def mapper(self,_, line):\n",
    "       \n",
    "        linea=line.split(\";\")\n",
    "        encontrado=re.search('^[0-9]',linea[5])\n",
    "        if encontrado!=None:\n",
    "            valor=linea[5] #UnitPrice\n",
    "            clave=linea[7] #Country\n",
    "            yield clave,float(valor)\n",
    "        \n",
    "    def reducer(self, key, values):\n",
    "        listaValores=[]\n",
    "        for valor in values:\n",
    "            listaValores.append(valor)  \n",
    "        yield key, st.mean(listaValores)\n",
    "        \n",
    "        \n",
    "if __name__ == '__main__':\n",
    "    averageV2.run()"
   ]
  },
  {
   "cell_type": "code",
   "execution_count": 11,
   "metadata": {},
   "outputs": [
    {
     "name": "stdout",
     "output_type": "stream",
     "text": [
      "\"Australia\"\t3.220611596505163\n",
      "\"Austria\"\t4.243192019950125\n",
      "\"Bahrain\"\t4.556315789473684\n",
      "\"Belgium\"\t3.644335427742871\n",
      "\"Brazil\"\t4.45625\n",
      "\"Canada\"\t6.030331125827815\n",
      "\"Channel Islands\"\t4.93212401055409\n",
      "\"Cyprus\"\t6.302363344051447\n",
      "\"Czech Republic\"\t2.9383333333333335\n",
      "\"Denmark\"\t3.2569408740359895\n",
      "\"EIRE\"\t5.911077354807223\n",
      "\"European Community\"\t4.8204918032786885\n",
      "\"Finland\"\t5.448705035971223\n",
      "\"France\"\t5.028864087881267\n",
      "\"Germany\"\t3.9669299631384938\n",
      "\"Greece\"\t4.885547945205479\n",
      "\"Hong Kong\"\t42.505208333333336\n",
      "\"Iceland\"\t2.644010989010989\n",
      "\"Israel\"\t3.633131313131313\n",
      "\"Italy\"\t4.831120797011208\n",
      "\"Japan\"\t2.276145251396648\n",
      "\"Lebanon\"\t5.387555555555555\n",
      "\"Lithuania\"\t2.841142857142857\n",
      "\"Malta\"\t5.244173228346456\n",
      "\"Netherlands\"\t2.738317165752847\n",
      "\"Norway\"\t6.012025782688766\n",
      "\"Poland\"\t4.1708797653958944\n",
      "\"Portugal\"\t8.582975641869652\n",
      "\"RSA\"\t4.277586206896552\n",
      "\"Saudi Arabia\"\t2.411\n",
      "\"Singapore\"\t109.64580786026201\n",
      "\"Spain\"\t4.98754441373865\n",
      "\"Sweden\"\t3.910887445887446\n",
      "\"Switzerland\"\t3.4034415584415583\n",
      "\"USA\"\t2.216426116838488\n",
      "\"United Arab Emirates\"\t3.380735294117647\n",
      "\"United Kingdom\"\t4.5770927229573175\n",
      "\"Unspecified\"\t2.6995739910313903\n"
     ]
    },
    {
     "name": "stderr",
     "output_type": "stream",
     "text": [
      "No configs found; falling back on auto-configuration\n",
      "No configs specified for inline runner\n",
      "Creating temp directory C:\\Users\\cyber\\AppData\\Local\\Temp\\averageV2.manuel.20201207.064655.096667\n",
      "Running step 1 of 1...\n",
      "job output is in C:\\Users\\cyber\\AppData\\Local\\Temp\\averageV2.manuel.20201207.064655.096667\\output\n",
      "Streaming final output from C:\\Users\\cyber\\AppData\\Local\\Temp\\averageV2.manuel.20201207.064655.096667\\output...\n",
      "Removing temp directory C:\\Users\\cyber\\AppData\\Local\\Temp\\averageV2.manuel.20201207.064655.096667...\n"
     ]
    }
   ],
   "source": [
    "! python averageV2.py archivos_datos/Online_Retail.csv"
   ]
  },
  {
   "cell_type": "code",
   "execution_count": null,
   "metadata": {},
   "outputs": [],
   "source": []
  }
 ],
 "metadata": {
  "kernelspec": {
   "display_name": "Python 3",
   "language": "python",
   "name": "python3"
  },
  "language_info": {
   "codemirror_mode": {
    "name": "ipython",
    "version": 3
   },
   "file_extension": ".py",
   "mimetype": "text/x-python",
   "name": "python",
   "nbconvert_exporter": "python",
   "pygments_lexer": "ipython3",
   "version": "3.7.4"
  }
 },
 "nbformat": 4,
 "nbformat_minor": 4
}
