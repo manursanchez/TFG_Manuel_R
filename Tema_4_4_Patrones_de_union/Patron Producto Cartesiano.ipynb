{
 "cells": [
  {
   "cell_type": "code",
   "execution_count": null,
   "metadata": {},
   "outputs": [],
   "source": []
  },
  {
   "cell_type": "code",
   "execution_count": 1,
   "metadata": {},
   "outputs": [],
   "source": [
    "%config IPCompleter.greedy=True"
   ]
  },
  {
   "cell_type": "code",
   "execution_count": null,
   "metadata": {},
   "outputs": [],
   "source": [
    "%%writefile productoCartesiano.py\n",
    "#!/usr/bin/env python\n",
    "\n",
    "from mrjob.job import MRJob\n",
    "import re,sys,os\n",
    "\n",
    "class productoCartesiano(MRJob):\n",
    "    \n",
    "    def unionCartesiana(self):\n",
    "        \n",
    "    def mapper_init(self):\n",
    "        self.listaA=[]\n",
    "        self.listaB=[]\n",
    "        \n",
    "    def mapper(self,_,line):\n",
    "        self.linea=line.split(';')\n",
    "        #encontrado=re.search('[a-zA-Z]',self.linea[0])#Para que no tenga en cuenta las cabeceras de las tablas\n",
    "        #if encontrado==None: #¡¡¡CUIDADO CON LOS ÁMBITOS DE LAS VARIABLES!!!!\n",
    "            self.clave=self.linea[6] #Extraigo la clave del fichero de entrada \n",
    "            if self.clave in self.tablaA: #Si encuentra la clave en el diccionario unimos y sacamos\n",
    "                yield self.clave,(self.linea,self.tablaA.get(self.clave) )\n",
    "            else:#Si no está, sacamos la línea del archivo pero sin su complementario del diccionario de memoria\n",
    "                yield self.clave,(self.linea,\"null\")\n",
    "                \n",
    "if __name__ == '__main__':\n",
    "    productoCartesiano.run()"
   ]
  }
 ],
 "metadata": {
  "kernelspec": {
   "display_name": "Python 3",
   "language": "python",
   "name": "python3"
  },
  "language_info": {
   "codemirror_mode": {
    "name": "ipython",
    "version": 3
   },
   "file_extension": ".py",
   "mimetype": "text/x-python",
   "name": "python",
   "nbconvert_exporter": "python",
   "pygments_lexer": "ipython3",
   "version": "3.7.4"
  }
 },
 "nbformat": 4,
 "nbformat_minor": 4
}
