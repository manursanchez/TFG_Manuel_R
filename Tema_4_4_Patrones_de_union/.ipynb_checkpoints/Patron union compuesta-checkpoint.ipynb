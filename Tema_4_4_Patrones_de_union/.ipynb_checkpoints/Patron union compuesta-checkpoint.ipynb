{
 "cells": [
  {
   "cell_type": "markdown",
   "metadata": {},
   "source": [
    "Tercer patrón del grupo de los patrones de unión. En este caso hemos de ordenar los datos de cada conjunto de éstos por clave externa, y posteriormente lanzarlos al Map."
   ]
  },
  {
   "cell_type": "code",
   "execution_count": 1,
   "metadata": {},
   "outputs": [],
   "source": [
    "%config IPCompleter.greedy=True"
   ]
  },
  {
   "cell_type": "code",
   "execution_count": null,
   "metadata": {},
   "outputs": [],
   "source": [
    "%%writefile unionCompuesta.py\n",
    "#!/usr/bin/env python\n",
    "\n",
    "from mrjob.job import MRJob\n",
    "import re,sys,os\n",
    "\n",
    "\n",
    "class unionCompuesta(MRJob):\n",
    "   \n",
    "    def mapper_init(self):\n",
    "        \n",
    "        #Recojo aquí los datos en listas, y despues los ordeno.\n",
    "        \n",
    "    def mapper(self,_,line):\n",
    "        self.linea=line.split(';')\n",
    "        encontrado=re.search('[a-zA-Z]',self.linea[0])#Para que no tenga en cuenta las cabeceras de las tablas\n",
    "        if encontrado==None:\n",
    "            self.clave=self.linea[6] #Extraigo la clave del fichero de entrada \n",
    "           \n",
    "    def mapper_final(self):\n",
    "         # A continuación se comprueba que la clave del fichero de entrada esté en el diccionario\n",
    "        if self.clave in self.tablaA: #Si encuentra la clave en el diccionario unimos y sacamos\n",
    "            yield self.clave,(self.linea,self.tablaA.get(self.clave) )\n",
    "        else:#Si no está, sacamos la línea del archivo pero sin su complementario del diccionario de memoria\n",
    "            yield self.clave,(self.linea,\"null\")\n",
    "                    \n",
    "if __name__ == '__main__':\n",
    "    unionCompuesta.run()"
   ]
  }
 ],
 "metadata": {
  "kernelspec": {
   "display_name": "Python 3",
   "language": "python",
   "name": "python3"
  },
  "language_info": {
   "codemirror_mode": {
    "name": "ipython",
    "version": 3
   },
   "file_extension": ".py",
   "mimetype": "text/x-python",
   "name": "python",
   "nbconvert_exporter": "python",
   "pygments_lexer": "ipython3",
   "version": "3.7.6"
  }
 },
 "nbformat": 4,
 "nbformat_minor": 4
}
