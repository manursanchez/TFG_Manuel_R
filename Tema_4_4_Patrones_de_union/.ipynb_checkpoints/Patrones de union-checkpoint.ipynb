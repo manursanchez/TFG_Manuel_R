{
 "cells": [
  {
   "cell_type": "markdown",
   "metadata": {},
   "source": [
    "Programa MapReduce para la unión interna de datos de dos tablas mediante una clave común. Este es de mi cosecha; habría que mejorarlo para las otras \n",
    "uniones: izquierda, derecha, completa y la antiunión."
   ]
  },
  {
   "cell_type": "code",
   "execution_count": 1,
   "metadata": {},
   "outputs": [],
   "source": [
    "%config IPCompleter.greedy=True"
   ]
  },
  {
   "cell_type": "code",
   "execution_count": 5,
   "metadata": {},
   "outputs": [
    {
     "name": "stdout",
     "output_type": "stream",
     "text": [
      "Overwriting reduceSideJoin.py\n"
     ]
    }
   ],
   "source": [
    "%%writefile reduceSideJoin.py\n",
    "#!/usr/bin/env python\n",
    "from mrjob.job import MRJob\n",
    "import re,os\n",
    "\n",
    "class reduceSideJoin(MRJob):\n",
    "    \n",
    "    #Función que limpia lo que el parámetro devuelve en forma \"file://nombre_fichero\" para dejarlo solo con el nombre \n",
    "    #del fichero: \"nombre_fichero\"\n",
    "    def limpiarNombreArchivo(self,archivo):\n",
    "        tamano=len(archivo)\n",
    "        return archivo[7:tamano]\n",
    "    \n",
    "    def mapper_init(self):\n",
    "        self.namefile=self.limpiarNombreArchivo(os.getenv('map_input_file')) #Usamos el parámetro para saber que nos llega desde streaming\n",
    "        #map_input_file devuelve una cadena de caracteres correspondiente al archivo de entrada por el stream en formato:\n",
    "        # file://nombre_fichero\n",
    "        \n",
    "    def mapper(self,_,line):\n",
    "        linea=line.split(';')\n",
    "        encontrado=re.search('[a-zA-Z]',linea[0])#Para que no tenga en cuenta las cabeceras de las tablas\n",
    "        if encontrado==None:\n",
    "            if self.namefile==\"clientes.csv\":\n",
    "                #linea.append(self.namefile)#Añadimos al registro el nombre del archivo\n",
    "                clave=linea[0] #Esta clave es la común de la tabla 1, que me permite hacer la unión con la de la tabla 2 \n",
    "                yield clave,linea\n",
    "            else:\n",
    "                #linea.append(self.namefile) #Aquí estoy usando el nombre del archivo, pero puedo usar otro identificador\n",
    "                                        #como en el libro Dessign Pattern que usa A y B. Añadimos al registro el nombre\n",
    "                                        #del archivo.\n",
    "                clave=linea[6] #Esta es la otra clave común de la tabla 2. SI CAMBIAMOS LE ORIGEN DE DATOS ESTO HAY QUE VARIARLO\n",
    "                yield clave,linea\n",
    "    \n",
    "    \n",
    "    def reducer(self,key,values):\n",
    "        lista=[]\n",
    "        union=[]\n",
    "        for valor in values:\n",
    "            lista.append(valor)\n",
    "        \n",
    "        for elemento in range(1,len(lista)):\n",
    "            union.append(lista[0]+lista[elemento])\n",
    "            \n",
    "        for registro in union:\n",
    "            yield key,registro\n",
    "      \n",
    "            \n",
    "if __name__ == '__main__':\n",
    "    reduceSideJoin.run()"
   ]
  },
  {
   "cell_type": "code",
   "execution_count": 6,
   "metadata": {
    "scrolled": true
   },
   "outputs": [
    {
     "name": "stderr",
     "output_type": "stream",
     "text": [
      "No configs found; falling back on auto-configuration\n",
      "No configs specified for inline runner\n",
      "Creating temp directory C:\\Users\\MRSANC~1\\AppData\\Local\\Temp\\reduceSideJoin.mrsanchez.20200812.195315.406881\n",
      "Running step 1 of 1...\n",
      "job output is in C:\\Users\\MRSANC~1\\AppData\\Local\\Temp\\reduceSideJoin.mrsanchez.20200812.195315.406881\\output\n",
      "Streaming final output from C:\\Users\\MRSANC~1\\AppData\\Local\\Temp\\reduceSideJoin.mrsanchez.20200812.195315.406881\\output...\n",
      "Removing temp directory C:\\Users\\MRSANC~1\\AppData\\Local\\Temp\\reduceSideJoin.mrsanchez.20200812.195315.406881...\n"
     ]
    }
   ],
   "source": [
    "!python reduceSideJoin.py clientes.csv ventas.csv > resultadoVentas.txt"
   ]
  },
  {
   "cell_type": "markdown",
   "metadata": {},
   "source": [
    "A continuación vamos a investigar con una versión en la que no vamos a identificar el nombre del archivo que entra por Stream; vamos a ver si MRjob organiza las claves valor.\n",
    "RESULTADO: efectivamente MRJob organiza de forma autónoma cada clave con su registro correspondiente independientemente de las tablas. Lo que tenemos que tener en cuenta es donde está la clave común en cada una de las tablas, y aquí sí tenemos que conocer el nombre del archivo que está entrando, por que puede darse el caso que la clave esté en distintas columnas en cada una de las tablas implicadas en la unión. Habrá ocasiones en que podamos modificar la posición de la columna en el origen de datos, pero en otras ocasiones no será posible, que sería lo más comun esto último."
   ]
  },
  {
   "cell_type": "code",
   "execution_count": 35,
   "metadata": {},
   "outputs": [
    {
     "name": "stdout",
     "output_type": "stream",
     "text": [
      "Writing pruebaJoin.py\n"
     ]
    }
   ],
   "source": [
    "%%writefile pruebaJoin.py\n",
    "#!/usr/bin/env python\n",
    "from mrjob.job import MRJob\n",
    "import re,sys,os\n",
    "\n",
    "class pruebaJoin(MRJob):\n",
    "    \n",
    "    #Función que limpia lo que el parámetro devuelve en forma \"file://nombre_fichero\" para dejarlo solo con el nombre \n",
    "    #del fichero: \"nombre_fichero\"\n",
    "    def limpiarNombreArchivo(self,archivo):\n",
    "        tamano=len(archivo)\n",
    "        return archivo[7:tamano]\n",
    "    \n",
    "    def mapper_init(self):\n",
    "        self.namefile=self.limpiarNombreArchivo(os.getenv('map_input_file')) #Usamos el parámetro para saber que nos llega desde streaming\n",
    "        #map_input_file devuelve una cadena de caracteres correspondiente al archivo de entrada por el stream en formato:\n",
    "        # file://nombre_fichero\n",
    "        \n",
    "    def mapper(self,_,line):\n",
    "        linea=line.split(';')\n",
    "        encontrado=re.search('[a-zA-Z]',linea[0])#Para que no tenga en cuenta las cabeceras de las tablas\n",
    "        if encontrado==None:\n",
    "            clave=linea[0] #Esta clave es la común de la tabla 1, que me permite hacer la unión con la de la tabla 2 \n",
    "            yield clave,linea\n",
    "            \n",
    "    \n",
    "    def reducer(self,key,values):\n",
    "        lista=[]\n",
    "        union=[]\n",
    "        for valor in values:\n",
    "            lista.append(valor)\n",
    "        \n",
    "        for elemento in range(1,len(lista)):\n",
    "            union.append(lista[0]+lista[elemento])\n",
    "            \n",
    "        for registro in union:\n",
    "            yield key,registro\n",
    "      \n",
    "            \n",
    "if __name__ == '__main__':\n",
    "    pruebaJoin.run()"
   ]
  },
  {
   "cell_type": "code",
   "execution_count": 36,
   "metadata": {},
   "outputs": [
    {
     "name": "stderr",
     "output_type": "stream",
     "text": [
      "No configs found; falling back on auto-configuration\n",
      "No configs specified for inline runner\n",
      "Creating temp directory C:\\Users\\MRSANC~1\\AppData\\Local\\Temp\\pruebaJoin.mrsanchez.20200811.104540.565129\n",
      "Running step 1 of 1...\n",
      "job output is in C:\\Users\\MRSANC~1\\AppData\\Local\\Temp\\pruebaJoin.mrsanchez.20200811.104540.565129\\output\n",
      "Streaming final output from C:\\Users\\MRSANC~1\\AppData\\Local\\Temp\\pruebaJoin.mrsanchez.20200811.104540.565129\\output...\n",
      "Removing temp directory C:\\Users\\MRSANC~1\\AppData\\Local\\Temp\\pruebaJoin.mrsanchez.20200811.104540.565129...\n"
     ]
    }
   ],
   "source": [
    "!python pruebaJoin.py tablaA.csv tablaB.csv > resultado_prueba"
   ]
  },
  {
   "cell_type": "markdown",
   "metadata": {},
   "source": [
    "Uniones varias: interna, por la izquierda, por la derecha, completa y antiunión. Basado en el libro de Donald Miner y Adam Shook. Este archivo es el ejemplo de donde extraemos todos los algoritmos de unión."
   ]
  },
  {
   "cell_type": "code",
   "execution_count": 46,
   "metadata": {},
   "outputs": [
    {
     "name": "stdout",
     "output_type": "stream",
     "text": [
      "Overwriting unionesVarias.py\n"
     ]
    }
   ],
   "source": [
    "%%writefile unionesVarias.py\n",
    "#!/usr/bin/env python\n",
    "from mrjob.job import MRJob\n",
    "import re,sys,os\n",
    "\n",
    "class unionesVarias(MRJob):\n",
    "    \n",
    "    #Función que limpia lo que el parámetro devuelve en forma \"file://nombre_fichero\" para dejarlo solo con el nombre \n",
    "    #del fichero: \"nombre_fichero\"\n",
    "    def limpiarNombreArchivo(self,archivo):\n",
    "        tamano=len(archivo)\n",
    "        return archivo[7:tamano]\n",
    "    def mapper_init(self):\n",
    "        self.namefile=self.limpiarNombreArchivo(os.getenv('map_input_file')) #Usamos el parámetro para saber que nos llega desde streaming\n",
    "        #map_input_file devuelve una cadena de caracteres correspondiente al archivo de entrada por el stream en formato:\n",
    "        # file://nombre_fichero\n",
    "        \n",
    "    def mapper(self,_,line):\n",
    "        clave=\"\"\n",
    "        linea=line.split(';')\n",
    "        encontrado=re.search('[a-zA-Z]',linea[0])#Para que no tenga en cuenta las cabeceras de las tablas\n",
    "        if encontrado==None:\n",
    "            if self.namefile==\"tablaA.csv\":\n",
    "                linea.append(self.namefile)#Añadimos al registro el nombre del archivo\n",
    "                clave=linea[0] #Esta clave es la común de la tabla 1, que me permite hacer la unión con la de la tabla 2 \n",
    "                yield clave,linea\n",
    "            else:\n",
    "                linea.append(self.namefile) #Aquí estoy usando el nombre del archivo, pero puedo usar otro identificador\n",
    "                                        #como en el libro Dessign Pattern que usa A y B. Añadimos al registro el nombre\n",
    "                                        #del archivo.\n",
    "                clave=linea[0] #Esta es la otra clave común de la tabla 2\n",
    "                yield clave,linea\n",
    "    \n",
    "    def reducer_init(self):\n",
    "        self.listaA=[]\n",
    "        self.listaB=[]\n",
    "        \n",
    "    def reducer(self,key,values):\n",
    "        #Llenamos las dos listas\n",
    "        for valor in values:\n",
    "            if valor[len(valor)-1]==\"tablaA.csv\":\n",
    "                self.listaA.append(valor)\n",
    "            else:\n",
    "                self.listaB.append(valor)\n",
    "        \n",
    "        # Union interna ########################\n",
    "        if self.listaA and self.listaB:\n",
    "            for A in self.listaA:\n",
    "                for B in self.listaB:\n",
    "                    yield A, B\n",
    "        \n",
    "        # Union por la izquierda ####################\n",
    "        for A in self.listaA:\n",
    "            if self.listaB:\n",
    "                for B in self.listaB:\n",
    "                    yield A, B\n",
    "            else:\n",
    "                #Si la listaB está vacía\n",
    "                yield A, \"null\" \n",
    "                \n",
    "        # Union por la derecha ################\n",
    "        for B in self.listaB:\n",
    "            if self.listaA:\n",
    "                for A in self.listaA:\n",
    "                    yield A, B\n",
    "            else:\n",
    "                #Else, output A by itself\n",
    "                yield \"null\",B\n",
    "        \n",
    "        # Union completa ######################\n",
    "        # Si listaA no está vacía, commprobamos cada una de sus entradas\n",
    "        if self.listaA: \n",
    "        # Por cada entrada en la listaA\n",
    "            for A in self.listaA:\n",
    "            #Si la listaB no está vacía, unimos A con B\n",
    "                if self.listaB:\n",
    "                    for B in self.listaB:\n",
    "                        yield A, B\n",
    "                else:\n",
    "                #Si no es el caso, sacamos A con union nula\n",
    "                    yield A, \"null\"\n",
    "        else:\n",
    "        #En cambio si la listaA está vacía, sacamos solo los elementos de la listaB\n",
    "            for B in self.listaB:\n",
    "                yield \"null\", B\n",
    "        \n",
    "        # Antiunion ############################\n",
    "        #Si la listaA o la listaB están vacías\n",
    "        if not self.listaA or not self.listaB:\n",
    "\n",
    "        # Iteramos los valores vacíos de las dos listas\n",
    "            for A in self.listaA:\n",
    "                yield A, \"null\"\n",
    "            for B in self.listaB:\n",
    "                yield \"null\", B\n",
    "\n",
    "if __name__ == '__main__':\n",
    "    unionesVarias.run()"
   ]
  },
  {
   "cell_type": "code",
   "execution_count": 47,
   "metadata": {},
   "outputs": [
    {
     "name": "stderr",
     "output_type": "stream",
     "text": [
      "No configs found; falling back on auto-configuration\n",
      "No configs specified for inline runner\n",
      "Creating temp directory C:\\Users\\cyber\\AppData\\Local\\Temp\\unionesVarias.manuel.20200811.173445.916581\n",
      "Running step 1 of 1...\n",
      "job output is in C:\\Users\\cyber\\AppData\\Local\\Temp\\unionesVarias.manuel.20200811.173445.916581\\output\n",
      "Streaming final output from C:\\Users\\cyber\\AppData\\Local\\Temp\\unionesVarias.manuel.20200811.173445.916581\\output...\n",
      "Removing temp directory C:\\Users\\cyber\\AppData\\Local\\Temp\\unionesVarias.manuel.20200811.173445.916581...\n"
     ]
    }
   ],
   "source": [
    "!python unionesVarias.py tablaA.csv tablaB.csv > unionesVarias"
   ]
  },
  {
   "cell_type": "markdown",
   "metadata": {},
   "source": [
    "=============================================UNIÓN INTERNA================================="
   ]
  },
  {
   "cell_type": "code",
   "execution_count": 1,
   "metadata": {},
   "outputs": [
    {
     "name": "stdout",
     "output_type": "stream",
     "text": [
      "Overwriting unionInterna.py\n"
     ]
    }
   ],
   "source": [
    "%%writefile unionInterna.py\n",
    "#!/usr/bin/env python\n",
    "from mrjob.job import MRJob\n",
    "import re,sys,os\n",
    "\n",
    "class unionInterna(MRJob):\n",
    "    \n",
    "    #Función que limpia lo que el parámetro devuelve en forma \"file://nombre_fichero\" para dejarlo solo con el nombre \n",
    "    #del fichero: \"nombre_fichero\"\n",
    "    def limpiarNombreArchivo(self,archivo):\n",
    "        tamano=len(archivo)\n",
    "        return archivo[7:tamano]\n",
    "    def mapper_init(self):\n",
    "        self.namefile=self.limpiarNombreArchivo(os.getenv('map_input_file')) #Usamos el parámetro para saber que nos llega desde streaming\n",
    "        #map_input_file devuelve una cadena de caracteres correspondiente al archivo de entrada por el stream en formato:\n",
    "        # file://nombre_fichero\n",
    "        \n",
    "    def mapper(self,_,line):\n",
    "        clave=\"\"\n",
    "        linea=line.split(';')\n",
    "        encontrado=re.search('[a-zA-Z]',linea[0])#Para que no tenga en cuenta las cabeceras de las tablas\n",
    "        if encontrado==None:\n",
    "            if self.namefile==\"tablaA.csv\":\n",
    "                linea.append(self.namefile)#Añadimos al registro el nombre del archivo\n",
    "                clave=linea[0] #Esta clave es la común de la tabla 1, que me permite hacer la unión con la de la tabla 2 \n",
    "                yield clave,linea\n",
    "            else:\n",
    "                linea.append(self.namefile) #Aquí estoy usando el nombre del archivo, pero puedo usar otro identificador\n",
    "                                        #como en el libro Dessign Pattern que usa A y B. Añadimos al registro el nombre\n",
    "                                        #del archivo.\n",
    "                clave=linea[0] #Esta es la otra clave común de la tabla 2\n",
    "                yield clave,linea\n",
    "        \n",
    "    def reducer(self,key,values):\n",
    "        listaA=[]\n",
    "        listaB=[]\n",
    "        #Llenamos las dos listas\n",
    "        for valor in values:\n",
    "            if valor[len(valor)-1]==\"tablaA.csv\":\n",
    "                listaA.append(valor)\n",
    "            else:\n",
    "                listaB.append(valor)\n",
    "        \n",
    "        # Union interna ########################\n",
    "        if listaA and listaB:\n",
    "            for A in listaA:\n",
    "                for B in listaB:\n",
    "                    yield key,(A, B)\n",
    "if __name__ == '__main__':\n",
    "    unionInterna.run()"
   ]
  },
  {
   "cell_type": "code",
   "execution_count": 2,
   "metadata": {},
   "outputs": [
    {
     "name": "stderr",
     "output_type": "stream",
     "text": [
      "No configs found; falling back on auto-configuration\n",
      "No configs specified for inline runner\n",
      "Creating temp directory C:\\Users\\cyber\\AppData\\Local\\Temp\\unionInterna.manuel.20200813.081851.269326\n",
      "Running step 1 of 1...\n",
      "job output is in C:\\Users\\cyber\\AppData\\Local\\Temp\\unionInterna.manuel.20200813.081851.269326\\output\n",
      "Streaming final output from C:\\Users\\cyber\\AppData\\Local\\Temp\\unionInterna.manuel.20200813.081851.269326\\output...\n",
      "Removing temp directory C:\\Users\\cyber\\AppData\\Local\\Temp\\unionInterna.manuel.20200813.081851.269326...\n"
     ]
    }
   ],
   "source": [
    "!python unionInterna.py tablaA.csv tablaB.csv > unionInterna.txt"
   ]
  },
  {
   "cell_type": "markdown",
   "metadata": {},
   "source": [
    "========================UNIÓN POR LA IZQUIERDA===================================="
   ]
  },
  {
   "cell_type": "code",
   "execution_count": 1,
   "metadata": {},
   "outputs": [
    {
     "name": "stdout",
     "output_type": "stream",
     "text": [
      "Writing unionIzquierda.py\n"
     ]
    }
   ],
   "source": [
    "%%writefile unionIzquierda.py\n",
    "#!/usr/bin/env python\n",
    "from mrjob.job import MRJob\n",
    "import re,sys,os\n",
    "\n",
    "class unionIzquierda(MRJob):\n",
    "    \n",
    "    #Función que limpia lo que el parámetro devuelve en forma \"file://nombre_fichero\" para dejarlo solo con el nombre \n",
    "    #del fichero: \"nombre_fichero\"\n",
    "    def limpiarNombreArchivo(self,archivo):\n",
    "        tamano=len(archivo)\n",
    "        return archivo[7:tamano]\n",
    "    def mapper_init(self):\n",
    "        self.namefile=self.limpiarNombreArchivo(os.getenv('map_input_file')) #Usamos el parámetro para saber que nos llega desde streaming\n",
    "        #map_input_file devuelve una cadena de caracteres correspondiente al archivo de entrada por el stream en formato:\n",
    "        # file://nombre_fichero\n",
    "        \n",
    "    def mapper(self,_,line):\n",
    "        clave=\"\"\n",
    "        linea=line.split(';')\n",
    "        encontrado=re.search('[a-zA-Z]',linea[0])#Para que no tenga en cuenta las cabeceras de las tablas\n",
    "        if encontrado==None:\n",
    "            if self.namefile==\"tablaA.csv\":\n",
    "                linea.append(self.namefile)#Añadimos al registro el nombre del archivo\n",
    "                clave=linea[0] #Esta clave es la común de la tabla 1, que me permite hacer la unión con la de la tabla 2 \n",
    "                yield clave,linea\n",
    "            else:\n",
    "                linea.append(self.namefile) #Aquí estoy usando el nombre del archivo, pero puedo usar otro identificador\n",
    "                                        #como en el libro Dessign Pattern que usa A y B. Añadimos al registro el nombre\n",
    "                                        #del archivo.\n",
    "                clave=linea[0] #Esta es la otra clave común de la tabla 2\n",
    "                yield clave,linea\n",
    "    \n",
    "   \n",
    "       \n",
    "    #########################################\n",
    "        \n",
    "    def reducer(self,key,values):\n",
    "        listaA=[]\n",
    "        listaB=[]\n",
    "        #Llenamos las dos listas\n",
    "        for valor in values:\n",
    "            if valor[len(valor)-1]==\"tablaA.csv\":\n",
    "                listaA.append(valor)\n",
    "            else:\n",
    "                listaB.append(valor)\n",
    "        \n",
    "        # Union por la izquierda ####################\n",
    "        for A in listaA:\n",
    "            if listaB:\n",
    "                for B in listaB:\n",
    "                    yield A, B\n",
    "            else:\n",
    "                #Si la listaB está vacía\n",
    "                yield A, \"null\" \n",
    "                \n",
    "if __name__ == '__main__':\n",
    "    unionIzquierda.run()"
   ]
  },
  {
   "cell_type": "code",
   "execution_count": 2,
   "metadata": {},
   "outputs": [
    {
     "name": "stderr",
     "output_type": "stream",
     "text": [
      "No configs found; falling back on auto-configuration\n",
      "No configs specified for inline runner\n",
      "Creating temp directory C:\\Users\\MRSANC~1\\AppData\\Local\\Temp\\unionIzquierda.mrsanchez.20200820.184128.655718\n",
      "Running step 1 of 1...\n",
      "job output is in C:\\Users\\MRSANC~1\\AppData\\Local\\Temp\\unionIzquierda.mrsanchez.20200820.184128.655718\\output\n",
      "Streaming final output from C:\\Users\\MRSANC~1\\AppData\\Local\\Temp\\unionIzquierda.mrsanchez.20200820.184128.655718\\output...\n",
      "Removing temp directory C:\\Users\\MRSANC~1\\AppData\\Local\\Temp\\unionIzquierda.mrsanchez.20200820.184128.655718...\n"
     ]
    }
   ],
   "source": [
    "!python unionIzquierda.py tablaA.csv tablaB.csv > unionIzquierda.txt"
   ]
  },
  {
   "cell_type": "markdown",
   "metadata": {},
   "source": [
    "========================UNIÓN POR LA DERECHA===================================="
   ]
  },
  {
   "cell_type": "code",
   "execution_count": 6,
   "metadata": {},
   "outputs": [
    {
     "name": "stdout",
     "output_type": "stream",
     "text": [
      "Overwriting unionDerecha.py\n"
     ]
    }
   ],
   "source": [
    "%%writefile unionDerecha.py\n",
    "#!/usr/bin/env python\n",
    "from mrjob.job import MRJob\n",
    "import re,sys,os\n",
    "\n",
    "class unionDerecha(MRJob):\n",
    "    \n",
    "    #Función que limpia lo que el parámetro devuelve en forma \"file://nombre_fichero\" para dejarlo solo con el nombre \n",
    "    #del fichero: \"nombre_fichero\"\n",
    "    def limpiarNombreArchivo(self,archivo):\n",
    "        tamano=len(archivo)\n",
    "        return archivo[7:tamano]\n",
    "    def mapper_init(self):\n",
    "        self.namefile=self.limpiarNombreArchivo(os.getenv('map_input_file')) #Usamos el parámetro para saber que nos llega desde streaming\n",
    "        #map_input_file devuelve una cadena de caracteres correspondiente al archivo de entrada por el stream en formato:\n",
    "        # file://nombre_fichero\n",
    "        \n",
    "    def mapper(self,_,line):\n",
    "        clave=\"\"\n",
    "        linea=line.split(';')\n",
    "        encontrado=re.search('[a-zA-Z]',linea[0])#Para que no tenga en cuenta las cabeceras de las tablas\n",
    "        if encontrado==None:\n",
    "            if self.namefile==\"tablaA.csv\":\n",
    "                linea.append(self.namefile)#Añadimos al registro el nombre del archivo\n",
    "                clave=linea[0] #Esta clave es la común de la tabla 1, que me permite hacer la unión con la de la tabla 2 \n",
    "                yield clave,linea\n",
    "            else:\n",
    "                linea.append(self.namefile) #Aquí estoy usando el nombre del archivo, pero puedo usar otro identificador\n",
    "                                        #como en el libro Dessign Pattern que usa A y B. Añadimos al registro el nombre\n",
    "                                        #del archivo.\n",
    "                clave=linea[0] #Esta es la otra clave común de la tabla 2\n",
    "                yield clave,linea\n",
    "    \n",
    "        \n",
    "    def reducer(self,key,values):\n",
    "        listaA=[]\n",
    "        listaB=[]\n",
    "        #Llenamos las dos listas\n",
    "        for valor in values:\n",
    "            if valor[len(valor)-1]==\"tablaA.csv\":\n",
    "                listaA.append(valor)\n",
    "            else:\n",
    "                listaB.append(valor)\n",
    "        \n",
    "        # Union por la derecha ####################\n",
    "        for B in listaB:\n",
    "            if listaA:\n",
    "                for A in listaA:\n",
    "                    yield A, B\n",
    "            else:\n",
    "                #Si la listaA está vacía\n",
    "                yield \"null\",B\n",
    "                \n",
    "if __name__ == '__main__':\n",
    "    unionDerecha.run()"
   ]
  },
  {
   "cell_type": "code",
   "execution_count": 7,
   "metadata": {},
   "outputs": [
    {
     "name": "stderr",
     "output_type": "stream",
     "text": [
      "No configs found; falling back on auto-configuration\n",
      "No configs specified for inline runner\n",
      "Creating temp directory C:\\Users\\cyber\\AppData\\Local\\Temp\\unionDerecha.manuel.20200813.152455.281172\n",
      "Running step 1 of 1...\n",
      "job output is in C:\\Users\\cyber\\AppData\\Local\\Temp\\unionDerecha.manuel.20200813.152455.281172\\output\n",
      "Streaming final output from C:\\Users\\cyber\\AppData\\Local\\Temp\\unionDerecha.manuel.20200813.152455.281172\\output...\n",
      "Removing temp directory C:\\Users\\cyber\\AppData\\Local\\Temp\\unionDerecha.manuel.20200813.152455.281172...\n"
     ]
    }
   ],
   "source": [
    "!python unionDerecha.py tablaA.csv tablaB.csv > unionDerecha.txt"
   ]
  },
  {
   "cell_type": "code",
   "execution_count": 9,
   "metadata": {},
   "outputs": [
    {
     "name": "stdout",
     "output_type": "stream",
     "text": [
      "Overwriting unionCompleta.py\n"
     ]
    }
   ],
   "source": [
    "%%writefile unionCompleta.py\n",
    "#!/usr/bin/env python\n",
    "from mrjob.job import MRJob\n",
    "import re,sys,os\n",
    "\n",
    "class unionCompleta(MRJob):\n",
    "    \n",
    "    #Función que limpia lo que el parámetro devuelve en forma \"file://nombre_fichero\" para dejarlo solo con el nombre \n",
    "    #del fichero: \"nombre_fichero\"\n",
    "    def limpiarNombreArchivo(self,archivo):\n",
    "        tamano=len(archivo)\n",
    "        return archivo[7:tamano]\n",
    "    def mapper_init(self):\n",
    "        self.namefile=self.limpiarNombreArchivo(os.getenv('map_input_file')) #Usamos el parámetro para saber que nos llega desde streaming\n",
    "        #map_input_file devuelve una cadena de caracteres correspondiente al archivo de entrada por el stream en formato:\n",
    "        # file://nombre_fichero\n",
    "        \n",
    "    def mapper(self,_,line):\n",
    "        clave=\"\"\n",
    "        linea=line.split(';')\n",
    "        encontrado=re.search('[a-zA-Z]',linea[0])#Para que no tenga en cuenta las cabeceras de las tablas\n",
    "        if encontrado==None:\n",
    "            if self.namefile==\"tablaA.csv\":\n",
    "                linea.append(self.namefile)#Añadimos al registro el nombre del archivo\n",
    "                clave=linea[0] #Esta clave es la común de la tabla 1, que me permite hacer la unión con la de la tabla 2 \n",
    "                yield clave,linea\n",
    "            else:\n",
    "                linea.append(self.namefile) #Aquí estoy usando el nombre del archivo, pero puedo usar otro identificador\n",
    "                                        #como en el libro Dessign Pattern que usa A y B. Añadimos al registro el nombre\n",
    "                                        #del archivo.\n",
    "                clave=linea[0] #Esta es la otra clave común de la tabla 2\n",
    "                yield clave,linea\n",
    "    \n",
    "        \n",
    "    def reducer(self,key,values):\n",
    "        listaA=[]\n",
    "        listaB=[]\n",
    "        #Llenamos las dos listas\n",
    "        for valor in values:\n",
    "            if valor[len(valor)-1]==\"tablaA.csv\":\n",
    "                listaA.append(valor)\n",
    "            else:\n",
    "                listaB.append(valor)\n",
    "        \n",
    "        # Si listaA no está vacía, commprobamos cada una de sus entradas\n",
    "        if listaA: \n",
    "        # Por cada entrada en la listaA\n",
    "            for A in listaA:\n",
    "            #Si la listaB no está vacía, unimos A con B\n",
    "                if listaB:\n",
    "                    for B in listaB:\n",
    "                        yield A, B\n",
    "                else:\n",
    "                #Si no es el caso, sacamos A con union nula\n",
    "                    yield A, \"null\"\n",
    "        else:\n",
    "        #En cambio si la listaA está vacía, sacamos solo los elementos de la listaB\n",
    "            for B in listaB:\n",
    "                yield \"null\", B\n",
    "                \n",
    "if __name__ == '__main__':\n",
    "    unionCompleta.run()"
   ]
  },
  {
   "cell_type": "code",
   "execution_count": 10,
   "metadata": {},
   "outputs": [
    {
     "name": "stderr",
     "output_type": "stream",
     "text": [
      "No configs found; falling back on auto-configuration\n",
      "No configs specified for inline runner\n",
      "Creating temp directory C:\\Users\\cyber\\AppData\\Local\\Temp\\unionCompleta.manuel.20200813.153727.272390\n",
      "Running step 1 of 1...\n",
      "job output is in C:\\Users\\cyber\\AppData\\Local\\Temp\\unionCompleta.manuel.20200813.153727.272390\\output\n",
      "Streaming final output from C:\\Users\\cyber\\AppData\\Local\\Temp\\unionCompleta.manuel.20200813.153727.272390\\output...\n",
      "Removing temp directory C:\\Users\\cyber\\AppData\\Local\\Temp\\unionCompleta.manuel.20200813.153727.272390...\n"
     ]
    }
   ],
   "source": [
    "!python unionCompleta.py tablaA.csv tablaB.csv > unionCompleta.txt"
   ]
  },
  {
   "cell_type": "code",
   "execution_count": 14,
   "metadata": {},
   "outputs": [
    {
     "name": "stdout",
     "output_type": "stream",
     "text": [
      "Overwriting antiunion.py\n"
     ]
    }
   ],
   "source": [
    "%%writefile antiunion.py\n",
    "#!/usr/bin/env python\n",
    "from mrjob.job import MRJob\n",
    "import re,sys,os\n",
    "\n",
    "class antiunion(MRJob):\n",
    "    \n",
    "    #Función que limpia lo que el parámetro devuelve en forma \"file://nombre_fichero\" para dejarlo solo con el nombre \n",
    "    #del fichero: \"nombre_fichero\"\n",
    "    def limpiarNombreArchivo(self,archivo):\n",
    "        tamano=len(archivo)\n",
    "        return archivo[7:tamano]\n",
    "    def mapper_init(self):\n",
    "        self.namefile=self.limpiarNombreArchivo(os.getenv('map_input_file')) #Usamos el parámetro para saber que nos llega desde streaming\n",
    "        #map_input_file devuelve una cadena de caracteres correspondiente al archivo de entrada por el stream en formato:\n",
    "        # file://nombre_fichero\n",
    "        \n",
    "    def mapper(self,_,line):\n",
    "        clave=\"\"\n",
    "        linea=line.split(';')\n",
    "        encontrado=re.search('[a-zA-Z]',linea[0])#Para que no tenga en cuenta las cabeceras de las tablas\n",
    "        if encontrado==None:\n",
    "            #Modificar el nombre del archivo que contiene la tablaA, cuando queramos usar otras tablas\n",
    "            if self.namefile==\"tablaA.csv\":\n",
    "                linea.append(self.namefile)#Añadimos al registro el nombre del archivo\n",
    "                #Clave de la tablaA\n",
    "                clave=linea[0] #Esta clave es la común de la tabla 1, que me permite hacer \n",
    "                                #la unión con la de la tabla 2 \n",
    "                yield clave,linea\n",
    "            else:\n",
    "                linea.append(self.namefile) #Aquí estoy usando el nombre del archivo, pero puedo usar otro identificador\n",
    "                                        #como en el libro Dessign Pattern que usa A y B. Añadimos al registro el nombre\n",
    "                                        #del archivo.\n",
    "                #Clave de la tablaB\n",
    "                clave=linea[0] #Esta es la otra clave común de la tabla 2\n",
    "                yield clave,linea\n",
    "    \n",
    "        \n",
    "    def reducer(self,key,values):\n",
    "        listaA=[]\n",
    "        listaB=[]\n",
    "        #Llenamos las dos listas\n",
    "        for valor in values:\n",
    "            if valor[len(valor)-1]==\"tablaA.csv\":\n",
    "                listaA.append(valor)\n",
    "            else:\n",
    "                listaB.append(valor)\n",
    "        \n",
    "        # Antiunion ############################\n",
    "        #Si la listaA o la listaB están vacías\n",
    "        if not listaA or not listaB:\n",
    "\n",
    "        # Iteramos los valores vacíos de las dos listas\n",
    "            for A in listaA:\n",
    "                yield A, \"null\"\n",
    "            for B in listaB:\n",
    "                yield \"null\", B\n",
    "       \n",
    "                \n",
    "if __name__ == '__main__':\n",
    "    antiunion.run()"
   ]
  },
  {
   "cell_type": "code",
   "execution_count": 12,
   "metadata": {},
   "outputs": [
    {
     "name": "stderr",
     "output_type": "stream",
     "text": [
      "No configs found; falling back on auto-configuration\n",
      "No configs specified for inline runner\n",
      "Creating temp directory C:\\Users\\cyber\\AppData\\Local\\Temp\\antiunion.manuel.20200813.154009.022142\n",
      "Running step 1 of 1...\n",
      "job output is in C:\\Users\\cyber\\AppData\\Local\\Temp\\antiunion.manuel.20200813.154009.022142\\output\n",
      "Streaming final output from C:\\Users\\cyber\\AppData\\Local\\Temp\\antiunion.manuel.20200813.154009.022142\\output...\n",
      "Removing temp directory C:\\Users\\cyber\\AppData\\Local\\Temp\\antiunion.manuel.20200813.154009.022142...\n"
     ]
    }
   ],
   "source": [
    "!python antiunion.py tablaA.csv tablaB.csv > antiunion.txt"
   ]
  },
  {
   "cell_type": "markdown",
   "metadata": {},
   "source": [
    "Ejemplo para comprobar que fichero entra en el map. Esto lo necesitaremos para desarrollar el patron de unión, por que dependiendo del fichero que entre, debermos de realizar distintas acciones.\n",
    "Usando un parámetro configurado (map_input_file), puedo saber que archivo Hadoop Streaming está leyendo\n",
    "de esta forma controlaremos lo que entra para desarrollar el patrón de unión y saber que clave/valor ha de ir a cada estructura, que luego usaremos en el reducer para hacer la unión. Mas informacón de parámetros configurados en:\n",
    "http://hadoop.apache.org/docs/r1.2.1/mapred_tutorial.html#Configured+Parameters\n",
    "EJEMPLO DE USO:\n",
    "https://www-it--swarm-dev.cdn.ampproject.org/v/s/www.it-swarm.dev/es/hadoop/como-obtener-el-nombre-del-archivo-de-entrada-en-el-mapeador-en-un-programa-hadoop/1042140842/amp/?usqp=mq331AQFKAGwASA%3D&amp_js_v=0.1#aoh=15964086144637&referrer=https%3A%2F%2Fwww.google.com&amp_tf=From%20%251%24s&ampshare=https%3A%2F%2Fwww.it-swarm.dev%2Fes%2Fhadoop%2Fcomo-obtener-el-nombre-del-archivo-de-entrada-en-el-mapeador-en-un-programa-hadoop%2F1042140842%2F\n",
    "Este ejemplo lo voy a coger como base para desarrollar el patrón"
   ]
  },
  {
   "cell_type": "code",
   "execution_count": 21,
   "metadata": {},
   "outputs": [
    {
     "name": "stdout",
     "output_type": "stream",
     "text": [
      "Overwriting nombrefichero.py\n"
     ]
    }
   ],
   "source": [
    "%%writefile nombrefichero.py\n",
    "#!/usr/bin/env python\n",
    "from mrjob.job import MRJob\n",
    "import re,sys,fileinput,os\n",
    "\n",
    "class nombrefichero(MRJob):\n",
    "    \n",
    "    def mapper_init(self):\n",
    "        self.namefile=os.getenv('map_input_file') #Usamos el parámetro para saber que nos llega desde streaming\n",
    "        self.namefile2=\"file://ventas_ESP.csv\" #Tenemos que compararlo con el otro u otros archivos que le metemos para\n",
    "                                                # hacer la unión\n",
    "        linea=[] #Declaramos una lista que le pasaremos al reducer con el valor.\n",
    "        \n",
    "    def mapper(self,_,line):\n",
    "        if self.namefile2!=self.namefile:      \n",
    "            linea=line.split(';')\n",
    "            yield self.namefile,linea\n",
    "        else:\n",
    "            linea=line.split(';')\n",
    "            yield \"Fichero nuevo: \" + self.namefile,linea\n",
    "        \n",
    "    \"\"\"def reducer(self, key, values):\n",
    "        for record in values:\n",
    "            yield key,record\"\"\"\n",
    "\n",
    "if __name__ == '__main__':\n",
    "    nombrefichero.run()"
   ]
  },
  {
   "cell_type": "code",
   "execution_count": 22,
   "metadata": {},
   "outputs": [
    {
     "name": "stderr",
     "output_type": "stream",
     "text": [
      "No configs found; falling back on auto-configuration\n",
      "No configs specified for inline runner\n",
      "Creating temp directory C:\\Users\\cyber\\AppData\\Local\\Temp\\nombrefichero.manuel.20200808.110407.188379\n",
      "Running step 1 of 1...\n",
      "job output is in C:\\Users\\cyber\\AppData\\Local\\Temp\\nombrefichero.manuel.20200808.110407.188379\\output\n",
      "Streaming final output from C:\\Users\\cyber\\AppData\\Local\\Temp\\nombrefichero.manuel.20200808.110407.188379\\output...\n",
      "Removing temp directory C:\\Users\\cyber\\AppData\\Local\\Temp\\nombrefichero.manuel.20200808.110407.188379...\n"
     ]
    }
   ],
   "source": [
    "!python nombrefichero.py ventas_AUS.csv ventas_ESP.csv > resultados"
   ]
  },
  {
   "cell_type": "code",
   "execution_count": null,
   "metadata": {},
   "outputs": [],
   "source": []
  }
 ],
 "metadata": {
  "kernelspec": {
   "display_name": "Python 3",
   "language": "python",
   "name": "python3"
  },
  "language_info": {
   "codemirror_mode": {
    "name": "ipython",
    "version": 3
   },
   "file_extension": ".py",
   "mimetype": "text/x-python",
   "name": "python",
   "nbconvert_exporter": "python",
   "pygments_lexer": "ipython3",
   "version": "3.7.6"
  }
 },
 "nbformat": 4,
 "nbformat_minor": 4
}
