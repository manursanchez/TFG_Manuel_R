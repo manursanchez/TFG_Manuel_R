{
 "cells": [
  {
   "cell_type": "code",
   "execution_count": null,
   "metadata": {},
   "outputs": [],
   "source": []
  },
  {
   "cell_type": "code",
   "execution_count": 1,
   "metadata": {},
   "outputs": [],
   "source": [
    "%config IPCompleter.greedy=True"
   ]
  },
  {
   "cell_type": "code",
   "execution_count": 9,
   "metadata": {},
   "outputs": [
    {
     "name": "stdout",
     "output_type": "stream",
     "text": [
      "Overwriting productoCartesiano.py\n"
     ]
    }
   ],
   "source": [
    "%%writefile productoCartesiano.py\n",
    "#!/usr/bin/env python\n",
    "\n",
    "from mrjob.job import MRJob\n",
    "import re,sys,os\n",
    "\n",
    "class productoCartesiano(MRJob):\n",
    "        \n",
    "    def mapper_init(self):\n",
    "        self.listaA=[]\n",
    "        self.listaB=[]\n",
    "        \n",
    "    def mapper(self,_,line):\n",
    "        self.linea=line.split(';')\n",
    "        encontrado=re.search('[a-zA-Z]',self.linea[0])#Para que no tenga en cuenta las cabeceras de las tablas\n",
    "        if encontrado==None: #¡¡¡CUIDADO CON LOS ÁMBITOS DE LAS VARIABLES!!!!\n",
    "            self.clave=self.linea[0] #Extraigo la clave del fichero de entrada \n",
    "            if self.clave in self.listaA: #Si encuentra la clave en el diccionario unimos y sacamos\n",
    "                yield self.clave,(self.linea,self.listaA.get(self.clave) )\n",
    "            else:#Si no está, sacamos la línea del archivo pero sin su complementario del diccionario de memoria\n",
    "                yield self.clave,(self.linea,\"null\")\n",
    "                \n",
    "if __name__ == '__main__':\n",
    "    productoCartesiano.run()"
   ]
  },
  {
   "cell_type": "code",
   "execution_count": 10,
   "metadata": {},
   "outputs": [
    {
     "name": "stdout",
     "output_type": "stream",
     "text": [
      "\"UserID\"\t[[\"UserID\", \"Reputation\", \"Location\"], \"null\"]\n",
      "\"3\"\t[[\"3\", \"3738\", \"New York,NY\"], \"null\"]\n",
      "\"4\"\t[[\"4\", \"12946\", \"New York,NY\"], \"null\"]\n",
      "\"5\"\t[[\"5\", \"17556\", \"San Diego, CA\"], \"null\"]\n",
      "\"9\"\t[[\"9\", \"3443\", \"Oakland, CA\"], \"null\"]\n",
      "\"UserID\"\t[[\"UserID\", \"PostID\", \"Text\"], \"null\"]\n",
      "\"3\"\t[[\"3\", \"35314\", \"Esto es texto del post\"], \"null\"]\n",
      "\"3\"\t[[\"3\", \"44002\", \"Esto es mas texto aun\"], \"null\"]\n",
      "\"5\"\t[[\"5\", \"44921\", \"Aqui digo otra cosa\"], \"null\"]\n",
      "\"5\"\t[[\"5\", \"44920\", \"Otra cosa que que se dice\"], \"null\"]\n",
      "\"8\"\t[[\"8\", \"48675\", \"Decimos muchas cosas, es impresionante\"], \"null\"]\n"
     ]
    },
    {
     "name": "stderr",
     "output_type": "stream",
     "text": [
      "No configs found; falling back on auto-configuration\n",
      "No configs specified for inline runner\n",
      "Creating temp directory C:\\Users\\cyber\\AppData\\Local\\Temp\\productoCartesiano.manuel.20201128.130517.542122\n",
      "Running step 1 of 1...\n",
      "job output is in C:\\Users\\cyber\\AppData\\Local\\Temp\\productoCartesiano.manuel.20201128.130517.542122\\output\n",
      "Streaming final output from C:\\Users\\cyber\\AppData\\Local\\Temp\\productoCartesiano.manuel.20201128.130517.542122\\output...\n",
      "Removing temp directory C:\\Users\\cyber\\AppData\\Local\\Temp\\productoCartesiano.manuel.20201128.130517.542122...\n"
     ]
    }
   ],
   "source": [
    "!python productoCartesiano.py archivos_datos/tablaA.csv archivos_datos/tablaB.csv"
   ]
  },
  {
   "cell_type": "code",
   "execution_count": null,
   "metadata": {},
   "outputs": [],
   "source": []
  }
 ],
 "metadata": {
  "kernelspec": {
   "display_name": "Python 3",
   "language": "python",
   "name": "python3"
  },
  "language_info": {
   "codemirror_mode": {
    "name": "ipython",
    "version": 3
   },
   "file_extension": ".py",
   "mimetype": "text/x-python",
   "name": "python",
   "nbconvert_exporter": "python",
   "pygments_lexer": "ipython3",
   "version": "3.7.4"
  }
 },
 "nbformat": 4,
 "nbformat_minor": 4
}
