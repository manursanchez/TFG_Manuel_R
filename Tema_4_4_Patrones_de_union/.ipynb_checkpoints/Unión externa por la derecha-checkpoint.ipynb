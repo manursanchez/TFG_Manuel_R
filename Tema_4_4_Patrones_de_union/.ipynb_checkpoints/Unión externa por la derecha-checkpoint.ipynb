{
 "cells": [
  {
   "cell_type": "markdown",
   "metadata": {},
   "source": [
    "========================UNIÓN POR LA DERECHA===================================="
   ]
  },
  {
   "cell_type": "code",
   "execution_count": null,
   "metadata": {},
   "outputs": [],
   "source": [
    "%%writefile unionDerecha.py\n",
    "#!/usr/bin/env python\n",
    "from mrjob.job import MRJob\n",
    "import re,sys,os\n",
    "\n",
    "class unionDerecha(MRJob):\n",
    "    \n",
    "    #Función que limpia lo que el parámetro devuelve en forma \"file://nombre_fichero\" para dejarlo solo con el nombre \n",
    "    #del fichero: \"nombre_fichero\"\n",
    "    def limpiarNombreArchivo(self,archivo):\n",
    "        encontradaBarra=False\n",
    "        tamano=len(archivo)\n",
    "        posicion=tamano-1\n",
    "        while encontradaBarra==False or posicion==0:\n",
    "            if archivo[posicion]==\"/\":\n",
    "                encontradaBarra=True\n",
    "                return archivo[posicion+1:tamano]\n",
    "            else:\n",
    "                posicion-=1\n",
    "        if posicion==0:\n",
    "            return archivo\n",
    "        \n",
    "    def mapper_init(self):\n",
    "        self.namefile=self.limpiarNombreArchivo(os.getenv('map_input_file')) #Usamos el parámetro para saber que nos llega desde streaming\n",
    "        #map_input_file devuelve una cadena de caracteres correspondiente al archivo de entrada por el stream en formato:\n",
    "        # file://nombre_fichero\n",
    "        \n",
    "    def mapper(self,_,line):\n",
    "        clave=\"\"\n",
    "        linea=line.split(';')\n",
    "        encontrado=re.search('[a-zA-Z]',linea[0])#Para que no tenga en cuenta las cabeceras de las tablas\n",
    "        if encontrado==None:\n",
    "            if self.namefile==\"tablaA.csv\":\n",
    "                linea.append(self.namefile)#Añadimos al registro el nombre del archivo\n",
    "                clave=linea[0] #Esta clave es la común de la tabla 1, que me permite hacer la unión con la de la tabla 2 \n",
    "                yield clave,linea\n",
    "            else:\n",
    "                linea.append(self.namefile) #Aquí estoy usando el nombre del archivo, pero puedo usar otro identificador\n",
    "                                        #como en el libro Dessign Pattern que usa A y B. Añadimos al registro el nombre\n",
    "                                        #del archivo.\n",
    "                clave=linea[0] #Esta es la otra clave común de la tabla 2\n",
    "                yield clave,linea\n",
    "    \n",
    "        \n",
    "    def reducer(self,key,values):\n",
    "        listaA=[]\n",
    "        listaB=[]\n",
    "        #Llenamos las dos listas\n",
    "        for valor in values:\n",
    "            if valor[len(valor)-1]==\"tablaA.csv\":\n",
    "                listaA.append(valor)\n",
    "            else:\n",
    "                listaB.append(valor)\n",
    "        \n",
    "        # Union por la derecha ####################\n",
    "        for B in listaB:\n",
    "            if listaA:\n",
    "                for A in listaA:\n",
    "                    yield A, B\n",
    "            else:\n",
    "                #Si la listaA está vacía\n",
    "                yield \"null\",B\n",
    "                \n",
    "if __name__ == '__main__':\n",
    "    unionDerecha.run()"
   ]
  },
  {
   "cell_type": "code",
   "execution_count": null,
   "metadata": {},
   "outputs": [],
   "source": [
    "!python unionDerecha.py archivos_datos/tablaA.csv archivos_datos/tablaB.csv"
   ]
  }
 ],
 "metadata": {
  "kernelspec": {
   "display_name": "Python 3",
   "language": "python",
   "name": "python3"
  },
  "language_info": {
   "codemirror_mode": {
    "name": "ipython",
    "version": 3
   },
   "file_extension": ".py",
   "mimetype": "text/x-python",
   "name": "python",
   "nbconvert_exporter": "python",
   "pygments_lexer": "ipython3",
   "version": "3.7.4"
  }
 },
 "nbformat": 4,
 "nbformat_minor": 4
}
