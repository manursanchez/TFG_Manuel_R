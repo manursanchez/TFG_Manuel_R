{
 "cells": [
  {
   "cell_type": "code",
   "execution_count": null,
   "metadata": {},
   "outputs": [],
   "source": [
    "%config IPCompleter.greedy=True"
   ]
  },
  {
   "cell_type": "code",
   "execution_count": 1,
   "metadata": {},
   "outputs": [
    {
     "name": "stdout",
     "output_type": "stream",
     "text": [
      "Overwriting reglas.py\n"
     ]
    }
   ],
   "source": [
    "%%writefile reglas.py\n",
    "#!/usr/bin/env python\n",
    "\n",
    "from mrjob.job import MRJob\n",
    "from mrjob.step import MRStep\n",
    "import sys, os, re\n",
    "\n",
    "class reglas(MRJob):\n",
    "    \n",
    "    def mapper(self,_, line):\n",
    "        valoresEntrada=[]\n",
    "        valoresSalida=[]\n",
    "        linea=line.rstrip(\"\\n\").split(\";\")\n",
    "        encontrado=re.search('[a-zA-Z]',linea[5])#En este caso el valor lo tengo en la posción 5 de la línea\n",
    "            #Preguntamos si ha encontrado la expresion regular. Si no la ha encontrado, emite la linea\n",
    "        if encontrado==None:\n",
    "            valoresEntrada.append(linea[5])\n",
    "            cuenta=0\n",
    "            # ordenamos la lista    \n",
    "            valoresEntrada.sort()\n",
    "        \n",
    "            posicion=len(valoresEntrada)-1 #Almacenamos el tamaño de la lista\n",
    "            while cuenta<10: #Como vamos a coger los 10 valores, \"cuenta\" la limitamos al número de valores que quiera localizar\n",
    "                if valoresEntrada[posicion] not in valoresSalida: #Si el valor no está en los valores más altos, lo agregamos\n",
    "                    valoresSalida.append(valoresEntrada[posicion])\n",
    "                    cuenta+=1 # si hemos agregado un valor aumentamos cuenta \n",
    "                posicion-=1 # tanto si hemos agregado un valor como si no, disminuimos la posición \n",
    "                        # de la lista para buscar un nuevo valor.\n",
    "            for v in valoresSalida:\n",
    "                yield _,valoresSalida[v] \n",
    "      \n",
    "        \n",
    "    \"\"\"def reducer(self, key, values):\n",
    "        listaValores=[]\n",
    "        valoresMasAltos = []\n",
    "        cuenta=0\n",
    "        # metemos los valores en una lista\n",
    "        for valores in values:\n",
    "            listaValores.append(valores)\n",
    "        \n",
    "        # ordenamos la lista    \n",
    "        listaValores.sort()\n",
    "        \n",
    "        posicion=len(listaValores)-1 #Almacenamos el tamaño de la lista\n",
    "        while cuenta<10: #Como vamos a coger los 10 valores, \"cuenta\" la limitamos al número de valores que quiera localizar\n",
    "            if listaValores[posicion] not in valoresMasAltos: #Si el valor no está en los valores más altos, lo agregamos\n",
    "                valoresMasAltos.append(listaValores[posicion])\n",
    "                cuenta+=1 # si hemos agregado un valor aumentamos cuenta \n",
    "            posicion-=1 # tanto si hemos agregado un valor como si no, disminuimos la posición \n",
    "                        # de la lista para buscar un nuevo valor.\n",
    "        \n",
    "        #mostramos los n valores encontrados.\n",
    "        for p in valoresMasAltos:\n",
    "            yield \"Valor: \", p\"\"\"\n",
    "            \n",
    "if __name__ == '__main__':\n",
    "    reglas.run()"
   ]
  },
  {
   "cell_type": "code",
   "execution_count": 2,
   "metadata": {},
   "outputs": [
    {
     "name": "stderr",
     "output_type": "stream",
     "text": [
      "No configs found; falling back on auto-configuration\n",
      "No configs specified for inline runner\n",
      "Creating temp directory C:\\Users\\cyber\\AppData\\Local\\Temp\\reglas.manuel.20200323.064647.235963\n",
      "Running step 1 of 1...\n",
      "\n",
      "Error while reading from C:\\Users\\cyber\\AppData\\Local\\Temp\\reglas.manuel.20200323.064647.235963\\step\\000\\mapper\\00000\\input:\n",
      "\n",
      "Traceback (most recent call last):\n",
      "  File \"reglas.py\", line 56, in <module>\n",
      "    reglas.run()\n",
      "  File \"C:\\Users\\cyber\\Anaconda3\\lib\\site-packages\\mrjob\\job.py\", line 616, in run\n",
      "    cls().execute()\n",
      "  File \"C:\\Users\\cyber\\Anaconda3\\lib\\site-packages\\mrjob\\job.py\", line 687, in execute\n",
      "    self.run_job()\n",
      "  File \"C:\\Users\\cyber\\Anaconda3\\lib\\site-packages\\mrjob\\job.py\", line 636, in run_job\n",
      "    runner.run()\n",
      "  File \"C:\\Users\\cyber\\Anaconda3\\lib\\site-packages\\mrjob\\runner.py\", line 497, in run\n",
      "    self._run()\n",
      "  File \"C:\\Users\\cyber\\Anaconda3\\lib\\site-packages\\mrjob\\sim.py\", line 160, in _run\n",
      "    self._run_step(step, step_num)\n",
      "  File \"C:\\Users\\cyber\\Anaconda3\\lib\\site-packages\\mrjob\\sim.py\", line 169, in _run_step\n",
      "    self._run_streaming_step(step, step_num)\n",
      "  File \"C:\\Users\\cyber\\Anaconda3\\lib\\site-packages\\mrjob\\sim.py\", line 180, in _run_streaming_step\n",
      "    self._run_mappers_and_combiners(step_num, map_splits)\n",
      "  File \"C:\\Users\\cyber\\Anaconda3\\lib\\site-packages\\mrjob\\sim.py\", line 221, in _run_mappers_and_combiners\n",
      "    for task_num, map_split in enumerate(map_splits)\n",
      "  File \"C:\\Users\\cyber\\Anaconda3\\lib\\site-packages\\mrjob\\sim.py\", line 129, in _run_multiple\n",
      "    func()\n",
      "  File \"C:\\Users\\cyber\\Anaconda3\\lib\\site-packages\\mrjob\\sim.py\", line 723, in _run_mapper_and_combiner\n",
      "    run_mapper()\n",
      "  File \"C:\\Users\\cyber\\Anaconda3\\lib\\site-packages\\mrjob\\sim.py\", line 746, in _run_task\n",
      "    stdin, stdout, stderr, wd, env)\n",
      "  File \"C:\\Users\\cyber\\Anaconda3\\lib\\site-packages\\mrjob\\inline.py\", line 132, in invoke_task\n",
      "    task.execute()\n",
      "  File \"C:\\Users\\cyber\\Anaconda3\\lib\\site-packages\\mrjob\\job.py\", line 675, in execute\n",
      "    self.run_mapper(self.options.step_num)\n",
      "  File \"C:\\Users\\cyber\\Anaconda3\\lib\\site-packages\\mrjob\\job.py\", line 760, in run_mapper\n",
      "    for k, v in self.map_pairs(read_lines(), step_num=step_num):\n",
      "  File \"C:\\Users\\cyber\\Anaconda3\\lib\\site-packages\\mrjob\\job.py\", line 830, in map_pairs\n",
      "    for k, v in mapper(key, value) or ():\n",
      "  File \"reglas.py\", line 23, in mapper\n",
      "    if valoresEntrada[posicion] not in valoresSalida: #Si el valor no está en los valores más altos, lo agregamos\n",
      "IndexError: list index out of range\n"
     ]
    }
   ],
   "source": [
    "!python reglas.py ventas_BRA.csv"
   ]
  },
  {
   "cell_type": "code",
   "execution_count": null,
   "metadata": {},
   "outputs": [],
   "source": []
  }
 ],
 "metadata": {
  "kernelspec": {
   "display_name": "Python 3",
   "language": "python",
   "name": "python3"
  },
  "language_info": {
   "codemirror_mode": {
    "name": "ipython",
    "version": 3
   },
   "file_extension": ".py",
   "mimetype": "text/x-python",
   "name": "python",
   "nbconvert_exporter": "python",
   "pygments_lexer": "ipython3",
   "version": "3.7.4"
  }
 },
 "nbformat": 4,
 "nbformat_minor": 2
}
