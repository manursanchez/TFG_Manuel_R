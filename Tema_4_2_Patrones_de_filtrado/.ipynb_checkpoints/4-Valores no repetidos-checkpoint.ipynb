{
 "cells": [
  {
   "cell_type": "markdown",
   "metadata": {},
   "source": [
    "Filtro que a partir de un conjunto de valores repetidos, nos mostrará una lista con valores filtrados no repetidos. Eliminará los registros en base al dato del campo que le indiquemos. En este ejemplo eliminaremos los registros cuya dirección IP sea igual, ya que necesitamos un informe el usuario y las distintas direcciones IP desde las que se ha conectado."
   ]
  },
  {
   "cell_type": "code",
   "execution_count": 1,
   "metadata": {},
   "outputs": [],
   "source": [
    "%config IPCompleter.greedy=True"
   ]
  },
  {
   "cell_type": "code",
   "execution_count": 4,
   "metadata": {},
   "outputs": [
    {
     "name": "stdout",
     "output_type": "stream",
     "text": [
      "Overwriting valoresNoRepetidos.py\n"
     ]
    }
   ],
   "source": [
    "%%writefile valoresNoRepetidos.py\n",
    "#!/usr/bin/env python\n",
    "\n",
    "from mrjob.job import MRJob\n",
    "import re\n",
    "\n",
    "#Expresion regular para validar ip\n",
    "ip = ('^(?:(?:25[0-5]|2[0-4][0-9]|'\n",
    "          '[01]?[0-9][0-9]?)\\.){3}'\n",
    "          '(?:25[0-5]|2[0-4][0-9]|[01]?[0-9][0-9]?)$')\n",
    "IP_RE = re.compile(ip)\n",
    "\n",
    "class valoresNoRepetidos(MRJob):\n",
    "    \n",
    "    def mapper(self,_, line):\n",
    "        linea=line.split(\";\")\n",
    "        encontrado=re.search(IP_RE,linea[8])\n",
    "        if encontrado!=None:    \n",
    "            yield _,linea\n",
    "        \n",
    "    def reducer(self, key, values):\n",
    "        listaDef=[] #Lista para los registros únicos filtrados\n",
    "        listaControl=[] #Lista para el control de los registros que son repetidos\n",
    "        \n",
    "        # metemos los valores en las listas con lo que nos viene del mapper.\n",
    "        for valor in values:\n",
    "            #Si el valor de control (en este caso la IP) no está en la lista de control\n",
    "            #agregamos el valor de control en la lista de control, y el registro completo en la \n",
    "            #lista definitiva.\n",
    "            if valor[8] not in listaControl:\n",
    "                listaControl.append(valor[8])\n",
    "                listaDef.append(valor)\n",
    "                \n",
    "        #Podemos sacar por el reducer lo que estimemos        \n",
    "        for p in listaDef:\n",
    "            yield p[1], (p[1],p[8])\n",
    "            \n",
    "if __name__ == '__main__':\n",
    "    valoresNoRepetidos.run()"
   ]
  },
  {
   "cell_type": "code",
   "execution_count": 1,
   "metadata": {},
   "outputs": [
    {
     "name": "stderr",
     "output_type": "stream",
     "text": [
      "No configs found; falling back on auto-configuration\n",
      "No configs specified for inline runner\n",
      "Creating temp directory C:\\Users\\cyber\\AppData\\Local\\Temp\\valoresNoRepetidos.manuel.20201101.090938.102465\n",
      "Running step 1 of 1...\n",
      "job output is in C:\\Users\\cyber\\AppData\\Local\\Temp\\valoresNoRepetidos.manuel.20201101.090938.102465\\output\n",
      "Streaming final output from C:\\Users\\cyber\\AppData\\Local\\Temp\\valoresNoRepetidos.manuel.20201101.090938.102465\\output...\n",
      "Removing temp directory C:\\Users\\cyber\\AppData\\Local\\Temp\\valoresNoRepetidos.manuel.20201101.090938.102465...\n"
     ]
    }
   ],
   "source": [
    "!python valoresNoRepetidos.py archivos_datos/eventos_alumnos.csv"
   ]
  },
  {
   "cell_type": "code",
   "execution_count": 23,
   "metadata": {},
   "outputs": [
    {
     "name": "stdout",
     "output_type": "stream",
     "text": [
      "Overwriting valoresNoRepetidosV2.py\n"
     ]
    }
   ],
   "source": [
    "%%writefile valoresNoRepetidosV2.py\n",
    "#!/usr/bin/env python\n",
    "\n",
    "from mrjob.job import MRJob\n",
    "import re\n",
    "\n",
    "#Expresion regular para validar ip\n",
    "ip = ('^(?:(?:25[0-5]|2[0-4][0-9]|'\n",
    "          '[01]?[0-9][0-9]?)\\.){3}'\n",
    "          '(?:25[0-5]|2[0-4][0-9]|[01]?[0-9][0-9]?)$')\n",
    "IP_RE = re.compile(ip)\n",
    "\n",
    "class valoresNoRepetidosV2(MRJob):\n",
    "    \n",
    "    def mapper(self,_, line):\n",
    "        linea=line.split(\";\")\n",
    "        encontrado=re.search(IP_RE,linea[8])\n",
    "        if encontrado!=None:    \n",
    "            yield linea[1],linea[8]\n",
    "    \n",
    "    def combiner(self,key,values):\n",
    "        for valor in values:\n",
    "            yield key, valor\n",
    "    def reducer(self, key, values):\n",
    "        listaDef=[] #Lista para los registros únicos filtrados\n",
    "        listaControl=[] #Lista para el control de los registros que son repetidos\n",
    "        \n",
    "        # metemos los valores en las listas con lo que nos viene del mapper.\n",
    "        for valor in values:\n",
    "            #Si el valor de control (en este caso la IP) no está en la lista de control\n",
    "            #agregamos el valor de control en la lista de control, y el registro completo en la \n",
    "            #lista definitiva.\n",
    "            if valor not in listaControl:\n",
    "                listaControl.append(valor)\n",
    "                listaDef.append(valor)\n",
    "                \n",
    "        #Podemos sacar por el reducer lo que estimemos        \n",
    "        for p in listaDef:\n",
    "            yield key, p\n",
    "            \n",
    "if __name__ == '__main__':\n",
    "    valoresNoRepetidosV2.run()"
   ]
  },
  {
   "cell_type": "code",
   "execution_count": 24,
   "metadata": {},
   "outputs": [
    {
     "name": "stderr",
     "output_type": "stream",
     "text": [
      "No configs found; falling back on auto-configuration\n",
      "No configs specified for inline runner\n",
      "Creating temp directory C:\\Users\\cyber\\AppData\\Local\\Temp\\valoresNoRepetidosV2.manuel.20201101.120017.489329\n",
      "Running step 1 of 1...\n",
      "job output is in C:\\Users\\cyber\\AppData\\Local\\Temp\\valoresNoRepetidosV2.manuel.20201101.120017.489329\\output\n",
      "Streaming final output from C:\\Users\\cyber\\AppData\\Local\\Temp\\valoresNoRepetidosV2.manuel.20201101.120017.489329\\output...\n",
      "Removing temp directory C:\\Users\\cyber\\AppData\\Local\\Temp\\valoresNoRepetidosV2.manuel.20201101.120017.489329...\n"
     ]
    }
   ],
   "source": [
    "!python valoresNoRepetidosV2.py archivos_datos/eventos_alumnos.csv"
   ]
  },
  {
   "cell_type": "code",
   "execution_count": null,
   "metadata": {},
   "outputs": [],
   "source": []
  }
 ],
 "metadata": {
  "kernelspec": {
   "display_name": "Python 3",
   "language": "python",
   "name": "python3"
  },
  "language_info": {
   "codemirror_mode": {
    "name": "ipython",
    "version": 3
   },
   "file_extension": ".py",
   "mimetype": "text/x-python",
   "name": "python",
   "nbconvert_exporter": "python",
   "pygments_lexer": "ipython3",
   "version": "3.7.4"
  }
 },
 "nbformat": 4,
 "nbformat_minor": 4
}
