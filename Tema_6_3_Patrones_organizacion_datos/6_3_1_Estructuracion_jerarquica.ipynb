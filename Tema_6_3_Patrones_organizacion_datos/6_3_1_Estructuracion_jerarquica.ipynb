{
 "cells": [
  {
   "cell_type": "markdown",
   "metadata": {},
   "source": [
    "Capítulo 6\n",
    "\n",
    "6.3 Patrones de organización de datos.\n",
    "\n",
    "6.3.1 Estructuración jerárquica\n",
    "\n",
    "Prototipo - Este ejemplo de patrón de organización de datos consiste en que dada una estructura de datos en formato tabla, ésta es convertida a otro tipo de estructura en un formato jerarquizado XML."
   ]
  },
  {
   "cell_type": "code",
   "execution_count": 32,
   "metadata": {},
   "outputs": [
    {
     "name": "stdout",
     "output_type": "stream",
     "text": [
      "Overwriting jerarquico.py\n"
     ]
    }
   ],
   "source": [
    "%%writefile jerarquico.py\n",
    "#!/usr/bin/env python\n",
    "#Usamos el archivo foros.csv\n",
    "\n",
    "from mrjob.job import MRJob\n",
    "from mrjob.protocol import RawValueProtocol\n",
    "import xmlify\n",
    "\n",
    "class jerarquico(MRJob):\n",
    "    \n",
    "    OUTPUT_PROTOCOL = RawValueProtocol\n",
    "    \n",
    "    def mapper(self,_, line):\n",
    "        linea=line.split(\";\") \n",
    "        \n",
    "        mensaje=linea[4] # Recogemos el mensaje de la posición 4 de la línea\n",
    "        tipoMensaje=linea[5] #Recogemos de la posición 5, si es una pregunta o respuesta\n",
    "       \n",
    "        if tipoMensaje==\"question\": \n",
    "            idMensaje=linea[0] #Almacenamos el id único del mensaje\n",
    "            yield idMensaje,(tipoMensaje,mensaje)\n",
    "        else:\n",
    "            idMensaje=linea[7] #Almacenamos el identificador del mensaje idMensaje  \n",
    "            yield idMensaje,(tipoMensaje,mensaje)\n",
    "     \n",
    "    def reducer(self, key, values):\n",
    "        listaValores=[]\n",
    "        listaPrincipal=[]\n",
    "        listaAuxiliar=[] \n",
    "        \n",
    "        for v in values: #Metemos los valores que vienen en un matriz\n",
    "            listaValores.append(v) #Matriz que contiene el tipo de mensaje y el mensaje asociado \n",
    "        \n",
    "        for valor in listaValores:\n",
    "            if valor[0]==\"question\":#Si es una pregunta la metemos en la lista principal\n",
    "                listaPrincipal.append(valor[1])\n",
    "            else:\n",
    "                listaAuxiliar.append(valor[1]) # Si son respuestas, las vamos agregando a una lista\n",
    "        \n",
    "        listaPrincipal.append(listaAuxiliar) #agregamos la lista de respuestas a la lista principal\n",
    "        \n",
    "        #Conversion a XML indicando en el raiz el id del mensaje\n",
    "        yield \"Creada linea XML: \" ,xmlify.dumps(listaPrincipal,root = key) \n",
    "        \n",
    "if __name__ == '__main__':\n",
    "    jerarquico.run()"
   ]
  },
  {
   "cell_type": "code",
   "execution_count": 31,
   "metadata": {},
   "outputs": [
    {
     "name": "stderr",
     "output_type": "stream",
     "text": [
      "No configs found; falling back on auto-configuration\n",
      "No configs specified for inline runner\n",
      "Creating temp directory C:\\Users\\MRSANC~1\\AppData\\Local\\Temp\\jerarquico.mrsanchez.20201130.201929.316714\n",
      "Running step 1 of 1...\n",
      "job output is in C:\\Users\\MRSANC~1\\AppData\\Local\\Temp\\jerarquico.mrsanchez.20201130.201929.316714\\output\n",
      "Streaming final output from C:\\Users\\MRSANC~1\\AppData\\Local\\Temp\\jerarquico.mrsanchez.20201130.201929.316714\\output...\n",
      "Removing temp directory C:\\Users\\MRSANC~1\\AppData\\Local\\Temp\\jerarquico.mrsanchez.20201130.201929.316714...\n"
     ]
    }
   ],
   "source": [
    "!python jerarquico.py archivos_datos/foros.csv > jerarquico.xml"
   ]
  },
  {
   "cell_type": "markdown",
   "metadata": {},
   "source": [
    "Capítulo 6\n",
    "\n",
    "6.3 Patrones de organización de datos.\n",
    "\n",
    "6.3.1 Estructuración jerárquica\n",
    "\n",
    "Prototipo - Esta segunda versión vamos a usar la estructura diccionarios de Python"
   ]
  },
  {
   "cell_type": "code",
   "execution_count": 26,
   "metadata": {},
   "outputs": [
    {
     "name": "stdout",
     "output_type": "stream",
     "text": [
      "Overwriting jerarquicoV2.py\n"
     ]
    }
   ],
   "source": [
    "%%writefile jerarquicoV2.py\n",
    "#!/usr/bin/env python\n",
    "#Usamos el archivo foros.csv\n",
    "\n",
    "from mrjob.job import MRJob\n",
    "from mrjob.protocol import RawValueProtocol\n",
    "import xmlify\n",
    "\n",
    "class jerarquicoV2(MRJob):\n",
    "    OUTPUT_PROTOCOL = RawValueProtocol\n",
    "    def mapper(self,_, line):\n",
    "        linea=line.split(\";\") # Cada línea es un mensaje del foro (pregunta, respuesta o comentario)\n",
    "        \n",
    "        mensaje=linea[4] # Recogemos el mensaje de la posición 4 de la línea\n",
    "        tipoMensaje=linea[5] #Recogemos de la posición 5, si es una pregunta, respuesta o comentario\n",
    "        \n",
    "        if tipoMensaje==\"question\": \n",
    "            idMensaje=linea[0] #Almacenamos el id único del mensaje\n",
    "            yield idMensaje,(tipoMensaje,mensaje)\n",
    "        else:\n",
    "            idPadre=linea[7] #Almacenamos el identificador del mensaje idMensaje  \n",
    "            yield idPadre,(tipoMensaje,mensaje)\n",
    "     \n",
    "    def reducer(self, key, values):\n",
    "        diccionario=dict() #Para el caso que usemos diccionarios\n",
    "        matrizParaXML=[]\n",
    "        listaPrincipal=[]\n",
    "        listaAuxiliar=[]\n",
    "        \n",
    "        for v in values: #Metemos los valores que vienen en un matriz\n",
    "            matrizParaXML.append(v) #Matriz que contiene el tipo de mensaje y el mensaje asociado \n",
    "        \n",
    "        for valor in matrizParaXML:\n",
    "            if valor[0]==\"question\":#Si es una pregunta la metemos en la lista principal\n",
    "                listaPrincipal.append(valor[1])\n",
    "            else:\n",
    "                listaAuxiliar.append(valor[1]) # Si son respuestas, las vamos agregando a una lista\n",
    "        \n",
    "        listaPrincipal.append(listaAuxiliar) #agregamos la lista de respuestas a la lista principal \n",
    "        diccionario[key]=listaPrincipal #Para el caso que usemos diccionarios\n",
    "        yield key,xmlify.dumps(diccionario) # Conversion a XML para el caso que usemos diccionarios\n",
    "        \n",
    "if __name__ == '__main__':\n",
    "    jerarquicoV2.run()"
   ]
  },
  {
   "cell_type": "code",
   "execution_count": 27,
   "metadata": {},
   "outputs": [
    {
     "name": "stderr",
     "output_type": "stream",
     "text": [
      "No configs found; falling back on auto-configuration\n",
      "No configs specified for inline runner\n",
      "Creating temp directory C:\\Users\\MRSANC~1\\AppData\\Local\\Temp\\jerarquicoV2.mrsanchez.20201130.201330.069489\n",
      "Running step 1 of 1...\n",
      "job output is in C:\\Users\\MRSANC~1\\AppData\\Local\\Temp\\jerarquicoV2.mrsanchez.20201130.201330.069489\\output\n",
      "Streaming final output from C:\\Users\\MRSANC~1\\AppData\\Local\\Temp\\jerarquicoV2.mrsanchez.20201130.201330.069489\\output...\n",
      "Removing temp directory C:\\Users\\MRSANC~1\\AppData\\Local\\Temp\\jerarquicoV2.mrsanchez.20201130.201330.069489...\n"
     ]
    }
   ],
   "source": [
    "!python jerarquicoV2.py archivos_datos/foros.csv > jerarquicoV2.xml"
   ]
  }
 ],
 "metadata": {
  "kernelspec": {
   "display_name": "Python 3",
   "language": "python",
   "name": "python3"
  },
  "language_info": {
   "codemirror_mode": {
    "name": "ipython",
    "version": 3
   },
   "file_extension": ".py",
   "mimetype": "text/x-python",
   "name": "python",
   "nbconvert_exporter": "python",
   "pygments_lexer": "ipython3",
   "version": "3.8.5"
  }
 },
 "nbformat": 4,
 "nbformat_minor": 4
}
