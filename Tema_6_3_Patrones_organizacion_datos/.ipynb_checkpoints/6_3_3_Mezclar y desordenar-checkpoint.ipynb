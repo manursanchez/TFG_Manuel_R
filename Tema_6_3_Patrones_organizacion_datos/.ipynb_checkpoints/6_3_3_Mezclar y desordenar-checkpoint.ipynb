{
 "cells": [
  {
   "cell_type": "markdown",
   "metadata": {},
   "source": [
    "Capítulo 6\n",
    "\n",
    "6.3 Patrones de organización de datos.\n",
    "\n",
    "6.3.3 Mezclar y desordenar\n",
    "\n",
    "Prototipo 1\n"
   ]
  },
  {
   "cell_type": "code",
   "execution_count": 10,
   "metadata": {},
   "outputs": [
    {
     "name": "stdout",
     "output_type": "stream",
     "text": [
      "Overwriting mezclar.py\n"
     ]
    }
   ],
   "source": [
    "%%writefile mezclar.py\n",
    "#!/usr/bin/env python\n",
    "\n",
    "from mrjob.job import MRJob\n",
    "import random\n",
    "import re\n",
    "\n",
    "class mezclar(MRJob):\n",
    "    def mapper(self,_, line):\n",
    "        linea=line.split(\";\") \n",
    "        encontrado=re.search('[a-zA-Z]',linea[3])\n",
    "        if encontrado==None:\n",
    "            yield _,linea\n",
    "  \n",
    "    def reducer(self, _, values):\n",
    "        listaRegistros=[]\n",
    "        for registro in values:\n",
    "            listaRegistros.append(registro)\n",
    "        random.shuffle(listaRegistros,random.random)\n",
    "        for record in listaRegistros:\n",
    "            yield _,record\n",
    "\n",
    "if __name__ == '__main__':\n",
    "    mezclar.run()\n"
   ]
  },
  {
   "cell_type": "code",
   "execution_count": null,
   "metadata": {},
   "outputs": [],
   "source": [
    "!python mezclar.py archivos_datos/ventas_ESP.csv"
   ]
  },
  {
   "cell_type": "markdown",
   "metadata": {},
   "source": [
    "Capítulo 6\n",
    "\n",
    "6.3 Patrones de organización de datos.\n",
    "\n",
    "6.3.3 Mezclar y desordenar\n",
    "\n",
    "Prototipo 2\n"
   ]
  },
  {
   "cell_type": "code",
   "execution_count": 12,
   "metadata": {},
   "outputs": [
    {
     "name": "stdout",
     "output_type": "stream",
     "text": [
      "Overwriting anonimizar_y_mezclar.py\n"
     ]
    }
   ],
   "source": [
    "%%writefile anonimizar_y_mezclar.py\n",
    "#!/usr/bin/env python\n",
    "\n",
    "from mrjob.job import MRJob\n",
    "from datetime import datetime\n",
    "import random\n",
    "import re\n",
    "\n",
    "class anonimizar_y_mezclar(MRJob):\n",
    "    \n",
    "    def mapper_init(self):\n",
    "        self.registros = []\n",
    "\n",
    "    def mapper(self,_, line):\n",
    "        linea=line.split(\";\") \n",
    "        encontrado=re.search('[a-zA-Z]',linea[3])\n",
    "        if encontrado==None:\n",
    "        \n",
    "            fecha = datetime.strptime(linea[4], '%d/%m/%Y %H:%M') # Truncamos la fecha\n",
    "            del(linea[6]) # Eliminamos el código del cliente\n",
    "            linea[4]=fecha.year # Asignamos el año al campo fecha\n",
    "    \n",
    "            self.registros.append(linea)\n",
    "  \n",
    "    def mapper_final(self):\n",
    "        for registro in self.registros:\n",
    "            yield None, registro\n",
    "\n",
    "    def reducer(self, _, values):\n",
    "        listaRegistros=[]\n",
    "        for registro in values:\n",
    "            listaRegistros.append(registro)\n",
    "            \n",
    "        random.shuffle(listaRegistros,random.random) #Los barajo o mezclo\n",
    "        \n",
    "        for record in listaRegistros:\n",
    "            yield _,record\n",
    "\n",
    "if __name__ == '__main__':\n",
    "    anonimizar_y_mezclar.run()"
   ]
  },
  {
   "cell_type": "code",
   "execution_count": 13,
   "metadata": {},
   "outputs": [
    {
     "name": "stderr",
     "output_type": "stream",
     "text": [
      "No configs found; falling back on auto-configuration\n",
      "No configs specified for inline runner\n",
      "Creating temp directory C:\\Users\\MRSANC~1\\AppData\\Local\\Temp\\anonimizar_y_mezclar.mrsanchez.20201130.183329.271307\n",
      "Running step 1 of 1...\n",
      "job output is in C:\\Users\\MRSANC~1\\AppData\\Local\\Temp\\anonimizar_y_mezclar.mrsanchez.20201130.183329.271307\\output\n",
      "Streaming final output from C:\\Users\\MRSANC~1\\AppData\\Local\\Temp\\anonimizar_y_mezclar.mrsanchez.20201130.183329.271307\\output...\n",
      "Removing temp directory C:\\Users\\MRSANC~1\\AppData\\Local\\Temp\\anonimizar_y_mezclar.mrsanchez.20201130.183329.271307...\n"
     ]
    }
   ],
   "source": [
    "!python anonimizar_y_mezclar.py archivos_datos/ventas_ESP.csv"
   ]
  }
 ],
 "metadata": {
  "kernelspec": {
   "display_name": "Python 3",
   "language": "python",
   "name": "python3"
  },
  "language_info": {
   "codemirror_mode": {
    "name": "ipython",
    "version": 3
   },
   "file_extension": ".py",
   "mimetype": "text/x-python",
   "name": "python",
   "nbconvert_exporter": "python",
   "pygments_lexer": "ipython3",
   "version": "3.8.5"
  }
 },
 "nbformat": 4,
 "nbformat_minor": 4
}
