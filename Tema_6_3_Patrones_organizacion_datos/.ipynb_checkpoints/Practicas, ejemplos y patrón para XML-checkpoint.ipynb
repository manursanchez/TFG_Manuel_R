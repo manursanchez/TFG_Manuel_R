{
 "cells": [
  {
   "cell_type": "code",
   "execution_count": null,
   "metadata": {},
   "outputs": [],
   "source": [
    "%%writefile ejemploxml.py\n",
    "from dict2xml import dict2xml as xmlify\n",
    "data = [\n",
    "    {\"a\": 1},\n",
    "    {\"a\": 2},\n",
    "    {\"a\": 3},\n",
    "    {\"a\": [\n",
    "        {\"b\": 1},\n",
    "        {\"b\": 2},\n",
    "        {\"b\": 3},\n",
    "    ]}\n",
    "]\n",
    "\n",
    "print (xmlify(data, wrap=\"all\", indent=\"  \"))"
   ]
  },
  {
   "cell_type": "code",
   "execution_count": null,
   "metadata": {},
   "outputs": [],
   "source": [
    "!python ejemploxml.py"
   ]
  },
  {
   "cell_type": "code",
   "execution_count": null,
   "metadata": {},
   "outputs": [],
   "source": [
    "%%writefile jerarquicoV3.py\n",
    "#!/usr/bin/env python\n",
    "#Usamos el archivo foros.csv\n",
    "\n",
    "from mrjob.job import MRJob\n",
    "from mrjob.step import MRStep\n",
    "from mrjob.protocol import JSONValueProtocol\n",
    "from mrjob.protocol import RawValueProtocol\n",
    "import lxml\n",
    "import xmlify\n",
    "import json\n",
    "\n",
    "\n",
    "class jerarquicoV3(MRJob):\n",
    "    \n",
    "    OUTPUT_PROTOCOL = JSONValueProtocol\n",
    "    \n",
    "    def mapper(self,_, line):\n",
    "        linea=line.split(\";\") # Cada línea es un mensaje del foro (pregunta, respuesta o comentario)\n",
    "        \n",
    "        mensaje=linea[4] # Recogemos el mensaje de la posición 4 de la línea\n",
    "        tipoMensaje=linea[5] #Recogemos de la posición 5, si es una pregunta, respuesta o comentario\n",
    "        #Para poder agrupar todos los mensajes de una pregunta, usamos el valor[0] que indica el identificador\n",
    "        #único y el valor[7] que almacena el identificador de la pregunta (valor[0]) a la que está asociada\n",
    "        #esto es fundamental por que hará que en el reducer agrupe todos los elementos relacionados con una pregunta\n",
    "        \n",
    "        if tipoMensaje==\"question\": \n",
    "            idMensaje=linea[0] #Almacenamos el id único del mensaje\n",
    "            yield idMensaje,(tipoMensaje,mensaje)\n",
    "        else:\n",
    "            idPadre=linea[7] #Almacenamos el identificador del mensaje idMensaje  \n",
    "            yield idPadre,(tipoMensaje,mensaje)\n",
    "     \n",
    "    def reducer(self, key, values):\n",
    "        #diccionario=dict() #Para el caso que usemos diccionarios\n",
    "        matrizParaXML=[]\n",
    "        listaPrincipal=[]\n",
    "        listaAuxiliar=[] \n",
    "        \n",
    "        for v in values: #Metemos los valores que vienen en un matriz\n",
    "            matrizParaXML.append(v) #Matriz que contiene el tipo de mensaje y el mensaje asociado \n",
    "        \n",
    "        for valor in matrizParaXML:\n",
    "            if valor[0]==\"question\":#Si es una pregunta la metemos en la lista principal\n",
    "                listaPrincipal.append(valor[1])\n",
    "            else:\n",
    "                listaAuxiliar.append(valor[1]) # Si son respuestas, las vamos agregando a una lista\n",
    "        \n",
    "        listaPrincipal.append(listaAuxiliar) #agregamos la lista de respuestas a la lista principal\n",
    "        #La idea es que quede la siguiente estructura\n",
    "        # key\t[\"pregunta\", [\"respuesta\", \"respuesta\"]]\n",
    "        #Esta estructura se la pasamos a la funcion dumps y la convierte automáticamente a XML o JSON\n",
    "        \n",
    "        #diccionario[key]=listaPrincipal #Para el caso que usemos diccionarios\n",
    "        \n",
    "        yield key,xmlify.dumps(listaPrincipal,root = key) #Conversion a XML indicando en el raiz el id del mensaje\n",
    "        #yield key,xmlify.dumps(diccionario) # Conversion a XML para el caso que usemos diccionarios\n",
    "        #yield key,json.dumps(listaPrincipal) #Conversion a JSON\n",
    "        #yield key, lxml.builder(listaPrincipal)\n",
    "        #Habría que unificar todos los mensajes, ya que salen solo uno por salida del Reducer.\n",
    "            \n",
    "if __name__ == '__main__':\n",
    "    jerarquicoV3.run()"
   ]
  }
 ],
 "metadata": {
  "kernelspec": {
   "display_name": "Python 3",
   "language": "python",
   "name": "python3"
  },
  "language_info": {
   "codemirror_mode": {
    "name": "ipython",
    "version": 3
   },
   "file_extension": ".py",
   "mimetype": "text/x-python",
   "name": "python",
   "nbconvert_exporter": "python",
   "pygments_lexer": "ipython3",
   "version": "3.7.4"
  }
 },
 "nbformat": 4,
 "nbformat_minor": 2
}
