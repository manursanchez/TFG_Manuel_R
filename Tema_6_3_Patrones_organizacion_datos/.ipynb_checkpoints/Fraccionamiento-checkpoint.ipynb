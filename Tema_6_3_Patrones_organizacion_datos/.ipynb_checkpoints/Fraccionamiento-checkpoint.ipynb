{
 "cells": [
  {
   "cell_type": "markdown",
   "metadata": {},
   "source": [
    "Ejemplo de patrón de datos organizados, en el que se fracciona el archivo que entra en multiples salidas. \n",
    "¡Consultado el manual MRJob, no hay más información e indica que esto no hace falta!\n",
    "Antes de investigar tuve conversación con Agustín, y me dijo que ya se balancea en los reducers autamticamente, no es necesario particionar. Esto me lo ha confirmado el manual MRJob. Busca la palabra \"partitioner\" y lo verás."
   ]
  },
  {
   "cell_type": "code",
   "execution_count": 2,
   "metadata": {},
   "outputs": [
    {
     "name": "stdout",
     "output_type": "stream",
     "text": [
      "Overwriting fraccionamiento.py\n"
     ]
    }
   ],
   "source": [
    "%%writefile fraccionamiento.py\n",
    "#!/usr/bin/env python\n",
    "\n",
    "from mrjob.job import MRJob\n",
    "from datetime import datetime\n",
    "import re\n",
    "\n",
    "class fraccionamiento(MRJob):\n",
    "    def mapper(self,_, line):\n",
    "        linea=line.split(\";\") \n",
    "        encontrado=re.search('[_a-zA-Z]',linea[13])#En este caso el valor lo tengo en la posción 13 de la línea\n",
    "        #Preguntamos si ha encontrado la expresion regular. Si no la ha encontrado, procesamos dato\n",
    "        if encontrado==None:\n",
    "            #fecha=linea[13]\n",
    "            fecha = datetime.strptime(linea[13], '%d/%m/%Y %H:%M')\n",
    "            yield fecha.year,linea\n",
    "  \n",
    "    def reducer(self, key, values):\n",
    "        for valor in values:\n",
    "            yield key,valor\n",
    "\n",
    "if __name__ == '__main__':\n",
    "    fraccionamiento.run()\n"
   ]
  },
  {
   "cell_type": "code",
   "execution_count": 1,
   "metadata": {},
   "outputs": [
    {
     "name": "stderr",
     "output_type": "stream",
     "text": [
      "No configs found; falling back on auto-configuration\n",
      "No configs specified for inline runner\n",
      "Creating temp directory C:\\Users\\cyber\\AppData\\Local\\Temp\\fraccionamiento.manuel.20200720.180456.704724\n",
      "Running step 1 of 1...\n",
      "job output is in C:\\Users\\cyber\\AppData\\Local\\Temp\\fraccionamiento.manuel.20200720.180456.704724\\output\n",
      "Streaming final output from C:\\Users\\cyber\\AppData\\Local\\Temp\\fraccionamiento.manuel.20200720.180456.704724\\output...\n",
      "Removing temp directory C:\\Users\\cyber\\AppData\\Local\\Temp\\fraccionamiento.manuel.20200720.180456.704724...\n"
     ]
    }
   ],
   "source": [
    "!python fraccionamiento.py foros.csv > resultado"
   ]
  },
  {
   "cell_type": "code",
   "execution_count": 29,
   "metadata": {},
   "outputs": [
    {
     "name": "stdout",
     "output_type": "stream",
     "text": [
      "Overwriting fechahora.py\n"
     ]
    }
   ],
   "source": [
    "%%writefile fechahora.py\n",
    "#Es necesario importar las depencendias necesarias\n",
    "from datetime import date\n",
    "from datetime import datetime\n",
    "\n",
    "#Día actual\n",
    "today = date.today()\n",
    "\n",
    "#Fecha actual\n",
    "now = datetime.now()\n",
    "\n",
    "print(today)\n",
    "print(now)\n",
    "\n",
    "#Date\n",
    "print(\"El día actual es {}\".format(today.day))\n",
    "print(\"El mes actual es {}\".format(today.month))\n",
    "print(\"El año actual es {}\".format(today.year))\n",
    "\n",
    "\n",
    "#Datetime\n",
    "print(\"El día actual es {}\".format(now.day))\n",
    "print(\"El mes actual es {}\".format(now.month))\n",
    "print(\"El año actual es {}\".format(now.year))\n",
    "\n",
    "print(\"La hora actual es {}\".format(now.hour))\n",
    "print(\"El minuto actual es {}\".format(now.minute))\n",
    "print(\"El segundo actual es {}\".format(now.second))"
   ]
  },
  {
   "cell_type": "code",
   "execution_count": 2,
   "metadata": {},
   "outputs": [
    {
     "name": "stdout",
     "output_type": "stream",
     "text": [
      "2020-04-16\n",
      "2020-04-16 19:32:35.933777\n",
      "El día actual es 16\n",
      "El mes actual es 4\n",
      "El año actual es 2020\n",
      "El día actual es 16\n",
      "El mes actual es 4\n",
      "El año actual es 2020\n",
      "La hora actual es 19\n",
      "El minuto actual es 32\n",
      "El segundo actual es 35\n"
     ]
    }
   ],
   "source": [
    "!python fechahora.py"
   ]
  }
 ],
 "metadata": {
  "kernelspec": {
   "display_name": "Python 3",
   "language": "python",
   "name": "python3"
  },
  "language_info": {
   "codemirror_mode": {
    "name": "ipython",
    "version": 3
   },
   "file_extension": ".py",
   "mimetype": "text/x-python",
   "name": "python",
   "nbconvert_exporter": "python",
   "pygments_lexer": "ipython3",
   "version": "3.7.4"
  }
 },
 "nbformat": 4,
 "nbformat_minor": 2
}
