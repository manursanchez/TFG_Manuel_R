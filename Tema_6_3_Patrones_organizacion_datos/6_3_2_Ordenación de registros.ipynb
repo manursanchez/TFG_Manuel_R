{
 "cells": [
  {
   "cell_type": "markdown",
   "metadata": {},
   "source": [
    "Capítulo 6\n",
    "\n",
    "6.3 Patrones de organización de datos.\n",
    "\n",
    "6.3.2 Ordenación de registros\n",
    "\n",
    "Prototipo 1 - Ordenación total Versión 1 - La ordenación se produce toda en el Reducer"
   ]
  },
  {
   "cell_type": "code",
   "execution_count": null,
   "metadata": {},
   "outputs": [],
   "source": [
    "%%writefile ordenTotal.py\n",
    "#!/usr/bin/env python\n",
    "\n",
    "from mrjob.job import MRJob\n",
    "import re\n",
    "class ordenTotal(MRJob):\n",
    "    \n",
    "    #Inicializamos la estructura que nos permitirá contener los valores que nos llegan del Map\n",
    "    def mapper_init(self):\n",
    "        self.conjuntoRegistros = []\n",
    "    \n",
    "    def mapper(self,_, line):\n",
    "        linea=line.rstrip('/n').split(';') \n",
    "    \n",
    "        encontrado=re.search('[a-zA-Z]',linea[1])\n",
    "                                                \n",
    "        if encontrado==None:\n",
    "            #Se agrega el registro completo a la lista\n",
    "            self.conjuntoRegistros.append(linea) \n",
    "        \n",
    "    def mapper_final(self):\n",
    "        # mando el conjunto de registros al Reducer para reunirlos todos.\n",
    "        yield None, self.conjuntoRegistros\n",
    "        \n",
    "        \n",
    " #===============================REDUCER=======================================     \n",
    "        \n",
    "    def reducer(self, _, values):\n",
    "        listaCompletaRegistros=[]\n",
    "        \n",
    "        for valores in values:\n",
    "            listaCompletaRegistros.extend(valores)\n",
    "        #Expresión Lambda para indicar\n",
    "        # por qué campo tiene que ordenar la lista.\n",
    "        listaCompletaRegistros.sort(key = lambda precio: float(precio[5])) \n",
    "        \n",
    "        for registro in listaCompletaRegistros: \n",
    "            yield _, registro\n",
    "        \n",
    "if __name__ == '__main__':\n",
    "    ordenTotal.run()"
   ]
  },
  {
   "cell_type": "code",
   "execution_count": null,
   "metadata": {
    "scrolled": true
   },
   "outputs": [],
   "source": [
    "!python ordenTotal.py archivos_datos/Online_Retail.csv"
   ]
  },
  {
   "cell_type": "markdown",
   "metadata": {},
   "source": [
    "Capítulo 6\n",
    "\n",
    "6.3 Patrones de organización de datos.\n",
    "\n",
    "6.3.2 Ordenación de registros\n",
    "\n",
    "Prototipo 1 - Ordenación total Versión 2 - Igual que el anterior pero la ordenación se produce en cada uno de los Mapper, y después se hace en el Reducer"
   ]
  },
  {
   "cell_type": "code",
   "execution_count": null,
   "metadata": {},
   "outputs": [],
   "source": [
    "%%writefile ordenTotalV2.py\n",
    "#!/usr/bin/env python\n",
    "\n",
    "from mrjob.job import MRJob\n",
    "import sys, os, re\n",
    "\n",
    "class ordenTotalV2(MRJob):\n",
    "    \n",
    "    #Inicializamos la estructura que nos permitirá contener los valores que nos llegan del Map\n",
    "    def mapper_init(self):\n",
    "        self.conjuntoRegistros = []\n",
    "    \n",
    "    def mapper(self,_, line):\n",
    "        linea=line.rstrip('/n').split(';') \n",
    "        encontrado=re.search('[a-zA-Z]',linea[1])#Para que no me coja la línea de los nombres de campo. Cojo el primero mismo\n",
    "                                                # si es una cadena de caracteres, no se agrega a la lista.\n",
    "        #Preguntamos si ha encontrado la expresion regular (cadena de caracteres). Si no la ha encontrado, entonces\n",
    "        #agregamos el registro al conjunto de registros que está generando el map.\n",
    "        if encontrado==None:\n",
    "            self.conjuntoRegistros.append(linea) #Aquí agrega el registro completo\n",
    "        \n",
    "    def mapper_final(self):\n",
    "        # Si no desactivamos el reducer, se puede ver como salen los conjuntos de cada mapper distribuido en su ejecución\n",
    "        # paralela en el cluster.\n",
    "        # mando el conjunto de registros al Reducer para unificarlos en uno solo allí.\n",
    "        \n",
    "        #yield \"REGISTROS PARA ORDENAR\", self.conjuntoRegistros\n",
    "        \n",
    "        #Otra versión\n",
    "        self.conjuntoRegistros.sort(key = lambda x: float(x[5]))\n",
    "        for registro in self.conjuntoRegistros:\n",
    "            yield None, registro\n",
    "        \n",
    " #===============================REDUCER=======================================     \n",
    "        \n",
    "    def reducer(self, key, values):\n",
    "        listaCompletaRegistros=[]\n",
    "        listaCompletaRegistros.extend(values)\n",
    "       \n",
    "        listaCompletaRegistros.sort(key = lambda x: float(x[5])) #Usamos la expresión Lambda \n",
    "        \n",
    "        for registro in listaCompletaRegistros:\n",
    "            yield None, registro\n",
    "        \n",
    "if __name__ == '__main__':\n",
    "    ordenTotalV2.run()"
   ]
  },
  {
   "cell_type": "code",
   "execution_count": null,
   "metadata": {},
   "outputs": [],
   "source": [
    "!python ordenTotalV2.py archivos_datos/Online_Retail.csv"
   ]
  },
  {
   "cell_type": "markdown",
   "metadata": {},
   "source": [
    "Capítulo 6\n",
    "\n",
    "6.3 Patrones de organización de datos.\n",
    "\n",
    "6.3.2 Ordenación de registros\n",
    "\n",
    "Prototipo 2 - Ordenación agrupada con clave.Se ordenan los registros usando una clave, en este caso será el número de cliente. "
   ]
  },
  {
   "cell_type": "code",
   "execution_count": null,
   "metadata": {},
   "outputs": [],
   "source": [
    "%%writefile ordenTotalV3.py\n",
    "#!/usr/bin/env python\n",
    "\n",
    "from mrjob.job import MRJob\n",
    "import re\n",
    "\n",
    "class ordenTotalV3(MRJob):\n",
    "    \n",
    "    #Inicializamos la estructura que nos permitirá contener los valores que nos llegan del Map\n",
    "    def mapper_init(self):\n",
    "        self.conjuntoRegistros = []\n",
    "    \n",
    "    def mapper(self,_, line):\n",
    "        self.linea=line.rstrip('/n').split(';') \n",
    "        \n",
    "        #Para que no coja la línea de los nombres de campo.\n",
    "        # si es una cadena de caracteres, no se agrega a la lista.\n",
    "        encontrado=re.search('[a-zA-Z]',self.linea[1])\n",
    "                                                \n",
    "        if encontrado==None:\n",
    "            #Se agrega el registro completo a la lista\n",
    "            self.conjuntoRegistros.append(self.linea) \n",
    "        \n",
    "    def mapper_final(self):\n",
    "        # mando el conjunto de registros al Reducer para reunirlos todos.\n",
    "        yield self.linea[6], self.conjuntoRegistros\n",
    "        \n",
    "        \n",
    " #===============================REDUCER=======================================     \n",
    "        \n",
    "    def reducer(self, cliente, values):\n",
    "        listaCompletaRegistros=[]\n",
    "        \n",
    "        for valores in values:\n",
    "            listaCompletaRegistros.extend(valores)\n",
    "        \n",
    "        # ordenamos la lista \n",
    "        listaCompletaRegistros.sort(key = lambda x: float(x[5])) \n",
    "        \n",
    "        for registro in listaCompletaRegistros:\n",
    "            yield cliente, registro\n",
    "        \n",
    "if __name__ == '__main__':\n",
    "    ordenTotalV3.run()"
   ]
  },
  {
   "cell_type": "code",
   "execution_count": null,
   "metadata": {},
   "outputs": [],
   "source": [
    "!python ordenTotalV3.py archivos_datos/Online_Retail.csv"
   ]
  },
  {
   "cell_type": "code",
   "execution_count": null,
   "metadata": {},
   "outputs": [],
   "source": []
  }
 ],
 "metadata": {
  "kernelspec": {
   "display_name": "Python 3",
   "language": "python",
   "name": "python3"
  },
  "language_info": {
   "codemirror_mode": {
    "name": "ipython",
    "version": 3
   },
   "file_extension": ".py",
   "mimetype": "text/x-python",
   "name": "python",
   "nbconvert_exporter": "python",
   "pygments_lexer": "ipython3",
   "version": "3.7.4"
  }
 },
 "nbformat": 4,
 "nbformat_minor": 4
}
