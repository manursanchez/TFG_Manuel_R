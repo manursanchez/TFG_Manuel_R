{
 "cells": [
  {
   "cell_type": "markdown",
   "metadata": {},
   "source": [
    "Para poder ejecutar en el cluster los patrones desarrollados con sus correspondientes archivos, necesitamos subir estos al HDFS. A continuación se dan una serie de instrucciones para realizar esta tarea, y dejar todos los archivos que usaremos en un directorio creado en HDFS llamado también \"archivos_datos\". Una vez hayamos hecho estos pasos, el sistema lo tendremos preparado para ejecutar los prototipos en el cluster. "
   ]
  },
  {
   "cell_type": "markdown",
   "metadata": {},
   "source": [
    "1 - Creamos el directorio archivos_datos en HDFS"
   ]
  },
  {
   "cell_type": "code",
   "execution_count": 3,
   "metadata": {},
   "outputs": [],
   "source": [
    "!hdfs dfs -mkdir /archivos_datos"
   ]
  },
  {
   "cell_type": "markdown",
   "metadata": {},
   "source": [
    "2 - Comprobamos que se ha creado"
   ]
  },
  {
   "cell_type": "code",
   "execution_count": 4,
   "metadata": {},
   "outputs": [
    {
     "name": "stdout",
     "output_type": "stream",
     "text": [
      "Found 4 items\r\n",
      "drwxr-xr-x   - root supergroup          0 2020-12-15 18:55 /archivos_datos\r\n",
      "drwxrwx---   - root supergroup          0 2020-11-23 11:43 /tmp\r\n",
      "drwxr-xr-x   - root supergroup          0 2019-11-29 20:12 /user\r\n",
      "drwxrwxrwt   - root root                0 2019-11-29 20:12 /yarn\r\n"
     ]
    }
   ],
   "source": [
    "!hdfs dfs -ls /"
   ]
  },
  {
   "cell_type": "markdown",
   "metadata": {},
   "source": [
    "3 - Dentro de cada tipo de patrón, hay una carpeta que se llama también archivos_datos. Vamos a subir los archivos que hay dentro de cada carpeta que hay en cada tipo de patrón al HDFS."
   ]
  },
  {
   "cell_type": "markdown",
   "metadata": {},
   "source": [
    "Vamos a listar los directorios que tenemos en el entorno local"
   ]
  },
  {
   "cell_type": "code",
   "execution_count": 9,
   "metadata": {},
   "outputs": [
    {
     "name": "stdout",
     "output_type": "stream",
     "text": [
      "total 32\r\n",
      "-rw-r--r-- 1 root root 3215 Dec 15 19:06 Instrucciones para cargar en HDFS los archivos de datos.ipynb\r\n",
      "-rw-r--r-- 1 root root 1550 Dec 14 17:17 README.md\r\n",
      "drwxr-xr-x 4 root root 4096 Dec 14 17:17 Tema_3_ Ejemplos_Memoria\r\n",
      "drwxr-xr-x 4 root root 4096 Dec 14 17:17 Tema_4_Ejemplo_ejecucion\r\n",
      "drwxr-xr-x 4 root root 4096 Dec 14 18:55 Tema_6_1_Patrones_de_resumen\r\n",
      "drwxr-xr-x 4 root root 4096 Dec 14 19:22 Tema_6_2_Patrones_de_filtrado\r\n",
      "drwxr-xr-x 4 1000 1000 4096 Dec 14 20:58 Tema_6_3_Patrones_organizacion_datos\r\n",
      "drwxr-xr-x 5 root root 4096 Dec 14 23:23 Tema_6_4_Patrones_de_union\r\n"
     ]
    }
   ],
   "source": [
    "!ls -l"
   ]
  },
  {
   "cell_type": "markdown",
   "metadata": {},
   "source": [
    "4 - Ahora subimos al HDFS los archivos de los patrones de resumen"
   ]
  },
  {
   "cell_type": "code",
   "execution_count": 7,
   "metadata": {},
   "outputs": [],
   "source": [
    "!hdfs dfs -put Tema_6_1_Patrones_de_resumen/archivos_datos/* /archivos_datos"
   ]
  },
  {
   "cell_type": "markdown",
   "metadata": {},
   "source": [
    "Comprobamos que se han subido correctamente"
   ]
  },
  {
   "cell_type": "code",
   "execution_count": 8,
   "metadata": {},
   "outputs": [
    {
     "name": "stdout",
     "output_type": "stream",
     "text": [
      "Found 2 items\r\n",
      "-rw-r--r--   3 root supergroup   45538046 2020-12-15 19:02 /archivos_datos/Online_Retail.csv\r\n",
      "-rw-r--r--   3 root supergroup        158 2020-12-15 19:02 /archivos_datos/docejemplo.txt\r\n"
     ]
    }
   ],
   "source": [
    "!hdfs dfs -ls /archivos_datos"
   ]
  },
  {
   "cell_type": "markdown",
   "metadata": {},
   "source": [
    "5 - Subimos al HDFS los archivos de los patrones de filtrado "
   ]
  },
  {
   "cell_type": "code",
   "execution_count": 12,
   "metadata": {},
   "outputs": [],
   "source": [
    "!hdfs dfs -put Tema_6_2_Patrones_de_filtrado/archivos_datos/* /archivos_datos"
   ]
  },
  {
   "cell_type": "markdown",
   "metadata": {},
   "source": [
    "Comprobamos que se han subido correctamente"
   ]
  },
  {
   "cell_type": "code",
   "execution_count": 13,
   "metadata": {},
   "outputs": [
    {
     "name": "stdout",
     "output_type": "stream",
     "text": [
      "Found 7 items\r\n",
      "-rw-r--r--   3 root supergroup    6871654 2020-12-15 19:09 /archivos_datos/Foros.csv\r\n",
      "-rw-r--r--   3 root supergroup     172693 2020-12-15 19:09 /archivos_datos/Foros_sucios.csv\r\n",
      "-rw-r--r--   3 root supergroup   45538046 2020-12-15 19:02 /archivos_datos/Online_Retail.csv\r\n",
      "-rw-r--r--   3 root supergroup        158 2020-12-15 19:02 /archivos_datos/docejemplo.txt\r\n",
      "-rw-r--r--   3 root supergroup    2462075 2020-12-15 19:09 /archivos_datos/eventos_alumnos.csv\r\n",
      "-rw-r--r--   3 root supergroup     194550 2020-12-15 19:09 /archivos_datos/ventas_ESP.csv\r\n",
      "-rw-r--r--   3 root supergroup   41912234 2020-12-15 19:09 /archivos_datos/ventas_UK.csv\r\n"
     ]
    }
   ],
   "source": [
    "!hdfs dfs -ls /archivos_datos"
   ]
  },
  {
   "cell_type": "markdown",
   "metadata": {},
   "source": [
    "6 - Subimos al HDFS los archivos de los patrones de organización de datos"
   ]
  },
  {
   "cell_type": "code",
   "execution_count": 14,
   "metadata": {},
   "outputs": [
    {
     "name": "stdout",
     "output_type": "stream",
     "text": [
      "put: `/archivos_datos/ventas_ESP.csv': File exists\r\n"
     ]
    }
   ],
   "source": [
    "!hdfs dfs -put Tema_6_3_Patrones_organizacion_datos/archivos_datos/* /archivos_datos"
   ]
  },
  {
   "cell_type": "markdown",
   "metadata": {},
   "source": [
    "Nos avisa que ya hay una copia de un mismo archivo. Comprobamos que se han subido. "
   ]
  },
  {
   "cell_type": "code",
   "execution_count": 17,
   "metadata": {},
   "outputs": [
    {
     "name": "stdout",
     "output_type": "stream",
     "text": [
      "Found 8 items\r\n",
      "-rw-r--r--   3 root supergroup    6871654 2020-12-15 19:09 /archivos_datos/Foros.csv\r\n",
      "-rw-r--r--   3 root supergroup     172693 2020-12-15 19:09 /archivos_datos/Foros_sucios.csv\r\n",
      "-rw-r--r--   3 root supergroup   45538046 2020-12-15 19:02 /archivos_datos/Online_Retail.csv\r\n",
      "-rw-r--r--   3 root supergroup        158 2020-12-15 19:02 /archivos_datos/docejemplo.txt\r\n",
      "-rw-r--r--   3 root supergroup    2462075 2020-12-15 19:09 /archivos_datos/eventos_alumnos.csv\r\n",
      "-rw-r--r--   3 root supergroup   21445988 2020-12-15 19:18 /archivos_datos/foros.csv\r\n",
      "-rw-r--r--   3 root supergroup     194550 2020-12-15 19:09 /archivos_datos/ventas_ESP.csv\r\n",
      "-rw-r--r--   3 root supergroup   41912234 2020-12-15 19:09 /archivos_datos/ventas_UK.csv\r\n"
     ]
    }
   ],
   "source": [
    "!hdfs dfs -ls /archivos_datos"
   ]
  },
  {
   "cell_type": "markdown",
   "metadata": {},
   "source": [
    "7 - Subimos al HDFS los archivos de los patrones de unión "
   ]
  },
  {
   "cell_type": "code",
   "execution_count": 19,
   "metadata": {},
   "outputs": [],
   "source": [
    "!hdfs dfs -put Tema_6_4_Patrones_de_union/archivos_datos/* /archivos_datos"
   ]
  },
  {
   "cell_type": "markdown",
   "metadata": {},
   "source": [
    "Comprobamos que está todo subido"
   ]
  },
  {
   "cell_type": "code",
   "execution_count": 22,
   "metadata": {},
   "outputs": [
    {
     "name": "stdout",
     "output_type": "stream",
     "text": [
      "Found 12 items\r\n",
      "-rw-r--r--   3 root supergroup    6871654 2020-12-15 19:09 /archivos_datos/Foros.csv\r\n",
      "-rw-r--r--   3 root supergroup     172693 2020-12-15 19:09 /archivos_datos/Foros_sucios.csv\r\n",
      "-rw-r--r--   3 root supergroup   45538046 2020-12-15 19:02 /archivos_datos/Online_Retail.csv\r\n",
      "drwxr-xr-x   - root supergroup          0 2020-12-15 19:27 /archivos_datos/clientes-ventas\r\n",
      "-rw-r--r--   3 root supergroup        158 2020-12-15 19:02 /archivos_datos/docejemplo.txt\r\n",
      "-rw-r--r--   3 root supergroup    2462075 2020-12-15 19:09 /archivos_datos/eventos_alumnos.csv\r\n",
      "-rw-r--r--   3 root supergroup   21445988 2020-12-15 19:18 /archivos_datos/foros.csv\r\n",
      "drwxr-xr-x   - root supergroup          0 2020-12-15 19:27 /archivos_datos/tablaA-tablaB\r\n",
      "drwxr-xr-x   - root supergroup          0 2020-12-15 19:27 /archivos_datos/tiendas-articulos\r\n",
      "drwxr-xr-x   - root supergroup          0 2020-12-15 19:27 /archivos_datos/usuarios-comentarios\r\n",
      "-rw-r--r--   3 root supergroup     194550 2020-12-15 19:09 /archivos_datos/ventas_ESP.csv\r\n",
      "-rw-r--r--   3 root supergroup   41912234 2020-12-15 19:09 /archivos_datos/ventas_UK.csv\r\n"
     ]
    }
   ],
   "source": [
    "!hdfs dfs -ls /archivos_datos"
   ]
  },
  {
   "cell_type": "code",
   "execution_count": 21,
   "metadata": {},
   "outputs": [
    {
     "name": "stdout",
     "output_type": "stream",
     "text": [
      "Found 4 items\n",
      "-rw-r--r--   3 root supergroup        127 2020-12-15 19:27 /archivos_datos/tiendas-articulos/articulos_stock.csv\n",
      "-rw-r--r--   3 root supergroup        126 2020-12-15 19:27 /archivos_datos/tiendas-articulos/articulos_stock2.csv\n",
      "-rw-r--r--   3 root supergroup        129 2020-12-15 19:27 /archivos_datos/tiendas-articulos/articulos_stock3.csv\n",
      "-rw-r--r--   3 root supergroup         69 2020-12-15 19:27 /archivos_datos/tiendas-articulos/tiendas.csv\n"
     ]
    }
   ],
   "source": [
    "!hdfs dfs -ls /archivos_datos/tiendas-articulos"
   ]
  },
  {
   "cell_type": "markdown",
   "metadata": {},
   "source": [
    "¡Ya tenemos todo lo necesario para empezar a probar los patrones!"
   ]
  },
  {
   "cell_type": "markdown",
   "metadata": {},
   "source": []
  }
 ],
 "metadata": {
  "kernelspec": {
   "display_name": "Python 3",
   "language": "python",
   "name": "python3"
  },
  "language_info": {
   "codemirror_mode": {
    "name": "ipython",
    "version": 3
   },
   "file_extension": ".py",
   "mimetype": "text/x-python",
   "name": "python",
   "nbconvert_exporter": "python",
   "pygments_lexer": "ipython3",
   "version": "3.7.3"
  }
 },
 "nbformat": 4,
 "nbformat_minor": 2
}
